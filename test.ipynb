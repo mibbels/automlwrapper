{
 "cells": [
  {
   "cell_type": "markdown",
   "metadata": {},
   "source": [
    "# TODO\n",
    "#### Klassen protecten\n",
    "```\n",
    "import AutoMLWrapper.automlwrapper as aw\n",
    "aw.Configuration.Configuration\n",
    "```\n",
    "\n",
    "#### Erweiterung um Bibliotheken\n",
    "-  @__library.setter\n",
    "    - a) Global/GlobalConfig.yaml\n",
    "        - lib-names\n",
    "        - type mappings\n",
    "    - b) directory durchsuchen \n",
    "- import in AutoMLWrapper anpassen\n",
    "- SEDAR automl.py config locations anpassen\n",
    "\n",
    "### custom proprocessing\n",
    "- typen checken\n",
    "- die wrapper könnten property methods implementieren, die die Rückgabe eines festen samples prüfen\n",
    "\n",
    "### custom parameters\n",
    "\n",
    "\n",
    "### 2+ problem types\n",
    "\n",
    "\n",
    "## mlflow\n",
    "- eigene funktion für mlflow tracking\n",
    "- user übergibt dict mit workspace, ..."
   ]
  },
  {
   "cell_type": "code",
   "execution_count": 1,
   "metadata": {},
   "outputs": [
    {
     "name": "stderr",
     "output_type": "stream",
     "text": [
      "/home/mibbels/miniconda3/envs/automl_env/lib/python3.8/site-packages/tqdm/auto.py:21: TqdmWarning: IProgress not found. Please update jupyter and ipywidgets. See https://ipywidgets.readthedocs.io/en/stable/user_install.html\n",
      "  from .autonotebook import tqdm as notebook_tqdm\n",
      "2023-11-28 16:12:30.009598: I tensorflow/core/platform/cpu_feature_guard.cc:182] This TensorFlow binary is optimized to use available CPU instructions in performance-critical operations.\n",
      "To enable the following instructions: AVX2 AVX512F FMA, in other operations, rebuild TensorFlow with the appropriate compiler flags.\n",
      "2023-11-28 16:12:31.040989: W tensorflow/compiler/tf2tensorrt/utils/py_utils.cc:38] TF-TRT Warning: Could not find TensorRT\n"
     ]
    },
    {
     "name": "stdout",
     "output_type": "stream",
     "text": [
      "Using TensorFlow backend\n"
     ]
    }
   ],
   "source": [
    "import pandas as pd\n",
    "#from automlwrapper import AutoMLWrapper\n",
    "from AutoMLWrapper.automlwrapper import AutoMLWrapper\n"
   ]
  },
  {
   "cell_type": "code",
   "execution_count": 2,
   "metadata": {},
   "outputs": [],
   "source": [
    "df = pd.read_csv('data/glass.csv')\n",
    "user_hp = {'num_trials': 10, 'time_limit': 40, 'memory_limit':7000, 'testtest': 123}\n"
   ]
  },
  {
   "cell_type": "markdown",
   "metadata": {},
   "source": [
    "leaderboard(detailed=True) -> dataframe\n",
    "- type: random_forest\n",
    "- cost: validation loss\n",
    "- duration: ?\n",
    "- data_preprocessoers : name sklearn class?\n",
    ". feature_preprocessors : name sklearn class\n",
    "\n",
    "\n",
    "show_models()\n",
    "- model_id, rank, cost\n",
    "- feature_preprocessor: autosklearn object\n",
    "- data_preprocessor: autosklearn object\n",
    " \n",
    "Alle Parameter res[3]['sklearn_classifier'].get_params()\n",
    "\n",
    "Modell res[3]['sklearn_classifier']\n"
   ]
  },
  {
   "cell_type": "code",
   "execution_count": 3,
   "metadata": {},
   "outputs": [],
   "source": [
    "ask = AutoMLWrapper('autosklearn')\n",
    "ask.SetOutputDirectory('test/ask/6')\n",
    "\n",
    "if 1:\n",
    "    ask.Train(data=df, target_column='Type',\n",
    "        task_type='classification',\n",
    "        data_type='tabular',\n",
    "        problem_type='multiclass',\n",
    "        hyperparameters=user_hp\n",
    "    )"
   ]
  },
  {
   "cell_type": "markdown",
   "metadata": {},
   "source": [
    "## multimodal\n",
    "content in \"fit(save_path)\"\n",
    "    - asset.json - //autogluon info\n",
    "    - config.yaml model+hp\n",
    "    - hparams.yaml\n",
    "    zip + pkl files\n",
    "\n",
    "fit_summary()\n",
    "    {'val_accuracy': 0.956250011920929, 'training_time': 314.0019574165344}\n",
    "\n",
    "hpo\n",
    "    ... !!!\n",
    "\n",
    "## tabular\n",
    "content in TabularPredictor(save_path)\n",
    "    - pkl files\n",
    "    \n",
    "fit_summary()\n",
    "    - performance (kein direktes ranking)\n",
    "    - hp\n",
    "    \n",
    "## timeseries\n",
    "content in TimeSeriesPredictor(save_path)\n",
    "    - pkl files\n",
    "\n",
    "leaderboard()\n",
    "    - model, score\n",
    "\n",
    "fit_summary()\n",
    "    - performance, path, time\n",
    "\n",
    "info()\n",
    "    \n",
    "\n",
    "\n",
    "\n",
    "\n"
   ]
  },
  {
   "cell_type": "code",
   "execution_count": 4,
   "metadata": {},
   "outputs": [],
   "source": [
    "agl = AutoMLWrapper('autogluon')\n",
    "agl.SetOutputDirectory('test/agl')\n",
    "if 0:\n",
    "    agl.Train(data=df, target_column='Type',\n",
    "       task_type='classification',\n",
    "       data_type='tabular',\n",
    "       problem_type='multiclass',\n",
    "       hyperparameters=user_hp\n",
    "   )\n"
   ]
  },
  {
   "cell_type": "code",
   "execution_count": 5,
   "metadata": {},
   "outputs": [],
   "source": [
    "akr = AutoMLWrapper('autokeras')\n",
    "akr.SetOutputDirectory('test/akr')\n",
    "if 0:\n",
    "    akr.Train(data=df, target_column='Type',\n",
    "        task_type='classification',\n",
    "        data_type='tabular',\n",
    "        problem_type='multiclass',\n",
    "        hyperparameters=user_hp\n",
    "    )"
   ]
  },
  {
   "cell_type": "markdown",
   "metadata": {},
   "source": [
    "# MLFlow\n",
    "~/miniconda3/envs/automl_env/bin/pip"
   ]
  },
  {
   "cell_type": "code",
   "execution_count": 18,
   "metadata": {},
   "outputs": [
    {
     "data": {
      "text/plain": [
       "<Experiment: artifact_location='/home/mibbels/sedar-masterarbeit/sedar/sedar/automl/tmp/artifacts', creation_time=1701189486674, experiment_id='5', last_update_time=1701189486674, lifecycle_stage='active', name='test_automl', tags={}>"
      ]
     },
     "execution_count": 18,
     "metadata": {},
     "output_type": "execute_result"
    }
   ],
   "source": [
    "import mlflow\n",
    "#experiment_id = mlflow.create_experiment('test_automl', artifact_location='/home/mibbels/sedar-masterarbeit/sedar/sedar/automl/tmp/artifacts')\n",
    "\n",
    "experiment = mlflow.get_experiment_by_name('test_automl')\n",
    "experiment_id = experiment.experiment_id\n",
    "remote_server_uri = \"http://localhost:6798\"\n",
    "mlflow.set_tracking_uri(remote_server_uri) \n",
    "mlflow.set_experiment(experiment_id=experiment_id)"
   ]
  },
  {
   "cell_type": "code",
   "execution_count": 10,
   "metadata": {},
   "outputs": [],
   "source": []
  },
  {
   "cell_type": "code",
   "execution_count": 8,
   "metadata": {},
   "outputs": [],
   "source": [
    "out = ask.Output()"
   ]
  },
  {
   "cell_type": "code",
   "execution_count": 20,
   "metadata": {},
   "outputs": [],
   "source": [
    "#ask.MlflowUploadBest({})\n",
    "#ask.MlflowUploadTopN(3, {})"
   ]
  },
  {
   "cell_type": "code",
   "execution_count": 12,
   "metadata": {},
   "outputs": [],
   "source": [
    "\n",
    "with mlflow.start_run() as run:\n",
    "       mlflow.set_tag(\"testing\",\"automlwrapper\")\n",
    "       mlflow.log_param(\"dataset\",\"glass\")  \n",
    "\n",
    "       for item in out:\n",
    "        for key, value in item['tags'].items():\n",
    "            mlflow.set_tag(key, str(value))\n",
    "        for key, value in item['params'].items():\n",
    "            mlflow.log_param(key, value)\n",
    "        for key, value in item['metrics'].items():\n",
    "            mlflow.log_metric(key, value)          \n",
    "\n",
    "\n",
    "   "
   ]
  }
 ],
 "metadata": {
  "kernelspec": {
   "display_name": "AutoML",
   "language": "python",
   "name": "python3"
  },
  "language_info": {
   "codemirror_mode": {
    "name": "ipython",
    "version": 3
   },
   "file_extension": ".py",
   "mimetype": "text/x-python",
   "name": "python",
   "nbconvert_exporter": "python",
   "pygments_lexer": "ipython3",
   "version": "3.8.18"
  }
 },
 "nbformat": 4,
 "nbformat_minor": 2
}

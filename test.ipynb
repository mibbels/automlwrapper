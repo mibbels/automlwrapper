{
 "cells": [
  {
   "cell_type": "markdown",
   "metadata": {},
   "source": [
    "# TODO\n",
    "#### Klassen protecten\n",
    "```\n",
    "import AutoMLWrapper.automlwrapper as aw\n",
    "aw.Configuration.Configuration\n",
    "```\n",
    "\n",
    "#### Erweiterung um Bibliotheken\n",
    "-  @__library.setter\n",
    "    - a) Global/GlobalConfig.yaml\n",
    "        - lib-names\n",
    "        - type mappings\n",
    "    - b) directory durchsuchen \n",
    "- import in AutoMLWrapper anpassen\n",
    "- SEDAR automl.py config locations anpassen\n",
    "\n",
    "### custom proprocessing\n",
    "- typen checken\n",
    "- die wrapper könnten property methods implementieren, die die Rückgabe eines festen samples prüfen\n",
    "\n",
    "### custom parameters\n",
    "\n",
    "\n",
    "### 2+ problem types"
   ]
  },
  {
   "cell_type": "code",
   "execution_count": 1,
   "metadata": {},
   "outputs": [
    {
     "name": "stderr",
     "output_type": "stream",
     "text": [
      "2024-01-07 20:34:19.083745: I tensorflow/tsl/cuda/cudart_stub.cc:28] Could not find cuda drivers on your machine, GPU will not be used.\n",
      "2024-01-07 20:34:19.144055: I tensorflow/tsl/cuda/cudart_stub.cc:28] Could not find cuda drivers on your machine, GPU will not be used.\n",
      "2024-01-07 20:34:19.145178: I tensorflow/core/platform/cpu_feature_guard.cc:182] This TensorFlow binary is optimized to use available CPU instructions in performance-critical operations.\n",
      "To enable the following instructions: AVX2 AVX512F FMA, in other operations, rebuild TensorFlow with the appropriate compiler flags.\n",
      "2024-01-07 20:34:20.242791: W tensorflow/compiler/tf2tensorrt/utils/py_utils.cc:38] TF-TRT Warning: Could not find TensorRT\n",
      "/home/mibbels/miniconda3/envs/automl_env/lib/python3.8/site-packages/tqdm/auto.py:21: TqdmWarning: IProgress not found. Please update jupyter and ipywidgets. See https://ipywidgets.readthedocs.io/en/stable/user_install.html\n",
      "  from .autonotebook import tqdm as notebook_tqdm\n"
     ]
    },
    {
     "name": "stdout",
     "output_type": "stream",
     "text": [
      "Using TensorFlow backend\n"
     ]
    }
   ],
   "source": [
    "import io\n",
    "import mlflow\n",
    "import pandas as pd\n",
    "import numpy as np\n",
    "from PIL import Image\n",
    "\n",
    "from AutoMLWrapper.tests import DataSamples\n",
    "\n",
    "#from automlwrapper import AutoMLWrapper\n",
    "from AutoMLWrapper.automlwrapper import AutoMLWrapper\n",
    "\n"
   ]
  },
  {
   "cell_type": "code",
   "execution_count": 2,
   "metadata": {},
   "outputs": [],
   "source": [
    "RUN_ALL = 0\n",
    "UPLOAD_ALL = 0\n",
    "\n",
    "RUN_KERAS = 0\n",
    "UPLOAD_KERAS = 0\n",
    "\n",
    "RUN_SKLEARN = 0\n",
    "UPLOAD_SKLEARN = 0\n",
    "\n",
    "RUN_GLUON = 0\n",
    "UPLOAD_GLUON = 0\n",
    "\n",
    "user_hp = {'epochs':20, 'time_limit': 360, 'memory_limit':7000, 'testtest': 123, 'num_trials': 4,}"
   ]
  },
  {
   "cell_type": "code",
   "execution_count": 3,
   "metadata": {},
   "outputs": [],
   "source": [
    "MLFLOW = 0\n",
    "\n",
    "if MLFLOW:\n",
    "    \n",
    "    # #experiment_id = mlflow.create_experiment('test_automl', artifact_location='/home/mibbels/sedar-masterarbeit/sedar/sedar/automl/tmp/artifacts')\n",
    "    \n",
    "    experiment_id = 5\n",
    "    remote_server_uri = \"http://127.0.0.1:6798\"\n",
    "    mlflow.set_tracking_uri(remote_server_uri) \n",
    "    mlflow.set_experiment(experiment_id=experiment_id)"
   ]
  },
  {
   "cell_type": "markdown",
   "metadata": {},
   "source": [
    "# Daten"
   ]
  },
  {
   "cell_type": "code",
   "execution_count": 4,
   "metadata": {},
   "outputs": [
    {
     "name": "stdout",
     "output_type": "stream",
     "text": [
      "loading annotations into memory...\n",
      "Done (t=0.00s)\n",
      "creating index...\n",
      "index created!\n"
     ]
    }
   ],
   "source": [
    "\"\"\" Bilddaten \"\"\"\n",
    "#mnist_byte_df = DataSamples.create_mnist_bytearray_df(label_col='label', n_samples=-1)\n",
    "shopee_path_df = DataSamples.create_shopee_df(is_bytearray = False, n_samples=-1)\n",
    "#mnist_tp = DataSamples.create_mnist_tuple(n_samples=-1)\n",
    "#leaf_df = DataSamples.create_leaf_df(n_samples=-1)\n",
    "\n",
    "coco_df = DataSamples.create_coco_motorbike_df(n_samples=-1)\n",
    "\n",
    "\"\"\" Textdaten \"\"\"\n",
    "#sentiment_df = DataSamples.create_sentiment_treebank_df(n_samples=-1)\n",
    "mloc_df = DataSamples.create_mloc_df(n_samples=-1)\n",
    "\n",
    "\"\"\" Tabellendaten \"\"\"\n",
    "glass_df = DataSamples.create_glass_df()\n",
    "\n",
    "\"\"\" Timeseries \"\"\"\n",
    "m4_df = DataSamples.create_m4_df(n_samples=-1)"
   ]
  },
  {
   "cell_type": "code",
   "execution_count": 5,
   "metadata": {},
   "outputs": [
    {
     "data": {
      "text/html": [
       "<div>\n",
       "<style scoped>\n",
       "    .dataframe tbody tr th:only-of-type {\n",
       "        vertical-align: middle;\n",
       "    }\n",
       "\n",
       "    .dataframe tbody tr th {\n",
       "        vertical-align: top;\n",
       "    }\n",
       "\n",
       "    .dataframe thead th {\n",
       "        text-align: right;\n",
       "    }\n",
       "</style>\n",
       "<table border=\"1\" class=\"dataframe\">\n",
       "  <thead>\n",
       "    <tr style=\"text-align: right;\">\n",
       "      <th></th>\n",
       "      <th>image</th>\n",
       "      <th>rois</th>\n",
       "      <th>label</th>\n",
       "    </tr>\n",
       "  </thead>\n",
       "  <tbody>\n",
       "    <tr>\n",
       "      <th>0</th>\n",
       "      <td>./data/tiny_motorbike_coco/tiny_motorbike/Anno...</td>\n",
       "      <td>[[352.0, 138.0, 499.0, 374.0, 7], [105.0, 1.0,...</td>\n",
       "      <td>[[352.0, 138.0, 499.0, 374.0, 7], [105.0, 1.0,...</td>\n",
       "    </tr>\n",
       "    <tr>\n",
       "      <th>1</th>\n",
       "      <td>./data/tiny_motorbike_coco/tiny_motorbike/Anno...</td>\n",
       "      <td>[[40.0, 71.0, 332.0, 472.0, 7], [33.0, 42.0, 3...</td>\n",
       "      <td>[[40.0, 71.0, 332.0, 472.0, 7], [33.0, 42.0, 3...</td>\n",
       "    </tr>\n",
       "    <tr>\n",
       "      <th>2</th>\n",
       "      <td>./data/tiny_motorbike_coco/tiny_motorbike/Anno...</td>\n",
       "      <td>[[52.0, 22.0, 307.0, 327.0, 8], [26.0, 108.0, ...</td>\n",
       "      <td>[[52.0, 22.0, 307.0, 327.0, 8], [26.0, 108.0, ...</td>\n",
       "    </tr>\n",
       "    <tr>\n",
       "      <th>3</th>\n",
       "      <td>./data/tiny_motorbike_coco/tiny_motorbike/Anno...</td>\n",
       "      <td>[[114.0, 154.0, 368.0, 347.0, 7], [292.0, 49.0...</td>\n",
       "      <td>[[114.0, 154.0, 368.0, 347.0, 7], [292.0, 49.0...</td>\n",
       "    </tr>\n",
       "    <tr>\n",
       "      <th>4</th>\n",
       "      <td>./data/tiny_motorbike_coco/tiny_motorbike/Anno...</td>\n",
       "      <td>[[120.0, 333.0, 309.0, 463.0, 7]]</td>\n",
       "      <td>[[120.0, 333.0, 309.0, 463.0, 7]]</td>\n",
       "    </tr>\n",
       "    <tr>\n",
       "      <th>...</th>\n",
       "      <td>...</td>\n",
       "      <td>...</td>\n",
       "      <td>...</td>\n",
       "    </tr>\n",
       "    <tr>\n",
       "      <th>164</th>\n",
       "      <td>./data/tiny_motorbike_coco/tiny_motorbike/Anno...</td>\n",
       "      <td>[[1.0, 143.0, 111.0, 235.0, 7], [164.0, 114.0,...</td>\n",
       "      <td>[[1.0, 143.0, 111.0, 235.0, 7], [164.0, 114.0,...</td>\n",
       "    </tr>\n",
       "    <tr>\n",
       "      <th>165</th>\n",
       "      <td>./data/tiny_motorbike_coco/tiny_motorbike/Anno...</td>\n",
       "      <td>[[1.0, 187.0, 496.0, 332.0, 7], [124.0, 15.0, ...</td>\n",
       "      <td>[[1.0, 187.0, 496.0, 332.0, 7], [124.0, 15.0, ...</td>\n",
       "    </tr>\n",
       "    <tr>\n",
       "      <th>166</th>\n",
       "      <td>./data/tiny_motorbike_coco/tiny_motorbike/Anno...</td>\n",
       "      <td>[[205.0, 24.0, 379.0, 286.0, 8], [118.0, 82.0,...</td>\n",
       "      <td>[[205.0, 24.0, 379.0, 286.0, 8], [118.0, 82.0,...</td>\n",
       "    </tr>\n",
       "    <tr>\n",
       "      <th>167</th>\n",
       "      <td>./data/tiny_motorbike_coco/tiny_motorbike/Anno...</td>\n",
       "      <td>[[192.0, 48.0, 320.0, 365.0, 8], [39.0, 123.0,...</td>\n",
       "      <td>[[192.0, 48.0, 320.0, 365.0, 8], [39.0, 123.0,...</td>\n",
       "    </tr>\n",
       "    <tr>\n",
       "      <th>168</th>\n",
       "      <td>./data/tiny_motorbike_coco/tiny_motorbike/Anno...</td>\n",
       "      <td>[[137.0, 55.0, 319.0, 339.0, 7], [242.0, 1.0, ...</td>\n",
       "      <td>[[137.0, 55.0, 319.0, 339.0, 7], [242.0, 1.0, ...</td>\n",
       "    </tr>\n",
       "  </tbody>\n",
       "</table>\n",
       "<p>169 rows × 3 columns</p>\n",
       "</div>"
      ],
      "text/plain": [
       "                                                 image  \\\n",
       "0    ./data/tiny_motorbike_coco/tiny_motorbike/Anno...   \n",
       "1    ./data/tiny_motorbike_coco/tiny_motorbike/Anno...   \n",
       "2    ./data/tiny_motorbike_coco/tiny_motorbike/Anno...   \n",
       "3    ./data/tiny_motorbike_coco/tiny_motorbike/Anno...   \n",
       "4    ./data/tiny_motorbike_coco/tiny_motorbike/Anno...   \n",
       "..                                                 ...   \n",
       "164  ./data/tiny_motorbike_coco/tiny_motorbike/Anno...   \n",
       "165  ./data/tiny_motorbike_coco/tiny_motorbike/Anno...   \n",
       "166  ./data/tiny_motorbike_coco/tiny_motorbike/Anno...   \n",
       "167  ./data/tiny_motorbike_coco/tiny_motorbike/Anno...   \n",
       "168  ./data/tiny_motorbike_coco/tiny_motorbike/Anno...   \n",
       "\n",
       "                                                  rois  \\\n",
       "0    [[352.0, 138.0, 499.0, 374.0, 7], [105.0, 1.0,...   \n",
       "1    [[40.0, 71.0, 332.0, 472.0, 7], [33.0, 42.0, 3...   \n",
       "2    [[52.0, 22.0, 307.0, 327.0, 8], [26.0, 108.0, ...   \n",
       "3    [[114.0, 154.0, 368.0, 347.0, 7], [292.0, 49.0...   \n",
       "4                    [[120.0, 333.0, 309.0, 463.0, 7]]   \n",
       "..                                                 ...   \n",
       "164  [[1.0, 143.0, 111.0, 235.0, 7], [164.0, 114.0,...   \n",
       "165  [[1.0, 187.0, 496.0, 332.0, 7], [124.0, 15.0, ...   \n",
       "166  [[205.0, 24.0, 379.0, 286.0, 8], [118.0, 82.0,...   \n",
       "167  [[192.0, 48.0, 320.0, 365.0, 8], [39.0, 123.0,...   \n",
       "168  [[137.0, 55.0, 319.0, 339.0, 7], [242.0, 1.0, ...   \n",
       "\n",
       "                                                 label  \n",
       "0    [[352.0, 138.0, 499.0, 374.0, 7], [105.0, 1.0,...  \n",
       "1    [[40.0, 71.0, 332.0, 472.0, 7], [33.0, 42.0, 3...  \n",
       "2    [[52.0, 22.0, 307.0, 327.0, 8], [26.0, 108.0, ...  \n",
       "3    [[114.0, 154.0, 368.0, 347.0, 7], [292.0, 49.0...  \n",
       "4                    [[120.0, 333.0, 309.0, 463.0, 7]]  \n",
       "..                                                 ...  \n",
       "164  [[1.0, 143.0, 111.0, 235.0, 7], [164.0, 114.0,...  \n",
       "165  [[1.0, 187.0, 496.0, 332.0, 7], [124.0, 15.0, ...  \n",
       "166  [[205.0, 24.0, 379.0, 286.0, 8], [118.0, 82.0,...  \n",
       "167  [[192.0, 48.0, 320.0, 365.0, 8], [39.0, 123.0,...  \n",
       "168  [[137.0, 55.0, 319.0, 339.0, 7], [242.0, 1.0, ...  \n",
       "\n",
       "[169 rows x 3 columns]"
      ]
     },
     "execution_count": 5,
     "metadata": {},
     "output_type": "execute_result"
    }
   ],
   "source": [
    "coco_df"
   ]
  },
  {
   "cell_type": "code",
   "execution_count": 6,
   "metadata": {},
   "outputs": [],
   "source": [
    "ask = AutoMLWrapper('autosklearn')\n",
    "ask.SetOutputDirectory('test/ask/2')\n",
    "\n",
    "if RUN_ALL or RUN_SKLEARN:\n",
    "    ask.Train(\n",
    "        data=mnist_byte_df,\n",
    "        target_column='Type',\n",
    "        task_type='classification',\n",
    "        data_type='tabular',\n",
    "        problem_type='multiclass',\n",
    "        hyperparameters=user_hp\n",
    "    )\n",
    "\n",
    "\n",
    "if UPLOAD_ALL or UPLOAD_SKLEARN:\n",
    "    print(ask.Output())\n",
    "    ask.MlflowUploadBest({})"
   ]
  },
  {
   "cell_type": "code",
   "execution_count": 7,
   "metadata": {},
   "outputs": [],
   "source": [
    "agl = AutoMLWrapper('autogluon')\n",
    "agl.SetOutputDirectory('test/agl/8')\n",
    "\n",
    "if RUN_ALL or RUN_GLUON: \n",
    "    agl.Train(\n",
    "        data=mnist_byte_df,\n",
    "        target_column='label',\n",
    "        data_type='image',\n",
    "        task_type='zero-shot-classification',        \n",
    "        problem_type='multiclass',\n",
    "        hyperparameters=user_hp\n",
    "   )\n",
    "    \n",
    "if UPLOAD_ALL or UPLOAD_GLUON:\n",
    "    print(agl.Output())\n",
    "    agl.MlflowUploadBest({})"
   ]
  },
  {
   "cell_type": "code",
   "execution_count": 8,
   "metadata": {},
   "outputs": [],
   "source": [
    "akr = AutoMLWrapper('autokeras')\n",
    "akr.SetOutputDirectory('test/akr/1')\n",
    "\n",
    "if RUN_ALL or RUN_KERAS:\n",
    "    akr.Train(data=df_mnist, target_column='Type',\n",
    "        task_type='classification',\n",
    "        data_type='image',\n",
    "        problem_type='multiclass',\n",
    "        hyperparameters=user_hp\n",
    "    )\n",
    "\n",
    "if UPLOAD_ALL or UPLOAD_KERAS:\n",
    "    print(akr.Output())\n",
    "    akr.MlflowUploadBest({})"
   ]
  },
  {
   "cell_type": "markdown",
   "metadata": {},
   "source": [
    "# MLFlow\n",
    "~/miniconda3/envs/automl_env/bin/pip"
   ]
  },
  {
   "cell_type": "code",
   "execution_count": 9,
   "metadata": {},
   "outputs": [],
   "source": [
    "if MLFLOW:\n",
    "    df = df_glass.drop(columns=['Type'])\n",
    "    logged_model = 'runs:/a0337b9ecfe84e99b59ff3a9639f1ef6/model'\n",
    "    loaded_model = mlflow.pyfunc.load_model(logged_model)\n",
    "\n",
    "    #loaded_model.predict(test_data_byte)"
   ]
  },
  {
   "cell_type": "markdown",
   "metadata": {},
   "source": [
    "# SEDAR API"
   ]
  },
  {
   "cell_type": "code",
   "execution_count": 1,
   "metadata": {},
   "outputs": [
    {
     "name": "stderr",
     "output_type": "stream",
     "text": [
      "2024-01-09 20:43:03.991473: I tensorflow/tsl/cuda/cudart_stub.cc:28] Could not find cuda drivers on your machine, GPU will not be used.\n",
      "2024-01-09 20:43:04.051907: I tensorflow/tsl/cuda/cudart_stub.cc:28] Could not find cuda drivers on your machine, GPU will not be used.\n",
      "2024-01-09 20:43:04.053049: I tensorflow/core/platform/cpu_feature_guard.cc:182] This TensorFlow binary is optimized to use available CPU instructions in performance-critical operations.\n",
      "To enable the following instructions: AVX2 AVX512F FMA, in other operations, rebuild TensorFlow with the appropriate compiler flags.\n",
      "2024-01-09 20:43:05.154675: W tensorflow/compiler/tf2tensorrt/utils/py_utils.cc:38] TF-TRT Warning: Could not find TensorRT\n",
      "/home/mibbels/miniconda3/envs/automl_env/lib/python3.8/site-packages/tqdm/auto.py:21: TqdmWarning: IProgress not found. Please update jupyter and ipywidgets. See https://ipywidgets.readthedocs.io/en/stable/user_install.html\n",
      "  from .autonotebook import tqdm as notebook_tqdm\n"
     ]
    },
    {
     "name": "stdout",
     "output_type": "stream",
     "text": [
      "Using TensorFlow backend\n"
     ]
    }
   ],
   "source": []
  },
  {
   "cell_type": "markdown",
   "metadata": {},
   "source": [
    "# DataLoader TODO\n",
    "- sedar api raw sourcedata\n",
    "- sedar api get_all_images (image metadata)\n",
    "\n",
    "- query_sourcedata nur structured\n",
    "    - image\n",
    "    - unstructured\n",
    "    - semistructured\n",
    "\n",
    "- keras format\n",
    "\n",
    "# Ingestion\n",
    "- metadaten?"
   ]
  },
  {
   "cell_type": "code",
   "execution_count": 1,
   "metadata": {},
   "outputs": [
    {
     "name": "stderr",
     "output_type": "stream",
     "text": [
      "2024-01-16 09:40:31.630858: I tensorflow/tsl/cuda/cudart_stub.cc:28] Could not find cuda drivers on your machine, GPU will not be used.\n",
      "2024-01-16 09:40:31.689904: I tensorflow/tsl/cuda/cudart_stub.cc:28] Could not find cuda drivers on your machine, GPU will not be used.\n",
      "2024-01-16 09:40:31.690890: I tensorflow/core/platform/cpu_feature_guard.cc:182] This TensorFlow binary is optimized to use available CPU instructions in performance-critical operations.\n",
      "To enable the following instructions: AVX2 AVX512F FMA, in other operations, rebuild TensorFlow with the appropriate compiler flags.\n",
      "2024-01-16 09:40:32.688884: W tensorflow/compiler/tf2tensorrt/utils/py_utils.cc:38] TF-TRT Warning: Could not find TensorRT\n",
      "/home/mibbels/miniconda3/envs/automl_env/lib/python3.8/site-packages/tqdm/auto.py:21: TqdmWarning: IProgress not found. Please update jupyter and ipywidgets. See https://ipywidgets.readthedocs.io/en/stable/user_install.html\n",
      "  from .autonotebook import tqdm as notebook_tqdm\n"
     ]
    },
    {
     "name": "stdout",
     "output_type": "stream",
     "text": [
      "Using TensorFlow backend\n"
     ]
    }
   ],
   "source": [
    "from sedarapi import SedarAPI\n",
    "from AutoMLWrapper.automlwrapper.SedarDataLoader import SedarDataLoader\n"
   ]
  },
  {
   "cell_type": "code",
   "execution_count": 2,
   "metadata": {},
   "outputs": [
    {
     "name": "stderr",
     "output_type": "stream",
     "text": [
      "INFO:SedarAPI-Logger:Login successful\n"
     ]
    },
    {
     "name": "stderr",
     "output_type": "stream",
     "text": [
      "WARNING:SedarAPI-Logger:Component Apache Jena Fuseki is not alive.\n",
      "WARNING:SedarAPI-Logger:Component Jupyter - SingleUser is not alive.\n",
      "WARNING:SedarAPI-Logger:Component WebVOWL is not alive.\n",
      "WARNING:SedarAPI-Logger:Component Ingestion - Service is not alive.\n",
      "WARNING:SedarAPI-Logger:Component Schema & Metadata - Service is not alive.\n",
      "WARNING:SedarAPI-Logger:Component Continuation - Service is not alive.\n",
      "WARNING:SedarAPI-Logger:Component Profiling - Service is not alive.\n"
     ]
    },
    {
     "data": {
      "text/plain": [
       "<sedarapi.user.User at 0x7ff113ff6e20>"
      ]
     },
     "execution_count": 2,
     "metadata": {},
     "output_type": "execute_result"
    }
   ],
   "source": [
    "base_url = \"http://192.168.220.107:5000\"\n",
    "email = \"admin\"\n",
    "password = \"admin\"\n",
    "\n",
    "sedar = SedarAPI(base_url)\n",
    "sedar.connection.logger.setLevel(\"INFO\")\n",
    "sedar.login(email, password)"
   ]
  },
  {
   "cell_type": "code",
   "execution_count": 3,
   "metadata": {},
   "outputs": [
    {
     "name": "stdout",
     "output_type": "stream",
     "text": [
      "INFO: the data has been written to: ./data/sedar_raw/test/gitterschnitte_train.zip\n"
     ]
    }
   ],
   "source": [
    "workspace_id = '13b4787c3e454649aa05a4cd680edc37'\n",
    "dataset_id = '324ea420125d4167a76151b62368c4ad'\n",
    "\n",
    "# b5b74391e41e4634a54d5cffa059663b - coco_22_train_v1 \n",
    "# 324ea420125d4167a76151b62368c4ad - gitter_train_v1\n",
    "# 513c6b1ee46b478c8e0925a098d2f387  - test classification 1 img each class\n",
    "\n",
    "from AutoMLWrapper.automlwrapper.SedarDataLoader import SedarDataLoader\n",
    "\n",
    "DataLoader = SedarDataLoader(sedar)\n",
    "loc = DataLoader.query_data(workspace_id, dataset_id, file_save_location='./data/sedar_raw/test')"
   ]
  },
  {
   "cell_type": "code",
   "execution_count": 4,
   "metadata": {},
   "outputs": [
    {
     "data": {
      "text/html": [
       "<div>\n",
       "<style scoped>\n",
       "    .dataframe tbody tr th:only-of-type {\n",
       "        vertical-align: middle;\n",
       "    }\n",
       "\n",
       "    .dataframe tbody tr th {\n",
       "        vertical-align: top;\n",
       "    }\n",
       "\n",
       "    .dataframe thead th {\n",
       "        text-align: right;\n",
       "    }\n",
       "</style>\n",
       "<table border=\"1\" class=\"dataframe\">\n",
       "  <thead>\n",
       "    <tr style=\"text-align: right;\">\n",
       "      <th></th>\n",
       "      <th>image</th>\n",
       "      <th>mask</th>\n",
       "    </tr>\n",
       "  </thead>\n",
       "  <tbody>\n",
       "    <tr>\n",
       "      <th>0</th>\n",
       "      <td>./data/sedar_raw/test/test_coco/gitterschnitte...</td>\n",
       "      <td>./data/sedar_raw/test/test_coco/gitterschnitte...</td>\n",
       "    </tr>\n",
       "    <tr>\n",
       "      <th>1</th>\n",
       "      <td>./data/sedar_raw/test/test_coco/gitterschnitte...</td>\n",
       "      <td>./data/sedar_raw/test/test_coco/gitterschnitte...</td>\n",
       "    </tr>\n",
       "    <tr>\n",
       "      <th>2</th>\n",
       "      <td>./data/sedar_raw/test/test_coco/gitterschnitte...</td>\n",
       "      <td>./data/sedar_raw/test/test_coco/gitterschnitte...</td>\n",
       "    </tr>\n",
       "    <tr>\n",
       "      <th>3</th>\n",
       "      <td>./data/sedar_raw/test/test_coco/gitterschnitte...</td>\n",
       "      <td>./data/sedar_raw/test/test_coco/gitterschnitte...</td>\n",
       "    </tr>\n",
       "    <tr>\n",
       "      <th>4</th>\n",
       "      <td>./data/sedar_raw/test/test_coco/gitterschnitte...</td>\n",
       "      <td>./data/sedar_raw/test/test_coco/gitterschnitte...</td>\n",
       "    </tr>\n",
       "    <tr>\n",
       "      <th>...</th>\n",
       "      <td>...</td>\n",
       "      <td>...</td>\n",
       "    </tr>\n",
       "    <tr>\n",
       "      <th>170</th>\n",
       "      <td>./data/sedar_raw/test/test_coco/gitterschnitte...</td>\n",
       "      <td>./data/sedar_raw/test/test_coco/gitterschnitte...</td>\n",
       "    </tr>\n",
       "    <tr>\n",
       "      <th>171</th>\n",
       "      <td>./data/sedar_raw/test/test_coco/gitterschnitte...</td>\n",
       "      <td>./data/sedar_raw/test/test_coco/gitterschnitte...</td>\n",
       "    </tr>\n",
       "    <tr>\n",
       "      <th>172</th>\n",
       "      <td>./data/sedar_raw/test/test_coco/gitterschnitte...</td>\n",
       "      <td>./data/sedar_raw/test/test_coco/gitterschnitte...</td>\n",
       "    </tr>\n",
       "    <tr>\n",
       "      <th>173</th>\n",
       "      <td>./data/sedar_raw/test/test_coco/gitterschnitte...</td>\n",
       "      <td>./data/sedar_raw/test/test_coco/gitterschnitte...</td>\n",
       "    </tr>\n",
       "    <tr>\n",
       "      <th>174</th>\n",
       "      <td>./data/sedar_raw/test/test_coco/gitterschnitte...</td>\n",
       "      <td>./data/sedar_raw/test/test_coco/gitterschnitte...</td>\n",
       "    </tr>\n",
       "  </tbody>\n",
       "</table>\n",
       "<p>175 rows × 2 columns</p>\n",
       "</div>"
      ],
      "text/plain": [
       "                                                 image  \\\n",
       "0    ./data/sedar_raw/test/test_coco/gitterschnitte...   \n",
       "1    ./data/sedar_raw/test/test_coco/gitterschnitte...   \n",
       "2    ./data/sedar_raw/test/test_coco/gitterschnitte...   \n",
       "3    ./data/sedar_raw/test/test_coco/gitterschnitte...   \n",
       "4    ./data/sedar_raw/test/test_coco/gitterschnitte...   \n",
       "..                                                 ...   \n",
       "170  ./data/sedar_raw/test/test_coco/gitterschnitte...   \n",
       "171  ./data/sedar_raw/test/test_coco/gitterschnitte...   \n",
       "172  ./data/sedar_raw/test/test_coco/gitterschnitte...   \n",
       "173  ./data/sedar_raw/test/test_coco/gitterschnitte...   \n",
       "174  ./data/sedar_raw/test/test_coco/gitterschnitte...   \n",
       "\n",
       "                                                  mask  \n",
       "0    ./data/sedar_raw/test/test_coco/gitterschnitte...  \n",
       "1    ./data/sedar_raw/test/test_coco/gitterschnitte...  \n",
       "2    ./data/sedar_raw/test/test_coco/gitterschnitte...  \n",
       "3    ./data/sedar_raw/test/test_coco/gitterschnitte...  \n",
       "4    ./data/sedar_raw/test/test_coco/gitterschnitte...  \n",
       "..                                                 ...  \n",
       "170  ./data/sedar_raw/test/test_coco/gitterschnitte...  \n",
       "171  ./data/sedar_raw/test/test_coco/gitterschnitte...  \n",
       "172  ./data/sedar_raw/test/test_coco/gitterschnitte...  \n",
       "173  ./data/sedar_raw/test/test_coco/gitterschnitte...  \n",
       "174  ./data/sedar_raw/test/test_coco/gitterschnitte...  \n",
       "\n",
       "[175 rows x 2 columns]"
      ]
     },
     "execution_count": 4,
     "metadata": {},
     "output_type": "execute_result"
    }
   ],
   "source": [
    "DataLoader.zip_to_segmentation_df_gluon(loc[0], './data/sedar_raw/test/test_coco')"
   ]
  },
  {
   "cell_type": "code",
   "execution_count": 4,
   "metadata": {},
   "outputs": [],
   "source": [
    "\n",
    "\n",
    "\n",
    "\n",
    "if 1:\n",
    "    ws = sedar.get_workspace('13b4787c3e454649aa05a4cd680edc37')\n",
    "    dataset = ws.get_dataset('324ea420125d4167a76151b62368c4ad')\n",
    "    \n",
    "    # try:\n",
    "    #     success = dataset.delete()\n",
    "    #     if success:\n",
    "    #         print(\"Dataset deleted successfully.\")\n",
    "    # except Exception as e:\n",
    "    #     print(e)\n"
   ]
  },
  {
   "cell_type": "code",
   "execution_count": 6,
   "metadata": {},
   "outputs": [
    {
     "name": "stdout",
     "output_type": "stream",
     "text": [
      "{'id': '324ea420125d4167a76151b62368c4ad', 'title': 'gitterschnitte_train_v1', 'description': None, 'owner': {'email': 'maximilian.ibbels@stud.hn.de', 'firstname': 'Maximilian', 'lastname': 'Ibbels', 'isAdmin': True, 'username': 'mibbels'}, 'createdOn': '11.01.2024', 'lastUpdatedOn': '11.01.2024', 'datasource': {'id': '659ff8c9ce53d5d4b1dda643', 'currentRevision': 0, 'revisions': [{'id_column': None, 'number': 0, 'created': '11/01/2024, 14:18:49', 'name': 'INGESTION_gitterschnitte_train_v1', 'spark_packages': [], 'source_files': ['r000_gitterschnitte_train.zip'], 'read_type': 'IMAGE', 'read_format': None, 'read_options': {}, 'update_for': None, 'write_type': 'DEFAULT', 'write_format': None, 'write_options': {}, 'write_mode': 'overwrite', 'continuation_timers': [], 'plugin_files': [], 'plugin_packages': []}], 'lates_ingestion': 0, 'last_successful_ingestion': 0, 'ingestions': [{'number': 0, 'state': 'FINISHED', 'revision': 0, 'started': '2024-01-11 14:18:58', 'ended': '2024-01-11 14:18:59', 'error': None}]}, 'tags': [], 'isPublic': True, 'isIndexed': False, 'language': None, 'isUpdateFor': False, 'isFavorite': False, 'polymorph': [], 'schema': {'id': '969489e3ead6488f8867e3f9e6ad65b8', 'type': 'IMAGE', 'imageEntity': [{'id': 'd1db580764434a339a4c8bd1b136d63d', 'pathFull': 'gitterschnitte_train/image/143.png', 'imageHeight': '256', 'imageWidth': '256', 'bitsPerPixel': '8', 'colorMode': 'GRAY', 'format': 'png'}, {'id': '5b9e2f545baf4dbc9d92adaf92d0fb3e', 'pathFull': 'gitterschnitte_train/mask/99.png', 'imageHeight': '256', 'imageWidth': '256', 'bitsPerPixel': '1', 'colorMode': 'RGB', 'format': 'png'}, {'id': 'd240ee6bb7ca46f6974d754531d3dce1', 'pathFull': 'gitterschnitte_train/mask/98.png', 'imageHeight': '256', 'imageWidth': '256', 'bitsPerPixel': '1', 'colorMode': 'RGB', 'format': 'png'}, {'id': 'd71443956e9944868973cad10d31b5ed', 'pathFull': 'gitterschnitte_train/mask/97.png', 'imageHeight': '256', 'imageWidth': '256', 'bitsPerPixel': '1', 'colorMode': 'RGB', 'format': 'png'}, {'id': '95d81f295d024419b3cb6cc0f0b57786', 'pathFull': 'gitterschnitte_train/mask/96.png', 'imageHeight': '256', 'imageWidth': '256', 'bitsPerPixel': '1', 'colorMode': 'RGB', 'format': 'png'}, {'id': '16b4b83db74c477ba0a86bd49dbc8e6c', 'pathFull': 'gitterschnitte_train/mask/95.png', 'imageHeight': '256', 'imageWidth': '256', 'bitsPerPixel': '1', 'colorMode': 'RGB', 'format': 'png'}, {'id': '234fd56a042d42b090603c4586338eb7', 'pathFull': 'gitterschnitte_train/mask/94.png', 'imageHeight': '256', 'imageWidth': '256', 'bitsPerPixel': '1', 'colorMode': 'RGB', 'format': 'png'}, {'id': 'dd2a49ccb1d84d779915e456515c1beb', 'pathFull': 'gitterschnitte_train/mask/93.png', 'imageHeight': '256', 'imageWidth': '256', 'bitsPerPixel': '1', 'colorMode': 'RGB', 'format': 'png'}, {'id': 'd3c34dd7496642b0a63c905c3e1be9cb', 'pathFull': 'gitterschnitte_train/mask/92.png', 'imageHeight': '256', 'imageWidth': '256', 'bitsPerPixel': '1', 'colorMode': 'RGB', 'format': 'png'}, {'id': '99a40e8aee8746aa993734a3cd1d52ad', 'pathFull': 'gitterschnitte_train/mask/91.png', 'imageHeight': '256', 'imageWidth': '256', 'bitsPerPixel': '1', 'colorMode': 'RGB', 'format': 'png'}, {'id': '652bafcf5e2f4d9cacf2581f35507d6b', 'pathFull': 'gitterschnitte_train/mask/90.png', 'imageHeight': '256', 'imageWidth': '256', 'bitsPerPixel': '1', 'colorMode': 'RGB', 'format': 'png'}, {'id': 'fff8b90d2f52400784a4f7b6bc3d0d8c', 'pathFull': 'gitterschnitte_train/mask/9.png', 'imageHeight': '256', 'imageWidth': '256', 'bitsPerPixel': '1', 'colorMode': 'RGB', 'format': 'png'}, {'id': 'd1dc7e3a0bf544449e8e43ff45a88bcb', 'pathFull': 'gitterschnitte_train/mask/89.png', 'imageHeight': '256', 'imageWidth': '256', 'bitsPerPixel': '1', 'colorMode': 'RGB', 'format': 'png'}, {'id': '7f087286b0164f99af165a41fc5f4c84', 'pathFull': 'gitterschnitte_train/mask/88.png', 'imageHeight': '256', 'imageWidth': '256', 'bitsPerPixel': '1', 'colorMode': 'RGB', 'format': 'png'}, {'id': '4d3c5232b5364f84ac6a7ba53bea9e46', 'pathFull': 'gitterschnitte_train/mask/87.png', 'imageHeight': '256', 'imageWidth': '256', 'bitsPerPixel': '1', 'colorMode': 'RGB', 'format': 'png'}, {'id': 'a937900a63bc4eba873c572d9349c4f1', 'pathFull': 'gitterschnitte_train/mask/86.png', 'imageHeight': '256', 'imageWidth': '256', 'bitsPerPixel': '1', 'colorMode': 'RGB', 'format': 'png'}, {'id': '81887251a7424d18b28e2d81dd5dd05f', 'pathFull': 'gitterschnitte_train/mask/85.png', 'imageHeight': '256', 'imageWidth': '256', 'bitsPerPixel': '8', 'colorMode': 'RGB', 'format': 'png'}, {'id': 'a7d8cc5c4054414daecf1aa8c2251b45', 'pathFull': 'gitterschnitte_train/mask/84.png', 'imageHeight': '256', 'imageWidth': '256', 'bitsPerPixel': '1', 'colorMode': 'RGB', 'format': 'png'}, {'id': '3173efe392d14397a9e4366fb6a3797f', 'pathFull': 'gitterschnitte_train/mask/83.png', 'imageHeight': '256', 'imageWidth': '256', 'bitsPerPixel': '1', 'colorMode': 'RGB', 'format': 'png'}, {'id': 'e17510d1f64b41c3899e4caf7708fe37', 'pathFull': 'gitterschnitte_train/mask/82.png', 'imageHeight': '256', 'imageWidth': '256', 'bitsPerPixel': '1', 'colorMode': 'RGB', 'format': 'png'}, {'id': 'f9169591126546c59fba4fa95baf343d', 'pathFull': 'gitterschnitte_train/mask/81.png', 'imageHeight': '256', 'imageWidth': '256', 'bitsPerPixel': '1', 'colorMode': 'RGB', 'format': 'png'}, {'id': '4e35732160d149099d8b5a7295a5e8fb', 'pathFull': 'gitterschnitte_train/mask/80.png', 'imageHeight': '256', 'imageWidth': '256', 'bitsPerPixel': '1', 'colorMode': 'RGB', 'format': 'png'}, {'id': '14335dd3bd534dbe959c41bf77d65326', 'pathFull': 'gitterschnitte_train/mask/8.png', 'imageHeight': '256', 'imageWidth': '256', 'bitsPerPixel': '1', 'colorMode': 'RGB', 'format': 'png'}, {'id': 'e4d1cf5619be4d0583e0b8bd40da1358', 'pathFull': 'gitterschnitte_train/mask/79.png', 'imageHeight': '256', 'imageWidth': '256', 'bitsPerPixel': '1', 'colorMode': 'RGB', 'format': 'png'}, {'id': '68539fbfe7c2407e9fa2b7fd67b6d67b', 'pathFull': 'gitterschnitte_train/mask/78.png', 'imageHeight': '256', 'imageWidth': '256', 'bitsPerPixel': '1', 'colorMode': 'RGB', 'format': 'png'}, {'id': '90a1915e88cf46ddb9829fb21a5fc3da', 'pathFull': 'gitterschnitte_train/mask/77.png', 'imageHeight': '256', 'imageWidth': '256', 'bitsPerPixel': '1', 'colorMode': 'RGB', 'format': 'png'}, {'id': 'd64f5957e71d461183595a373e635112', 'pathFull': 'gitterschnitte_train/mask/76.png', 'imageHeight': '256', 'imageWidth': '256', 'bitsPerPixel': '1', 'colorMode': 'RGB', 'format': 'png'}, {'id': 'af1370ae40204cc98af0825846315264', 'pathFull': 'gitterschnitte_train/mask/75.png', 'imageHeight': '256', 'imageWidth': '256', 'bitsPerPixel': '1', 'colorMode': 'RGB', 'format': 'png'}, {'id': '51b05465111b462a842c010f13c68b82', 'pathFull': 'gitterschnitte_train/mask/74.png', 'imageHeight': '256', 'imageWidth': '256', 'bitsPerPixel': '1', 'colorMode': 'RGB', 'format': 'png'}, {'id': '0299b52eea334bfdb1c7e3700b87fd5e', 'pathFull': 'gitterschnitte_train/mask/73.png', 'imageHeight': '256', 'imageWidth': '256', 'bitsPerPixel': '1', 'colorMode': 'RGB', 'format': 'png'}, {'id': '173c5e45888d4f5e9431925890a9c672', 'pathFull': 'gitterschnitte_train/mask/72.png', 'imageHeight': '256', 'imageWidth': '256', 'bitsPerPixel': '1', 'colorMode': 'RGB', 'format': 'png'}, {'id': '8ef73c5151994b28bdd915da322634cd', 'pathFull': 'gitterschnitte_train/mask/71.png', 'imageHeight': '256', 'imageWidth': '256', 'bitsPerPixel': '1', 'colorMode': 'RGB', 'format': 'png'}, {'id': '92bff74b2292487bb24e316fd10ce069', 'pathFull': 'gitterschnitte_train/mask/70.png', 'imageHeight': '256', 'imageWidth': '256', 'bitsPerPixel': '1', 'colorMode': 'RGB', 'format': 'png'}, {'id': '56e2c559c5fa42368cb98ec6911695d0', 'pathFull': 'gitterschnitte_train/mask/7.png', 'imageHeight': '256', 'imageWidth': '256', 'bitsPerPixel': '1', 'colorMode': 'RGB', 'format': 'png'}, {'id': 'bcf76de0a94f445ca69385e25cbdf247', 'pathFull': 'gitterschnitte_train/mask/69.png', 'imageHeight': '256', 'imageWidth': '256', 'bitsPerPixel': '1', 'colorMode': 'RGB', 'format': 'png'}, {'id': '7d679bebcd6a44e188a5c6cf2d625a42', 'pathFull': 'gitterschnitte_train/mask/68.png', 'imageHeight': '256', 'imageWidth': '256', 'bitsPerPixel': '1', 'colorMode': 'RGB', 'format': 'png'}, {'id': '7b16fb71678145ba9eb28eb226dd563c', 'pathFull': 'gitterschnitte_train/mask/67.png', 'imageHeight': '256', 'imageWidth': '256', 'bitsPerPixel': '1', 'colorMode': 'RGB', 'format': 'png'}, {'id': 'aec60bfbc59448d6b6345ca59531059d', 'pathFull': 'gitterschnitte_train/mask/66.png', 'imageHeight': '256', 'imageWidth': '256', 'bitsPerPixel': '1', 'colorMode': 'RGB', 'format': 'png'}, {'id': '9247fc60c7364cb79d907b2f0d0c77b6', 'pathFull': 'gitterschnitte_train/mask/65.png', 'imageHeight': '256', 'imageWidth': '256', 'bitsPerPixel': '1', 'colorMode': 'RGB', 'format': 'png'}, {'id': '28523aca9400492995e52eb3d9efa3f8', 'pathFull': 'gitterschnitte_train/mask/64.png', 'imageHeight': '256', 'imageWidth': '256', 'bitsPerPixel': '1', 'colorMode': 'RGB', 'format': 'png'}, {'id': 'f23eb4967263421fac2e9041f51534ca', 'pathFull': 'gitterschnitte_train/mask/63.png', 'imageHeight': '256', 'imageWidth': '256', 'bitsPerPixel': '1', 'colorMode': 'RGB', 'format': 'png'}, {'id': '037bc1e5e2b64db8bb48189fe988841c', 'pathFull': 'gitterschnitte_train/mask/62.png', 'imageHeight': '256', 'imageWidth': '256', 'bitsPerPixel': '1', 'colorMode': 'RGB', 'format': 'png'}, {'id': '99303fa7a06544928f41c0680f6111d0', 'pathFull': 'gitterschnitte_train/mask/61.png', 'imageHeight': '256', 'imageWidth': '256', 'bitsPerPixel': '1', 'colorMode': 'RGB', 'format': 'png'}, {'id': '409af89fd1784c9baf0f5a1bcda30f6b', 'pathFull': 'gitterschnitte_train/mask/60.png', 'imageHeight': '256', 'imageWidth': '256', 'bitsPerPixel': '1', 'colorMode': 'RGB', 'format': 'png'}, {'id': '209da5296aea4119916b8ab21938d9d9', 'pathFull': 'gitterschnitte_train/mask/6.png', 'imageHeight': '256', 'imageWidth': '256', 'bitsPerPixel': '1', 'colorMode': 'RGB', 'format': 'png'}, {'id': 'a1ddc0563dcc4368b637e535b2b740cb', 'pathFull': 'gitterschnitte_train/mask/59.png', 'imageHeight': '256', 'imageWidth': '256', 'bitsPerPixel': '1', 'colorMode': 'RGB', 'format': 'png'}, {'id': 'c54001ac32be4e40a6fa6fedf93efb62', 'pathFull': 'gitterschnitte_train/mask/58.png', 'imageHeight': '256', 'imageWidth': '256', 'bitsPerPixel': '1', 'colorMode': 'RGB', 'format': 'png'}, {'id': '60c679441f86449489e5d6044177425e', 'pathFull': 'gitterschnitte_train/mask/57.png', 'imageHeight': '256', 'imageWidth': '256', 'bitsPerPixel': '1', 'colorMode': 'RGB', 'format': 'png'}, {'id': '3fb38e1a4c424b4bacc08d65769c49b1', 'pathFull': 'gitterschnitte_train/mask/56.png', 'imageHeight': '256', 'imageWidth': '256', 'bitsPerPixel': '1', 'colorMode': 'RGB', 'format': 'png'}, {'id': '364522516d244ca89270e6aa43b4b46f', 'pathFull': 'gitterschnitte_train/mask/55.png', 'imageHeight': '256', 'imageWidth': '256', 'bitsPerPixel': '1', 'colorMode': 'RGB', 'format': 'png'}, {'id': 'e09ac3b6677646a8b6730e29ad38dd25', 'pathFull': 'gitterschnitte_train/mask/54.png', 'imageHeight': '256', 'imageWidth': '256', 'bitsPerPixel': '1', 'colorMode': 'RGB', 'format': 'png'}, {'id': '8a3874a6934e48268c7b7df95e0da166', 'pathFull': 'gitterschnitte_train/mask/53.png', 'imageHeight': '256', 'imageWidth': '256', 'bitsPerPixel': '1', 'colorMode': 'RGB', 'format': 'png'}, {'id': 'f792907071dc41579215f898bf5fe9cb', 'pathFull': 'gitterschnitte_train/mask/52.png', 'imageHeight': '256', 'imageWidth': '256', 'bitsPerPixel': '1', 'colorMode': 'RGB', 'format': 'png'}, {'id': 'e1d88d1e54fa41228128be682e457bef', 'pathFull': 'gitterschnitte_train/mask/51.png', 'imageHeight': '256', 'imageWidth': '256', 'bitsPerPixel': '1', 'colorMode': 'RGB', 'format': 'png'}, {'id': '66ead9009d9b4175bb452cad2b8813dd', 'pathFull': 'gitterschnitte_train/mask/50.png', 'imageHeight': '256', 'imageWidth': '256', 'bitsPerPixel': '1', 'colorMode': 'RGB', 'format': 'png'}, {'id': 'b1affb18e0244f358ec796e3dd0850ac', 'pathFull': 'gitterschnitte_train/mask/5.png', 'imageHeight': '256', 'imageWidth': '256', 'bitsPerPixel': '1', 'colorMode': 'RGB', 'format': 'png'}, {'id': '8236a2c3ff2b4fefb08737c2e7a024cc', 'pathFull': 'gitterschnitte_train/mask/49.png', 'imageHeight': '256', 'imageWidth': '256', 'bitsPerPixel': '1', 'colorMode': 'RGB', 'format': 'png'}, {'id': 'cb4b55144c9e4e13bec540299e74bac6', 'pathFull': 'gitterschnitte_train/mask/48.png', 'imageHeight': '256', 'imageWidth': '256', 'bitsPerPixel': '1', 'colorMode': 'RGB', 'format': 'png'}, {'id': '2bebda4934e54bac8cbc104568cd4879', 'pathFull': 'gitterschnitte_train/mask/47.png', 'imageHeight': '256', 'imageWidth': '256', 'bitsPerPixel': '1', 'colorMode': 'RGB', 'format': 'png'}, {'id': '9c50e30d80ac4caea6c2972fd08c6d0e', 'pathFull': 'gitterschnitte_train/mask/46.png', 'imageHeight': '256', 'imageWidth': '256', 'bitsPerPixel': '1', 'colorMode': 'RGB', 'format': 'png'}, {'id': '64957f8fefeb4363a8f2ba14b66b78af', 'pathFull': 'gitterschnitte_train/mask/45.png', 'imageHeight': '256', 'imageWidth': '256', 'bitsPerPixel': '1', 'colorMode': 'RGB', 'format': 'png'}, {'id': 'af36f2fec57d4189a2bfe5c05251edfd', 'pathFull': 'gitterschnitte_train/mask/44.png', 'imageHeight': '256', 'imageWidth': '256', 'bitsPerPixel': '1', 'colorMode': 'RGB', 'format': 'png'}, {'id': '68ad1f3736e7456f97f98611ea3daeba', 'pathFull': 'gitterschnitte_train/mask/43.png', 'imageHeight': '256', 'imageWidth': '256', 'bitsPerPixel': '1', 'colorMode': 'RGB', 'format': 'png'}, {'id': '49d07a223d62409da5977fc0f10d1162', 'pathFull': 'gitterschnitte_train/mask/42.png', 'imageHeight': '256', 'imageWidth': '256', 'bitsPerPixel': '1', 'colorMode': 'RGB', 'format': 'png'}, {'id': 'e20c596e73384086899010df74f57b60', 'pathFull': 'gitterschnitte_train/mask/41.png', 'imageHeight': '256', 'imageWidth': '256', 'bitsPerPixel': '1', 'colorMode': 'RGB', 'format': 'png'}, {'id': '50d786d5850c40a3b7ee667db4ad9c87', 'pathFull': 'gitterschnitte_train/mask/40.png', 'imageHeight': '256', 'imageWidth': '256', 'bitsPerPixel': '1', 'colorMode': 'RGB', 'format': 'png'}, {'id': '7489a58e5fe942b5bb92b78f7a2d9efc', 'pathFull': 'gitterschnitte_train/mask/4.png', 'imageHeight': '256', 'imageWidth': '256', 'bitsPerPixel': '1', 'colorMode': 'RGB', 'format': 'png'}, {'id': 'b63d9299301a40e9b5ce6e2560ef4268', 'pathFull': 'gitterschnitte_train/mask/39.png', 'imageHeight': '256', 'imageWidth': '256', 'bitsPerPixel': '1', 'colorMode': 'RGB', 'format': 'png'}, {'id': '92e373b3d5e84a5f822e3fbb73f01b01', 'pathFull': 'gitterschnitte_train/mask/38.png', 'imageHeight': '256', 'imageWidth': '256', 'bitsPerPixel': '1', 'colorMode': 'RGB', 'format': 'png'}, {'id': '452869b599b04b6ea5d5718de79082ea', 'pathFull': 'gitterschnitte_train/mask/37.png', 'imageHeight': '256', 'imageWidth': '256', 'bitsPerPixel': '1', 'colorMode': 'RGB', 'format': 'png'}, {'id': '79d4f425c5a24342b7e154bfaa422a94', 'pathFull': 'gitterschnitte_train/mask/36.png', 'imageHeight': '256', 'imageWidth': '256', 'bitsPerPixel': '1', 'colorMode': 'RGB', 'format': 'png'}, {'id': 'a0365031fb6b496693233860970e2e1e', 'pathFull': 'gitterschnitte_train/mask/35.png', 'imageHeight': '256', 'imageWidth': '256', 'bitsPerPixel': '1', 'colorMode': 'RGB', 'format': 'png'}, {'id': 'e71cbcbe259143dd99c92a80144c1ab1', 'pathFull': 'gitterschnitte_train/mask/34.png', 'imageHeight': '256', 'imageWidth': '256', 'bitsPerPixel': '1', 'colorMode': 'RGB', 'format': 'png'}, {'id': '828232c722114e54bc9a9fce51b5f303', 'pathFull': 'gitterschnitte_train/mask/33.png', 'imageHeight': '256', 'imageWidth': '256', 'bitsPerPixel': '1', 'colorMode': 'RGB', 'format': 'png'}, {'id': '88f065b702784fab98fd47e337d3e575', 'pathFull': 'gitterschnitte_train/mask/32.png', 'imageHeight': '256', 'imageWidth': '256', 'bitsPerPixel': '1', 'colorMode': 'RGB', 'format': 'png'}, {'id': '4573733840ae45528f7ece182229889d', 'pathFull': 'gitterschnitte_train/mask/31.png', 'imageHeight': '256', 'imageWidth': '256', 'bitsPerPixel': '1', 'colorMode': 'RGB', 'format': 'png'}, {'id': 'afd4643789294a07abe30e178880ea5b', 'pathFull': 'gitterschnitte_train/mask/30.png', 'imageHeight': '256', 'imageWidth': '256', 'bitsPerPixel': '1', 'colorMode': 'RGB', 'format': 'png'}, {'id': '8a3b65d2edf546c792c4e0d9718b58a3', 'pathFull': 'gitterschnitte_train/mask/3.png', 'imageHeight': '256', 'imageWidth': '256', 'bitsPerPixel': '1', 'colorMode': 'RGB', 'format': 'png'}, {'id': 'c8b4188879c64c83a8eff9f334d1aa34', 'pathFull': 'gitterschnitte_train/mask/29.png', 'imageHeight': '256', 'imageWidth': '256', 'bitsPerPixel': '1', 'colorMode': 'RGB', 'format': 'png'}, {'id': 'abe08b5e4a6c470eb96b37815a32295a', 'pathFull': 'gitterschnitte_train/mask/28.png', 'imageHeight': '256', 'imageWidth': '256', 'bitsPerPixel': '1', 'colorMode': 'RGB', 'format': 'png'}, {'id': 'b953daaa915743888ce274f2b3d0aaca', 'pathFull': 'gitterschnitte_train/mask/27.png', 'imageHeight': '256', 'imageWidth': '256', 'bitsPerPixel': '1', 'colorMode': 'RGB', 'format': 'png'}, {'id': 'fe071d350a6146ffa7728d7492d29c7f', 'pathFull': 'gitterschnitte_train/mask/26.png', 'imageHeight': '256', 'imageWidth': '256', 'bitsPerPixel': '1', 'colorMode': 'RGB', 'format': 'png'}, {'id': 'b3c513c9c6bf46b3bc6104a8e3f036ac', 'pathFull': 'gitterschnitte_train/mask/25.png', 'imageHeight': '256', 'imageWidth': '256', 'bitsPerPixel': '1', 'colorMode': 'RGB', 'format': 'png'}, {'id': '627811a5e24d4e47b84a1f1aa1118a61', 'pathFull': 'gitterschnitte_train/mask/24.png', 'imageHeight': '256', 'imageWidth': '256', 'bitsPerPixel': '1', 'colorMode': 'RGB', 'format': 'png'}, {'id': '7cef882b85a9427f87e1241f5365002d', 'pathFull': 'gitterschnitte_train/mask/23.png', 'imageHeight': '256', 'imageWidth': '256', 'bitsPerPixel': '1', 'colorMode': 'RGB', 'format': 'png'}, {'id': '4e9d962ba592452e914d8516f792b964', 'pathFull': 'gitterschnitte_train/mask/22.png', 'imageHeight': '256', 'imageWidth': '256', 'bitsPerPixel': '1', 'colorMode': 'RGB', 'format': 'png'}, {'id': 'c742a09380a8415a9e86a9d0d92a6dae', 'pathFull': 'gitterschnitte_train/mask/21.png', 'imageHeight': '256', 'imageWidth': '256', 'bitsPerPixel': '1', 'colorMode': 'RGB', 'format': 'png'}, {'id': '9c33aea429744ad8a23aab5dadbab5ff', 'pathFull': 'gitterschnitte_train/mask/20.png', 'imageHeight': '256', 'imageWidth': '256', 'bitsPerPixel': '1', 'colorMode': 'RGB', 'format': 'png'}, {'id': '2bc46570b4a14c818deda3bdd349b4dc', 'pathFull': 'gitterschnitte_train/mask/2.png', 'imageHeight': '256', 'imageWidth': '256', 'bitsPerPixel': '1', 'colorMode': 'RGB', 'format': 'png'}, {'id': '22b94b936dbf494f803953edd1c8bd15', 'pathFull': 'gitterschnitte_train/mask/19.png', 'imageHeight': '256', 'imageWidth': '256', 'bitsPerPixel': '1', 'colorMode': 'RGB', 'format': 'png'}, {'id': 'df1e75b08d524f9eb650a0d180f2c034', 'pathFull': 'gitterschnitte_train/mask/18.png', 'imageHeight': '256', 'imageWidth': '256', 'bitsPerPixel': '1', 'colorMode': 'RGB', 'format': 'png'}, {'id': 'b93a5017fb2b48ee9927db6ebc971976', 'pathFull': 'gitterschnitte_train/mask/173.png', 'imageHeight': '256', 'imageWidth': '256', 'bitsPerPixel': '8', 'colorMode': 'RGB', 'format': 'png'}, {'id': '964b1406faee4ecf9ecd927928887e82', 'pathFull': 'gitterschnitte_train/mask/172.png', 'imageHeight': '256', 'imageWidth': '256', 'bitsPerPixel': '1', 'colorMode': 'RGB', 'format': 'png'}, {'id': '6bac0b73c184488d852691fe86ae6af1', 'pathFull': 'gitterschnitte_train/mask/171.png', 'imageHeight': '256', 'imageWidth': '256', 'bitsPerPixel': '1', 'colorMode': 'RGB', 'format': 'png'}, {'id': '200e62f8f53a4652b297c2b2bbd74a18', 'pathFull': 'gitterschnitte_train/mask/170.png', 'imageHeight': '256', 'imageWidth': '256', 'bitsPerPixel': '1', 'colorMode': 'RGB', 'format': 'png'}, {'id': 'd306d07665ab450abcf2b6f531ae9bed', 'pathFull': 'gitterschnitte_train/mask/17.png', 'imageHeight': '256', 'imageWidth': '256', 'bitsPerPixel': '1', 'colorMode': 'RGB', 'format': 'png'}, {'id': '4c031c41541d42a493f259c8850f731e', 'pathFull': 'gitterschnitte_train/mask/169.png', 'imageHeight': '256', 'imageWidth': '256', 'bitsPerPixel': '1', 'colorMode': 'RGB', 'format': 'png'}, {'id': 'b326c0a09d7544d0a74cff832cb7db62', 'pathFull': 'gitterschnitte_train/mask/168.png', 'imageHeight': '256', 'imageWidth': '256', 'bitsPerPixel': '1', 'colorMode': 'RGB', 'format': 'png'}, {'id': '8f0da357ba474df0ae7444a6d69401c5', 'pathFull': 'gitterschnitte_train/mask/167.png', 'imageHeight': '256', 'imageWidth': '256', 'bitsPerPixel': '1', 'colorMode': 'RGB', 'format': 'png'}, {'id': '2db76fad642b434892ea01e83391e54f', 'pathFull': 'gitterschnitte_train/mask/166.png', 'imageHeight': '256', 'imageWidth': '256', 'bitsPerPixel': '1', 'colorMode': 'RGB', 'format': 'png'}, {'id': '43e84e739cd643759c0576b0e27e08ed', 'pathFull': 'gitterschnitte_train/mask/165.png', 'imageHeight': '256', 'imageWidth': '256', 'bitsPerPixel': '1', 'colorMode': 'RGB', 'format': 'png'}, {'id': '44d3c0c037a2479f9042d8e1545cb63b', 'pathFull': 'gitterschnitte_train/mask/164.png', 'imageHeight': '256', 'imageWidth': '256', 'bitsPerPixel': '1', 'colorMode': 'RGB', 'format': 'png'}, {'id': '0c91b3bfbf104d7ea5decb275f830df4', 'pathFull': 'gitterschnitte_train/mask/163.png', 'imageHeight': '256', 'imageWidth': '256', 'bitsPerPixel': '1', 'colorMode': 'RGB', 'format': 'png'}, {'id': 'c78a6f2fbf784a08a2f928194e8982d4', 'pathFull': 'gitterschnitte_train/mask/162.png', 'imageHeight': '256', 'imageWidth': '256', 'bitsPerPixel': '1', 'colorMode': 'RGB', 'format': 'png'}, {'id': 'f93cba4e954b49db9823917d968aa4ac', 'pathFull': 'gitterschnitte_train/mask/161.png', 'imageHeight': '256', 'imageWidth': '256', 'bitsPerPixel': '1', 'colorMode': 'RGB', 'format': 'png'}, {'id': 'c0602051c7f846fbb92da01db265fc12', 'pathFull': 'gitterschnitte_train/mask/160.png', 'imageHeight': '256', 'imageWidth': '256', 'bitsPerPixel': '1', 'colorMode': 'RGB', 'format': 'png'}, {'id': '0ffa8a6dbab94c109738b52358931186', 'pathFull': 'gitterschnitte_train/mask/16.png', 'imageHeight': '256', 'imageWidth': '256', 'bitsPerPixel': '1', 'colorMode': 'RGB', 'format': 'png'}, {'id': 'a3122037225c44da89718437480c3834', 'pathFull': 'gitterschnitte_train/mask/159.png', 'imageHeight': '256', 'imageWidth': '256', 'bitsPerPixel': '1', 'colorMode': 'RGB', 'format': 'png'}, {'id': '8c642caa5edf44fbb515828e76dd5434', 'pathFull': 'gitterschnitte_train/mask/158.png', 'imageHeight': '256', 'imageWidth': '256', 'bitsPerPixel': '1', 'colorMode': 'RGB', 'format': 'png'}, {'id': '72610b881b4d4b44ad1f24081470a552', 'pathFull': 'gitterschnitte_train/mask/157.png', 'imageHeight': '256', 'imageWidth': '256', 'bitsPerPixel': '1', 'colorMode': 'RGB', 'format': 'png'}, {'id': '13e0c0a1a472446a9079e649dd2164b7', 'pathFull': 'gitterschnitte_train/mask/156.png', 'imageHeight': '256', 'imageWidth': '256', 'bitsPerPixel': '1', 'colorMode': 'RGB', 'format': 'png'}, {'id': 'd9ad6c8c13cf4178958612f86e6b4eed', 'pathFull': 'gitterschnitte_train/mask/155.png', 'imageHeight': '256', 'imageWidth': '256', 'bitsPerPixel': '1', 'colorMode': 'RGB', 'format': 'png'}, {'id': '34c163764f6f4945a8a9b5e7a423afb2', 'pathFull': 'gitterschnitte_train/mask/154.png', 'imageHeight': '256', 'imageWidth': '256', 'bitsPerPixel': '1', 'colorMode': 'RGB', 'format': 'png'}, {'id': '7bcc4a8205d246caadc3341398d8514e', 'pathFull': 'gitterschnitte_train/mask/153.png', 'imageHeight': '256', 'imageWidth': '256', 'bitsPerPixel': '1', 'colorMode': 'RGB', 'format': 'png'}, {'id': '9c5dd09d5b60478c89d8f3ed1dddc65b', 'pathFull': 'gitterschnitte_train/mask/152.png', 'imageHeight': '256', 'imageWidth': '256', 'bitsPerPixel': '1', 'colorMode': 'RGB', 'format': 'png'}, {'id': 'a28e0ff462ea41039b10b359c0ac58b4', 'pathFull': 'gitterschnitte_train/mask/151.png', 'imageHeight': '256', 'imageWidth': '256', 'bitsPerPixel': '1', 'colorMode': 'RGB', 'format': 'png'}, {'id': 'a5c25226fe0741a2ba4a2a4b2faf1ebd', 'pathFull': 'gitterschnitte_train/mask/150.png', 'imageHeight': '256', 'imageWidth': '256', 'bitsPerPixel': '1', 'colorMode': 'RGB', 'format': 'png'}, {'id': 'd8f148295dd248ba857fb93b907f9209', 'pathFull': 'gitterschnitte_train/mask/15.png', 'imageHeight': '256', 'imageWidth': '256', 'bitsPerPixel': '1', 'colorMode': 'RGB', 'format': 'png'}, {'id': '012b094df49d4711b7cf3b2db5bf9a5f', 'pathFull': 'gitterschnitte_train/mask/149.png', 'imageHeight': '256', 'imageWidth': '256', 'bitsPerPixel': '1', 'colorMode': 'RGB', 'format': 'png'}, {'id': '46e90e87ff5445aeadf00758e65c4c47', 'pathFull': 'gitterschnitte_train/mask/148.png', 'imageHeight': '256', 'imageWidth': '256', 'bitsPerPixel': '1', 'colorMode': 'RGB', 'format': 'png'}, {'id': '5d8f7c08af774ca4a6570303070adb54', 'pathFull': 'gitterschnitte_train/mask/147.png', 'imageHeight': '256', 'imageWidth': '256', 'bitsPerPixel': '1', 'colorMode': 'RGB', 'format': 'png'}, {'id': '3f2e944f69fa476cb871cbf758708a0a', 'pathFull': 'gitterschnitte_train/mask/146.png', 'imageHeight': '256', 'imageWidth': '256', 'bitsPerPixel': '1', 'colorMode': 'RGB', 'format': 'png'}, {'id': 'ced779d94462412c90ea0f2e16d84fc7', 'pathFull': 'gitterschnitte_train/mask/145.png', 'imageHeight': '256', 'imageWidth': '256', 'bitsPerPixel': '1', 'colorMode': 'RGB', 'format': 'png'}, {'id': 'd4d80f66ffb14a008fa2b70f453529c1', 'pathFull': 'gitterschnitte_train/mask/144.png', 'imageHeight': '256', 'imageWidth': '256', 'bitsPerPixel': '1', 'colorMode': 'RGB', 'format': 'png'}, {'id': '4cf9a95e817048589d14d439fa7cc327', 'pathFull': 'gitterschnitte_train/mask/143.png', 'imageHeight': '256', 'imageWidth': '256', 'bitsPerPixel': '1', 'colorMode': 'RGB', 'format': 'png'}, {'id': '1feb7e4b29c64f5484f404862e4649dc', 'pathFull': 'gitterschnitte_train/mask/142.png', 'imageHeight': '256', 'imageWidth': '256', 'bitsPerPixel': '1', 'colorMode': 'RGB', 'format': 'png'}, {'id': 'ecb8be10694147d8a9614bf467925295', 'pathFull': 'gitterschnitte_train/mask/141.png', 'imageHeight': '256', 'imageWidth': '256', 'bitsPerPixel': '1', 'colorMode': 'RGB', 'format': 'png'}, {'id': '4f713178958341b4a11069c80541fa35', 'pathFull': 'gitterschnitte_train/mask/140.png', 'imageHeight': '256', 'imageWidth': '256', 'bitsPerPixel': '1', 'colorMode': 'RGB', 'format': 'png'}, {'id': 'eba22f1842d947d1a0e1f041d3f5a763', 'pathFull': 'gitterschnitte_train/mask/14.png', 'imageHeight': '256', 'imageWidth': '256', 'bitsPerPixel': '1', 'colorMode': 'RGB', 'format': 'png'}, {'id': '1932baaa488b43edb4681175b2b70da9', 'pathFull': 'gitterschnitte_train/mask/139.png', 'imageHeight': '256', 'imageWidth': '256', 'bitsPerPixel': '1', 'colorMode': 'RGB', 'format': 'png'}, {'id': '9056d534bae24d93b362cab6a0096dea', 'pathFull': 'gitterschnitte_train/mask/138.png', 'imageHeight': '256', 'imageWidth': '256', 'bitsPerPixel': '1', 'colorMode': 'RGB', 'format': 'png'}, {'id': 'cff16c1ea3694b72af6daf8c1e07c8b3', 'pathFull': 'gitterschnitte_train/mask/137.png', 'imageHeight': '256', 'imageWidth': '256', 'bitsPerPixel': '1', 'colorMode': 'RGB', 'format': 'png'}, {'id': '79384fd495c142d583dd9a175a1679cd', 'pathFull': 'gitterschnitte_train/mask/136.png', 'imageHeight': '256', 'imageWidth': '256', 'bitsPerPixel': '1', 'colorMode': 'RGB', 'format': 'png'}, {'id': '578e577e2ef14463b51fc5656648d96a', 'pathFull': 'gitterschnitte_train/mask/135.png', 'imageHeight': '256', 'imageWidth': '256', 'bitsPerPixel': '1', 'colorMode': 'RGB', 'format': 'png'}, {'id': '525ca60dc48a4e468d9f26486b82fe1b', 'pathFull': 'gitterschnitte_train/mask/134.png', 'imageHeight': '256', 'imageWidth': '256', 'bitsPerPixel': '1', 'colorMode': 'RGB', 'format': 'png'}, {'id': '4f063253a8bb4379a5a724b53243a0d9', 'pathFull': 'gitterschnitte_train/mask/133.png', 'imageHeight': '256', 'imageWidth': '256', 'bitsPerPixel': '1', 'colorMode': 'RGB', 'format': 'png'}, {'id': '5b4683c22bf6459abfc421cb855e7c33', 'pathFull': 'gitterschnitte_train/mask/132.png', 'imageHeight': '256', 'imageWidth': '256', 'bitsPerPixel': '1', 'colorMode': 'RGB', 'format': 'png'}, {'id': 'bd98a6d7ff4d42a49d6c563a6a4056f9', 'pathFull': 'gitterschnitte_train/mask/131.png', 'imageHeight': '256', 'imageWidth': '256', 'bitsPerPixel': '1', 'colorMode': 'RGB', 'format': 'png'}, {'id': 'ddbe1138879f4f11853e7af03abb6ff8', 'pathFull': 'gitterschnitte_train/mask/130.png', 'imageHeight': '256', 'imageWidth': '256', 'bitsPerPixel': '1', 'colorMode': 'RGB', 'format': 'png'}, {'id': 'c48b1d9a6f474a2cb2d95c3b525959e0', 'pathFull': 'gitterschnitte_train/mask/13.png', 'imageHeight': '256', 'imageWidth': '256', 'bitsPerPixel': '1', 'colorMode': 'RGB', 'format': 'png'}, {'id': '5697ab81e67144149065db4fa404931a', 'pathFull': 'gitterschnitte_train/mask/129.png', 'imageHeight': '256', 'imageWidth': '256', 'bitsPerPixel': '1', 'colorMode': 'RGB', 'format': 'png'}, {'id': 'f0fef406d1d44b6eb7d76ab12ca1cae4', 'pathFull': 'gitterschnitte_train/mask/128.png', 'imageHeight': '256', 'imageWidth': '256', 'bitsPerPixel': '1', 'colorMode': 'RGB', 'format': 'png'}, {'id': '028cf0c9a212427798c0f10efc7574ad', 'pathFull': 'gitterschnitte_train/mask/127.png', 'imageHeight': '256', 'imageWidth': '256', 'bitsPerPixel': '1', 'colorMode': 'RGB', 'format': 'png'}, {'id': '143fe59898db4f8db2a6ce4d24e0f15f', 'pathFull': 'gitterschnitte_train/mask/126.png', 'imageHeight': '256', 'imageWidth': '256', 'bitsPerPixel': '1', 'colorMode': 'RGB', 'format': 'png'}, {'id': '6f889c3dff404654acf9c3840a0e10fd', 'pathFull': 'gitterschnitte_train/mask/125.png', 'imageHeight': '256', 'imageWidth': '256', 'bitsPerPixel': '1', 'colorMode': 'RGB', 'format': 'png'}, {'id': 'cede2c85e5b145b3bb18482c2f4533ef', 'pathFull': 'gitterschnitte_train/mask/124.png', 'imageHeight': '256', 'imageWidth': '256', 'bitsPerPixel': '1', 'colorMode': 'RGB', 'format': 'png'}, {'id': '6ca1b546825346f4a85fdef5d80ee56a', 'pathFull': 'gitterschnitte_train/mask/123.png', 'imageHeight': '256', 'imageWidth': '256', 'bitsPerPixel': '1', 'colorMode': 'RGB', 'format': 'png'}, {'id': '5c94ad0f73f84af9a87e5a009261a742', 'pathFull': 'gitterschnitte_train/mask/122.png', 'imageHeight': '256', 'imageWidth': '256', 'bitsPerPixel': '1', 'colorMode': 'RGB', 'format': 'png'}, {'id': '2480a96a63b24a3688c62351aab14a76', 'pathFull': 'gitterschnitte_train/mask/121.png', 'imageHeight': '256', 'imageWidth': '256', 'bitsPerPixel': '1', 'colorMode': 'RGB', 'format': 'png'}, {'id': '34c81cf1daaf4daba8f837750dcf3c8e', 'pathFull': 'gitterschnitte_train/mask/120.png', 'imageHeight': '256', 'imageWidth': '256', 'bitsPerPixel': '1', 'colorMode': 'RGB', 'format': 'png'}, {'id': '0c6734ddb5404c248412e7cce7a7eb30', 'pathFull': 'gitterschnitte_train/mask/12.png', 'imageHeight': '256', 'imageWidth': '256', 'bitsPerPixel': '1', 'colorMode': 'RGB', 'format': 'png'}, {'id': 'c1c39d6004f845f380928ce6f2c9e2a9', 'pathFull': 'gitterschnitte_train/mask/119.png', 'imageHeight': '256', 'imageWidth': '256', 'bitsPerPixel': '1', 'colorMode': 'RGB', 'format': 'png'}, {'id': '2de075896fb7450895f3b2b26b8ff197', 'pathFull': 'gitterschnitte_train/mask/118.png', 'imageHeight': '256', 'imageWidth': '256', 'bitsPerPixel': '1', 'colorMode': 'RGB', 'format': 'png'}, {'id': '364d70ecf0ce4a5f9d672f02bed46f80', 'pathFull': 'gitterschnitte_train/mask/117.png', 'imageHeight': '256', 'imageWidth': '256', 'bitsPerPixel': '1', 'colorMode': 'RGB', 'format': 'png'}, {'id': '4b68d8d617bc4e4b951b89dc73a350bf', 'pathFull': 'gitterschnitte_train/mask/116.png', 'imageHeight': '256', 'imageWidth': '256', 'bitsPerPixel': '1', 'colorMode': 'RGB', 'format': 'png'}, {'id': '6d3327981e5443368803b41eefef685b', 'pathFull': 'gitterschnitte_train/mask/115.png', 'imageHeight': '256', 'imageWidth': '256', 'bitsPerPixel': '1', 'colorMode': 'RGB', 'format': 'png'}, {'id': '55ebbc0b2b3f4bf59301a0a9580329ba', 'pathFull': 'gitterschnitte_train/mask/114.png', 'imageHeight': '256', 'imageWidth': '256', 'bitsPerPixel': '8', 'colorMode': 'RGB', 'format': 'png'}, {'id': 'bdfd07c040464abcbcfc3f53dda6479f', 'pathFull': 'gitterschnitte_train/mask/113.png', 'imageHeight': '256', 'imageWidth': '256', 'bitsPerPixel': '8', 'colorMode': 'RGB', 'format': 'png'}, {'id': '96df84c89a3e4349b3083ec4bac91c43', 'pathFull': 'gitterschnitte_train/mask/112.png', 'imageHeight': '256', 'imageWidth': '256', 'bitsPerPixel': '1', 'colorMode': 'RGB', 'format': 'png'}, {'id': '541f668c58414d558ebac44750a4a61d', 'pathFull': 'gitterschnitte_train/mask/111.png', 'imageHeight': '256', 'imageWidth': '256', 'bitsPerPixel': '1', 'colorMode': 'RGB', 'format': 'png'}, {'id': 'cf84e64cc8e747c8953d4fd0cb14fab7', 'pathFull': 'gitterschnitte_train/mask/110.png', 'imageHeight': '256', 'imageWidth': '256', 'bitsPerPixel': '1', 'colorMode': 'RGB', 'format': 'png'}, {'id': 'ac9c6b760f43493295b00ab95843b335', 'pathFull': 'gitterschnitte_train/mask/11.png', 'imageHeight': '256', 'imageWidth': '256', 'bitsPerPixel': '1', 'colorMode': 'RGB', 'format': 'png'}, {'id': '4ab14e7d3e404b189a0aa6303d5d89f2', 'pathFull': 'gitterschnitte_train/mask/109.png', 'imageHeight': '256', 'imageWidth': '256', 'bitsPerPixel': '1', 'colorMode': 'RGB', 'format': 'png'}, {'id': 'a29d060a7e034aa7a991b48bcfbc1e58', 'pathFull': 'gitterschnitte_train/mask/108.png', 'imageHeight': '256', 'imageWidth': '256', 'bitsPerPixel': '1', 'colorMode': 'RGB', 'format': 'png'}, {'id': '2a52a4d24b91458880d91b1ddfea5ae7', 'pathFull': 'gitterschnitte_train/mask/107.png', 'imageHeight': '256', 'imageWidth': '256', 'bitsPerPixel': '1', 'colorMode': 'RGB', 'format': 'png'}, {'id': '7782c6cc3abe4209a6ed92c33ee1421c', 'pathFull': 'gitterschnitte_train/mask/106.png', 'imageHeight': '256', 'imageWidth': '256', 'bitsPerPixel': '1', 'colorMode': 'RGB', 'format': 'png'}, {'id': 'b12286b0acec4482b57e0c34597e6682', 'pathFull': 'gitterschnitte_train/mask/105.png', 'imageHeight': '256', 'imageWidth': '256', 'bitsPerPixel': '1', 'colorMode': 'RGB', 'format': 'png'}, {'id': '620b4d29e48b47c2b021f03cb6c8b126', 'pathFull': 'gitterschnitte_train/mask/104.png', 'imageHeight': '256', 'imageWidth': '256', 'bitsPerPixel': '1', 'colorMode': 'RGB', 'format': 'png'}, {'id': 'e41e54e110034606a9ef9b4d39dbb44b', 'pathFull': 'gitterschnitte_train/mask/103.png', 'imageHeight': '256', 'imageWidth': '256', 'bitsPerPixel': '1', 'colorMode': 'RGB', 'format': 'png'}, {'id': 'd9d746381e9344cfa928096fa99e0900', 'pathFull': 'gitterschnitte_train/mask/102.png', 'imageHeight': '256', 'imageWidth': '256', 'bitsPerPixel': '1', 'colorMode': 'RGB', 'format': 'png'}, {'id': '7c6152c5742b4ae4ae4a6f58e2a60753', 'pathFull': 'gitterschnitte_train/mask/101.png', 'imageHeight': '256', 'imageWidth': '256', 'bitsPerPixel': '1', 'colorMode': 'RGB', 'format': 'png'}, {'id': '62189b6bb91e437899b3751c8c93b198', 'pathFull': 'gitterschnitte_train/mask/100.png', 'imageHeight': '256', 'imageWidth': '256', 'bitsPerPixel': '1', 'colorMode': 'RGB', 'format': 'png'}, {'id': '3b2ee1423bf64deaa8ea8d00fb4995a7', 'pathFull': 'gitterschnitte_train/mask/10.png', 'imageHeight': '256', 'imageWidth': '256', 'bitsPerPixel': '1', 'colorMode': 'RGB', 'format': 'png'}, {'id': '537e85d428a348f0982f9213c72554f7', 'pathFull': 'gitterschnitte_train/mask/1.png', 'imageHeight': '256', 'imageWidth': '256', 'bitsPerPixel': '1', 'colorMode': 'RGB', 'format': 'png'}, {'id': '45dd52d771dc40e084a820a2450105ba', 'pathFull': 'gitterschnitte_train/mask/0.png', 'imageHeight': '256', 'imageWidth': '256', 'bitsPerPixel': '8', 'colorMode': 'RGB', 'format': 'png'}, {'id': '6f7e225a80394770b3adb648b99378a6', 'pathFull': 'gitterschnitte_train/image/99.png', 'imageHeight': '256', 'imageWidth': '256', 'bitsPerPixel': '8', 'colorMode': 'GRAY', 'format': 'png'}, {'id': '49d80f10a3d74d2b80ac46669d0eb5d4', 'pathFull': 'gitterschnitte_train/image/98.png', 'imageHeight': '256', 'imageWidth': '256', 'bitsPerPixel': '8', 'colorMode': 'GRAY', 'format': 'png'}, {'id': '8aacb5d182544151a34444b0096e4b81', 'pathFull': 'gitterschnitte_train/image/97.png', 'imageHeight': '256', 'imageWidth': '256', 'bitsPerPixel': '8', 'colorMode': 'GRAY', 'format': 'png'}, {'id': '879a3b7d29434f9eb50e52e01ab36217', 'pathFull': 'gitterschnitte_train/image/96.png', 'imageHeight': '256', 'imageWidth': '256', 'bitsPerPixel': '8', 'colorMode': 'GRAY', 'format': 'png'}, {'id': '238e90e04d0048ae94638ef11560f9f7', 'pathFull': 'gitterschnitte_train/image/95.png', 'imageHeight': '256', 'imageWidth': '256', 'bitsPerPixel': '8', 'colorMode': 'GRAY', 'format': 'png'}, {'id': '62943934817f4f31b7f9167319deeb3d', 'pathFull': 'gitterschnitte_train/image/94.png', 'imageHeight': '256', 'imageWidth': '256', 'bitsPerPixel': '8', 'colorMode': 'GRAY', 'format': 'png'}, {'id': '1000c4343fc54d73ab3a957ea69f109b', 'pathFull': 'gitterschnitte_train/image/93.png', 'imageHeight': '256', 'imageWidth': '256', 'bitsPerPixel': '8', 'colorMode': 'GRAY', 'format': 'png'}, {'id': 'e85dc2f573b64f4c98eeeb27d353acea', 'pathFull': 'gitterschnitte_train/image/92.png', 'imageHeight': '256', 'imageWidth': '256', 'bitsPerPixel': '8', 'colorMode': 'GRAY', 'format': 'png'}, {'id': '7748022e99c8458b8e3e945e055f30ae', 'pathFull': 'gitterschnitte_train/image/91.png', 'imageHeight': '256', 'imageWidth': '256', 'bitsPerPixel': '8', 'colorMode': 'GRAY', 'format': 'png'}, {'id': 'ec9cf27919bf4929b497004f32f246e1', 'pathFull': 'gitterschnitte_train/image/90.png', 'imageHeight': '256', 'imageWidth': '256', 'bitsPerPixel': '8', 'colorMode': 'GRAY', 'format': 'png'}, {'id': '1f0b1e6c14c840da85d1c0c1652c8c53', 'pathFull': 'gitterschnitte_train/image/9.png', 'imageHeight': '256', 'imageWidth': '256', 'bitsPerPixel': '8', 'colorMode': 'GRAY', 'format': 'png'}, {'id': '91756a5184e04e968a89ebff6564cb17', 'pathFull': 'gitterschnitte_train/image/89.png', 'imageHeight': '256', 'imageWidth': '256', 'bitsPerPixel': '8', 'colorMode': 'GRAY', 'format': 'png'}, {'id': '9c39b5b2cd214618a287879f9fd96c95', 'pathFull': 'gitterschnitte_train/image/88.png', 'imageHeight': '256', 'imageWidth': '256', 'bitsPerPixel': '8', 'colorMode': 'GRAY', 'format': 'png'}, {'id': '7bc0e84dd636421fbfb953366e46c896', 'pathFull': 'gitterschnitte_train/image/87.png', 'imageHeight': '256', 'imageWidth': '256', 'bitsPerPixel': '8', 'colorMode': 'GRAY', 'format': 'png'}, {'id': 'e12cd14056bb4a429ee2c334551764ce', 'pathFull': 'gitterschnitte_train/image/86.png', 'imageHeight': '256', 'imageWidth': '256', 'bitsPerPixel': '8', 'colorMode': 'GRAY', 'format': 'png'}, {'id': 'b02022d566e8481b9dec52d6afe75a04', 'pathFull': 'gitterschnitte_train/image/85.png', 'imageHeight': '256', 'imageWidth': '256', 'bitsPerPixel': '8', 'colorMode': 'GRAY', 'format': 'png'}, {'id': '42a1a54c391f424ca0c4b7a3e231a9ca', 'pathFull': 'gitterschnitte_train/image/84.png', 'imageHeight': '256', 'imageWidth': '256', 'bitsPerPixel': '8', 'colorMode': 'GRAY', 'format': 'png'}, {'id': '6fbf71e7918a4105b717d05faaf194e8', 'pathFull': 'gitterschnitte_train/image/83.png', 'imageHeight': '256', 'imageWidth': '256', 'bitsPerPixel': '8', 'colorMode': 'GRAY', 'format': 'png'}, {'id': '8f75976841f74db182683aed96bf1880', 'pathFull': 'gitterschnitte_train/image/82.png', 'imageHeight': '256', 'imageWidth': '256', 'bitsPerPixel': '8', 'colorMode': 'GRAY', 'format': 'png'}, {'id': '806310024694472c871a835e85a0ec84', 'pathFull': 'gitterschnitte_train/image/81.png', 'imageHeight': '256', 'imageWidth': '256', 'bitsPerPixel': '8', 'colorMode': 'GRAY', 'format': 'png'}, {'id': 'd461542585564c489abc58caafb5eba1', 'pathFull': 'gitterschnitte_train/image/80.png', 'imageHeight': '256', 'imageWidth': '256', 'bitsPerPixel': '8', 'colorMode': 'GRAY', 'format': 'png'}, {'id': 'de59d825ac29444abda0908a310ce347', 'pathFull': 'gitterschnitte_train/image/8.png', 'imageHeight': '256', 'imageWidth': '256', 'bitsPerPixel': '8', 'colorMode': 'GRAY', 'format': 'png'}, {'id': '9d471335bc864edcbec13591fd8cb13a', 'pathFull': 'gitterschnitte_train/image/79.png', 'imageHeight': '256', 'imageWidth': '256', 'bitsPerPixel': '8', 'colorMode': 'GRAY', 'format': 'png'}, {'id': 'f0d7e0af882849d9a935ed8ffd58d0e6', 'pathFull': 'gitterschnitte_train/image/78.png', 'imageHeight': '256', 'imageWidth': '256', 'bitsPerPixel': '8', 'colorMode': 'GRAY', 'format': 'png'}, {'id': '02ca8e156afc4917be8b8cf5c7800539', 'pathFull': 'gitterschnitte_train/image/77.png', 'imageHeight': '256', 'imageWidth': '256', 'bitsPerPixel': '8', 'colorMode': 'GRAY', 'format': 'png'}, {'id': '1792eca59a6042bf8daddd685560b8a2', 'pathFull': 'gitterschnitte_train/image/76.png', 'imageHeight': '256', 'imageWidth': '256', 'bitsPerPixel': '8', 'colorMode': 'GRAY', 'format': 'png'}, {'id': '05b671b984bd478087c8514c4d97e5bf', 'pathFull': 'gitterschnitte_train/image/75.png', 'imageHeight': '256', 'imageWidth': '256', 'bitsPerPixel': '8', 'colorMode': 'GRAY', 'format': 'png'}, {'id': 'ebedac2ad95f4e88ae850c4aa675709e', 'pathFull': 'gitterschnitte_train/image/74.png', 'imageHeight': '256', 'imageWidth': '256', 'bitsPerPixel': '8', 'colorMode': 'GRAY', 'format': 'png'}, {'id': 'abde3f48c8bf47a588048a3c6a651fee', 'pathFull': 'gitterschnitte_train/image/73.png', 'imageHeight': '256', 'imageWidth': '256', 'bitsPerPixel': '8', 'colorMode': 'GRAY', 'format': 'png'}, {'id': '6693f068d95747c9a59aa061c66d8de3', 'pathFull': 'gitterschnitte_train/image/72.png', 'imageHeight': '256', 'imageWidth': '256', 'bitsPerPixel': '8', 'colorMode': 'GRAY', 'format': 'png'}, {'id': '7f0276c5cd264d7ea339102877b7acf1', 'pathFull': 'gitterschnitte_train/image/71.png', 'imageHeight': '256', 'imageWidth': '256', 'bitsPerPixel': '8', 'colorMode': 'GRAY', 'format': 'png'}, {'id': '8eb12f77c4f04517bb96d6471af7f882', 'pathFull': 'gitterschnitte_train/image/70.png', 'imageHeight': '256', 'imageWidth': '256', 'bitsPerPixel': '8', 'colorMode': 'GRAY', 'format': 'png'}, {'id': '58ca0a2d7a7e4db58a050e6ae520738f', 'pathFull': 'gitterschnitte_train/image/7.png', 'imageHeight': '256', 'imageWidth': '256', 'bitsPerPixel': '8', 'colorMode': 'GRAY', 'format': 'png'}, {'id': '5aaeac575acb4c838d447daca3994456', 'pathFull': 'gitterschnitte_train/image/69.png', 'imageHeight': '256', 'imageWidth': '256', 'bitsPerPixel': '8', 'colorMode': 'GRAY', 'format': 'png'}, {'id': 'd9824abaf301471eb358cb3ce33eb320', 'pathFull': 'gitterschnitte_train/image/68.png', 'imageHeight': '256', 'imageWidth': '256', 'bitsPerPixel': '8', 'colorMode': 'GRAY', 'format': 'png'}, {'id': 'd6426ac050634c2b8ea63218ef00636f', 'pathFull': 'gitterschnitte_train/image/67.png', 'imageHeight': '256', 'imageWidth': '256', 'bitsPerPixel': '8', 'colorMode': 'GRAY', 'format': 'png'}, {'id': '2c37115190b241dabf1708822065ee32', 'pathFull': 'gitterschnitte_train/image/66.png', 'imageHeight': '256', 'imageWidth': '256', 'bitsPerPixel': '8', 'colorMode': 'GRAY', 'format': 'png'}, {'id': '4a9db06ca94e4b5cb7d6bd5a5b6738a1', 'pathFull': 'gitterschnitte_train/image/65.png', 'imageHeight': '256', 'imageWidth': '256', 'bitsPerPixel': '8', 'colorMode': 'GRAY', 'format': 'png'}, {'id': '33362a0b6eee48f198cc5fd1dbcce794', 'pathFull': 'gitterschnitte_train/image/64.png', 'imageHeight': '256', 'imageWidth': '256', 'bitsPerPixel': '8', 'colorMode': 'GRAY', 'format': 'png'}, {'id': '49ece68eff7544d9a9eb8cf7243f33c1', 'pathFull': 'gitterschnitte_train/image/63.png', 'imageHeight': '256', 'imageWidth': '256', 'bitsPerPixel': '8', 'colorMode': 'GRAY', 'format': 'png'}, {'id': '6db5b049e281441b90962b0225425bd7', 'pathFull': 'gitterschnitte_train/image/62.png', 'imageHeight': '256', 'imageWidth': '256', 'bitsPerPixel': '8', 'colorMode': 'GRAY', 'format': 'png'}, {'id': '0699e5b824a549b69d4d76fc3f566342', 'pathFull': 'gitterschnitte_train/image/61.png', 'imageHeight': '256', 'imageWidth': '256', 'bitsPerPixel': '8', 'colorMode': 'GRAY', 'format': 'png'}, {'id': '330917bbd8f7486bbfb7021f3d55d0ad', 'pathFull': 'gitterschnitte_train/image/60.png', 'imageHeight': '256', 'imageWidth': '256', 'bitsPerPixel': '8', 'colorMode': 'GRAY', 'format': 'png'}, {'id': '80567684e75f4271bf1d294aa6fdb5c2', 'pathFull': 'gitterschnitte_train/image/6.png', 'imageHeight': '256', 'imageWidth': '256', 'bitsPerPixel': '8', 'colorMode': 'GRAY', 'format': 'png'}, {'id': 'd44e9df9c0db41bea589ab61c5d14327', 'pathFull': 'gitterschnitte_train/image/59.png', 'imageHeight': '256', 'imageWidth': '256', 'bitsPerPixel': '8', 'colorMode': 'GRAY', 'format': 'png'}, {'id': 'fb65d2a0a5a74a19a06d6d9054391424', 'pathFull': 'gitterschnitte_train/image/58.png', 'imageHeight': '256', 'imageWidth': '256', 'bitsPerPixel': '8', 'colorMode': 'GRAY', 'format': 'png'}, {'id': '93b6ea6af0264bdc83926775a18d66f7', 'pathFull': 'gitterschnitte_train/image/57.png', 'imageHeight': '256', 'imageWidth': '256', 'bitsPerPixel': '8', 'colorMode': 'GRAY', 'format': 'png'}, {'id': 'bb33467dae4f4ee79d4bed9e1f81d4a0', 'pathFull': 'gitterschnitte_train/image/56.png', 'imageHeight': '256', 'imageWidth': '256', 'bitsPerPixel': '8', 'colorMode': 'GRAY', 'format': 'png'}, {'id': 'db981fb2bb714df1b6d17704f686d9a0', 'pathFull': 'gitterschnitte_train/image/55.png', 'imageHeight': '256', 'imageWidth': '256', 'bitsPerPixel': '8', 'colorMode': 'GRAY', 'format': 'png'}, {'id': 'b319bbc831e54e5393ac6f2583a27864', 'pathFull': 'gitterschnitte_train/image/54.png', 'imageHeight': '256', 'imageWidth': '256', 'bitsPerPixel': '8', 'colorMode': 'GRAY', 'format': 'png'}, {'id': '1fc6a061f5804171b5e9b1d7238b7b0a', 'pathFull': 'gitterschnitte_train/image/53.png', 'imageHeight': '256', 'imageWidth': '256', 'bitsPerPixel': '8', 'colorMode': 'GRAY', 'format': 'png'}, {'id': '147b6c78c8a54cb0a2733ee98dbe9f4e', 'pathFull': 'gitterschnitte_train/image/52.png', 'imageHeight': '256', 'imageWidth': '256', 'bitsPerPixel': '8', 'colorMode': 'GRAY', 'format': 'png'}, {'id': '29e294c2ba974fdda05da1d61f549a9d', 'pathFull': 'gitterschnitte_train/image/51.png', 'imageHeight': '256', 'imageWidth': '256', 'bitsPerPixel': '8', 'colorMode': 'GRAY', 'format': 'png'}, {'id': '28fa126d9c6e41ea9182ee9473fe70e2', 'pathFull': 'gitterschnitte_train/image/50.png', 'imageHeight': '256', 'imageWidth': '256', 'bitsPerPixel': '8', 'colorMode': 'GRAY', 'format': 'png'}, {'id': '55df1f4aada143e5982c84cdba19b386', 'pathFull': 'gitterschnitte_train/image/5.png', 'imageHeight': '256', 'imageWidth': '256', 'bitsPerPixel': '8', 'colorMode': 'GRAY', 'format': 'png'}, {'id': 'c1f4f48e0bee425cb4f3ae4a0f1b3c1c', 'pathFull': 'gitterschnitte_train/image/49.png', 'imageHeight': '256', 'imageWidth': '256', 'bitsPerPixel': '8', 'colorMode': 'GRAY', 'format': 'png'}, {'id': 'bac8cfa8e92c47feaefb1306a6413a97', 'pathFull': 'gitterschnitte_train/image/48.png', 'imageHeight': '256', 'imageWidth': '256', 'bitsPerPixel': '8', 'colorMode': 'GRAY', 'format': 'png'}, {'id': '1e376a3358764ef897580ee50b3e6eb8', 'pathFull': 'gitterschnitte_train/image/47.png', 'imageHeight': '256', 'imageWidth': '256', 'bitsPerPixel': '8', 'colorMode': 'GRAY', 'format': 'png'}, {'id': '1906593d6a474e43b11d12002851999a', 'pathFull': 'gitterschnitte_train/image/46.png', 'imageHeight': '256', 'imageWidth': '256', 'bitsPerPixel': '8', 'colorMode': 'GRAY', 'format': 'png'}, {'id': '36bb9262700c446ab7add7ca9fccb927', 'pathFull': 'gitterschnitte_train/image/45.png', 'imageHeight': '256', 'imageWidth': '256', 'bitsPerPixel': '8', 'colorMode': 'GRAY', 'format': 'png'}, {'id': '12d83c1585a84b42839fdc730cfd84ba', 'pathFull': 'gitterschnitte_train/image/44.png', 'imageHeight': '256', 'imageWidth': '256', 'bitsPerPixel': '8', 'colorMode': 'GRAY', 'format': 'png'}, {'id': '2446efa2c6b64864bbbced2c976df9ae', 'pathFull': 'gitterschnitte_train/image/43.png', 'imageHeight': '256', 'imageWidth': '256', 'bitsPerPixel': '8', 'colorMode': 'GRAY', 'format': 'png'}, {'id': '8ed0294e510d4779895e934ccc0d57db', 'pathFull': 'gitterschnitte_train/image/42.png', 'imageHeight': '256', 'imageWidth': '256', 'bitsPerPixel': '8', 'colorMode': 'GRAY', 'format': 'png'}, {'id': '22cc8726abd146c088dd7894f445afa7', 'pathFull': 'gitterschnitte_train/image/41.png', 'imageHeight': '256', 'imageWidth': '256', 'bitsPerPixel': '8', 'colorMode': 'GRAY', 'format': 'png'}, {'id': '3d16317c6d07402d93cf8aba82a93d79', 'pathFull': 'gitterschnitte_train/image/40.png', 'imageHeight': '256', 'imageWidth': '256', 'bitsPerPixel': '8', 'colorMode': 'GRAY', 'format': 'png'}, {'id': '66e7f8473e664b5190c2d560147f2d32', 'pathFull': 'gitterschnitte_train/image/4.png', 'imageHeight': '256', 'imageWidth': '256', 'bitsPerPixel': '8', 'colorMode': 'GRAY', 'format': 'png'}, {'id': 'e6ffee7c59c24c6fa6225ed211c50b63', 'pathFull': 'gitterschnitte_train/image/39.png', 'imageHeight': '256', 'imageWidth': '256', 'bitsPerPixel': '8', 'colorMode': 'GRAY', 'format': 'png'}, {'id': 'b46dff603a2445618af72d922ce55584', 'pathFull': 'gitterschnitte_train/image/38.png', 'imageHeight': '256', 'imageWidth': '256', 'bitsPerPixel': '8', 'colorMode': 'GRAY', 'format': 'png'}, {'id': '2c3dbe9451de42d9b07269cd601b29b4', 'pathFull': 'gitterschnitte_train/image/37.png', 'imageHeight': '256', 'imageWidth': '256', 'bitsPerPixel': '8', 'colorMode': 'GRAY', 'format': 'png'}, {'id': 'e562359d742b47a08c1be2d5b09e5ce3', 'pathFull': 'gitterschnitte_train/image/36.png', 'imageHeight': '256', 'imageWidth': '256', 'bitsPerPixel': '8', 'colorMode': 'GRAY', 'format': 'png'}, {'id': 'a7007787a1324e61818041de27a36bea', 'pathFull': 'gitterschnitte_train/image/35.png', 'imageHeight': '256', 'imageWidth': '256', 'bitsPerPixel': '8', 'colorMode': 'GRAY', 'format': 'png'}, {'id': '7bef2e91a0c2498090ced3939a117486', 'pathFull': 'gitterschnitte_train/image/34.png', 'imageHeight': '256', 'imageWidth': '256', 'bitsPerPixel': '8', 'colorMode': 'GRAY', 'format': 'png'}, {'id': 'a6b8a6d7343f49b4a1b3c00a402dd2f7', 'pathFull': 'gitterschnitte_train/image/33.png', 'imageHeight': '256', 'imageWidth': '256', 'bitsPerPixel': '8', 'colorMode': 'GRAY', 'format': 'png'}, {'id': '9064b949e9594c75aa8bfd17d08658a4', 'pathFull': 'gitterschnitte_train/image/32.png', 'imageHeight': '256', 'imageWidth': '256', 'bitsPerPixel': '8', 'colorMode': 'GRAY', 'format': 'png'}, {'id': '132da0789c6d4aa78870c61e8e4d4c07', 'pathFull': 'gitterschnitte_train/image/31.png', 'imageHeight': '256', 'imageWidth': '256', 'bitsPerPixel': '8', 'colorMode': 'GRAY', 'format': 'png'}, {'id': 'd4c5e2ce48044ee2a9d7f7965e6cad76', 'pathFull': 'gitterschnitte_train/image/30.png', 'imageHeight': '256', 'imageWidth': '256', 'bitsPerPixel': '8', 'colorMode': 'GRAY', 'format': 'png'}, {'id': '18c26a293d3e4db087cc7ec3695fd7ed', 'pathFull': 'gitterschnitte_train/image/3.png', 'imageHeight': '256', 'imageWidth': '256', 'bitsPerPixel': '8', 'colorMode': 'GRAY', 'format': 'png'}, {'id': '0114129c1b184eef871524087faf0ee0', 'pathFull': 'gitterschnitte_train/image/29.png', 'imageHeight': '256', 'imageWidth': '256', 'bitsPerPixel': '8', 'colorMode': 'GRAY', 'format': 'png'}, {'id': '09682210c1404542af0baab774886848', 'pathFull': 'gitterschnitte_train/image/28.png', 'imageHeight': '256', 'imageWidth': '256', 'bitsPerPixel': '8', 'colorMode': 'GRAY', 'format': 'png'}, {'id': '9747b96e32f642a48f397e0d263e2422', 'pathFull': 'gitterschnitte_train/image/27.png', 'imageHeight': '256', 'imageWidth': '256', 'bitsPerPixel': '8', 'colorMode': 'GRAY', 'format': 'png'}, {'id': '54bbf430adb84841a308104d2595af89', 'pathFull': 'gitterschnitte_train/image/26.png', 'imageHeight': '256', 'imageWidth': '256', 'bitsPerPixel': '8', 'colorMode': 'GRAY', 'format': 'png'}, {'id': '83bae2d0173449199b4f1e17de58496c', 'pathFull': 'gitterschnitte_train/image/25.png', 'imageHeight': '256', 'imageWidth': '256', 'bitsPerPixel': '8', 'colorMode': 'GRAY', 'format': 'png'}, {'id': '8209a6c0ade5421fa02ab2c2d8340e2e', 'pathFull': 'gitterschnitte_train/image/24.png', 'imageHeight': '256', 'imageWidth': '256', 'bitsPerPixel': '8', 'colorMode': 'GRAY', 'format': 'png'}, {'id': '9b2a2c56ab7d44af8219ffb734a300be', 'pathFull': 'gitterschnitte_train/image/23.png', 'imageHeight': '256', 'imageWidth': '256', 'bitsPerPixel': '8', 'colorMode': 'GRAY', 'format': 'png'}, {'id': 'e4f250f1eba34d7b905c2df7039cdc14', 'pathFull': 'gitterschnitte_train/image/22.png', 'imageHeight': '256', 'imageWidth': '256', 'bitsPerPixel': '8', 'colorMode': 'GRAY', 'format': 'png'}, {'id': '5dc81460990546a08b6c399b5f7d6af3', 'pathFull': 'gitterschnitte_train/image/21.png', 'imageHeight': '256', 'imageWidth': '256', 'bitsPerPixel': '8', 'colorMode': 'GRAY', 'format': 'png'}, {'id': '0d7fee665db04457b6d0f24dc7d9702b', 'pathFull': 'gitterschnitte_train/image/20.png', 'imageHeight': '256', 'imageWidth': '256', 'bitsPerPixel': '8', 'colorMode': 'GRAY', 'format': 'png'}, {'id': '6e1da523f65b46da8e4e385d737dbfa4', 'pathFull': 'gitterschnitte_train/image/2.png', 'imageHeight': '256', 'imageWidth': '256', 'bitsPerPixel': '8', 'colorMode': 'GRAY', 'format': 'png'}, {'id': 'b86dfb98b48c498ca188bd16db85bb2d', 'pathFull': 'gitterschnitte_train/image/19.png', 'imageHeight': '256', 'imageWidth': '256', 'bitsPerPixel': '8', 'colorMode': 'GRAY', 'format': 'png'}, {'id': '6f09c2acd13048768255c95aa4ea8344', 'pathFull': 'gitterschnitte_train/image/18.png', 'imageHeight': '256', 'imageWidth': '256', 'bitsPerPixel': '8', 'colorMode': 'GRAY', 'format': 'png'}, {'id': '319e947d8a0749f38d159bbc67295587', 'pathFull': 'gitterschnitte_train/image/173.png', 'imageHeight': '256', 'imageWidth': '256', 'bitsPerPixel': '8', 'colorMode': 'GRAY', 'format': 'png'}, {'id': '4823dd34a34b447087e984e57e6f933c', 'pathFull': 'gitterschnitte_train/image/172.png', 'imageHeight': '256', 'imageWidth': '256', 'bitsPerPixel': '8', 'colorMode': 'GRAY', 'format': 'png'}, {'id': 'e77b2547fcc841cdbca7f76146772201', 'pathFull': 'gitterschnitte_train/image/171.png', 'imageHeight': '256', 'imageWidth': '256', 'bitsPerPixel': '8', 'colorMode': 'GRAY', 'format': 'png'}, {'id': '7c03125f94254e1d891febac92553771', 'pathFull': 'gitterschnitte_train/image/170.png', 'imageHeight': '256', 'imageWidth': '256', 'bitsPerPixel': '8', 'colorMode': 'GRAY', 'format': 'png'}, {'id': 'a6833d9444d94ae4b89f005cfd91131f', 'pathFull': 'gitterschnitte_train/image/17.png', 'imageHeight': '256', 'imageWidth': '256', 'bitsPerPixel': '8', 'colorMode': 'GRAY', 'format': 'png'}, {'id': 'ea7f8bf5d4b94942916deb092a66f27c', 'pathFull': 'gitterschnitte_train/image/169.png', 'imageHeight': '256', 'imageWidth': '256', 'bitsPerPixel': '8', 'colorMode': 'GRAY', 'format': 'png'}, {'id': 'b5d4b70b167b4f3ca48f84435f1ecb9b', 'pathFull': 'gitterschnitte_train/image/168.png', 'imageHeight': '256', 'imageWidth': '256', 'bitsPerPixel': '8', 'colorMode': 'GRAY', 'format': 'png'}, {'id': '4e1ecb6263d44a8d8dd31407b5a27435', 'pathFull': 'gitterschnitte_train/image/167.png', 'imageHeight': '256', 'imageWidth': '256', 'bitsPerPixel': '8', 'colorMode': 'GRAY', 'format': 'png'}, {'id': '745bfd0ff7904a0da4eeef49ce924728', 'pathFull': 'gitterschnitte_train/image/166.png', 'imageHeight': '256', 'imageWidth': '256', 'bitsPerPixel': '8', 'colorMode': 'GRAY', 'format': 'png'}, {'id': 'ef65148e4c5c489f893daba661f1dd45', 'pathFull': 'gitterschnitte_train/image/165.png', 'imageHeight': '256', 'imageWidth': '256', 'bitsPerPixel': '8', 'colorMode': 'GRAY', 'format': 'png'}, {'id': '3920bae7dcae4321a7960fa4824e22ce', 'pathFull': 'gitterschnitte_train/image/164.png', 'imageHeight': '256', 'imageWidth': '256', 'bitsPerPixel': '8', 'colorMode': 'GRAY', 'format': 'png'}, {'id': '171ebcc56bb54c7691d0e37c9ed5d703', 'pathFull': 'gitterschnitte_train/image/163.png', 'imageHeight': '256', 'imageWidth': '256', 'bitsPerPixel': '8', 'colorMode': 'GRAY', 'format': 'png'}, {'id': '3c133a1051e043ffa7cae37e746db583', 'pathFull': 'gitterschnitte_train/image/162.png', 'imageHeight': '256', 'imageWidth': '256', 'bitsPerPixel': '8', 'colorMode': 'GRAY', 'format': 'png'}, {'id': 'c8703db432214c60bcf2a66096ede7ce', 'pathFull': 'gitterschnitte_train/image/161.png', 'imageHeight': '256', 'imageWidth': '256', 'bitsPerPixel': '8', 'colorMode': 'GRAY', 'format': 'png'}, {'id': 'd3851d3a25474c0da0194253ce8597da', 'pathFull': 'gitterschnitte_train/image/160.png', 'imageHeight': '256', 'imageWidth': '256', 'bitsPerPixel': '8', 'colorMode': 'GRAY', 'format': 'png'}, {'id': 'd0a90de324f24b67b8a98f44768d588d', 'pathFull': 'gitterschnitte_train/image/16.png', 'imageHeight': '256', 'imageWidth': '256', 'bitsPerPixel': '8', 'colorMode': 'GRAY', 'format': 'png'}, {'id': 'eb3af1a655b84da8b9a09ca0f77f2afc', 'pathFull': 'gitterschnitte_train/image/159.png', 'imageHeight': '256', 'imageWidth': '256', 'bitsPerPixel': '8', 'colorMode': 'GRAY', 'format': 'png'}, {'id': 'c022e8021ad542ad8d32923d02458efc', 'pathFull': 'gitterschnitte_train/image/158.png', 'imageHeight': '256', 'imageWidth': '256', 'bitsPerPixel': '8', 'colorMode': 'GRAY', 'format': 'png'}, {'id': 'd983092bcaae42b68ee7a078ed62633d', 'pathFull': 'gitterschnitte_train/image/157.png', 'imageHeight': '256', 'imageWidth': '256', 'bitsPerPixel': '8', 'colorMode': 'GRAY', 'format': 'png'}, {'id': 'e4b33fd2c87b4c0abe0a0231fd49ad07', 'pathFull': 'gitterschnitte_train/image/156.png', 'imageHeight': '256', 'imageWidth': '256', 'bitsPerPixel': '8', 'colorMode': 'GRAY', 'format': 'png'}, {'id': 'd3b15991083b4047b2b3ed52f96c0b05', 'pathFull': 'gitterschnitte_train/image/155.png', 'imageHeight': '256', 'imageWidth': '256', 'bitsPerPixel': '8', 'colorMode': 'GRAY', 'format': 'png'}, {'id': 'eca37a9b9d6547a4a40734e2eed2f5f3', 'pathFull': 'gitterschnitte_train/image/154.png', 'imageHeight': '256', 'imageWidth': '256', 'bitsPerPixel': '8', 'colorMode': 'GRAY', 'format': 'png'}, {'id': '46c13ccb4be542ccb52d271ba46fb56a', 'pathFull': 'gitterschnitte_train/image/153.png', 'imageHeight': '256', 'imageWidth': '256', 'bitsPerPixel': '8', 'colorMode': 'GRAY', 'format': 'png'}, {'id': 'fbaa84753ec94913b624e7dc70b7873f', 'pathFull': 'gitterschnitte_train/image/152.png', 'imageHeight': '256', 'imageWidth': '256', 'bitsPerPixel': '8', 'colorMode': 'GRAY', 'format': 'png'}, {'id': '1d0af4c078ac467db7311bf91da0668e', 'pathFull': 'gitterschnitte_train/image/151.png', 'imageHeight': '256', 'imageWidth': '256', 'bitsPerPixel': '8', 'colorMode': 'GRAY', 'format': 'png'}, {'id': 'ef2068293dce4e1ea6f7bac1b445ed8d', 'pathFull': 'gitterschnitte_train/image/150.png', 'imageHeight': '256', 'imageWidth': '256', 'bitsPerPixel': '8', 'colorMode': 'GRAY', 'format': 'png'}, {'id': '5c59893224404b3ab52796c6a86748bd', 'pathFull': 'gitterschnitte_train/image/15.png', 'imageHeight': '256', 'imageWidth': '256', 'bitsPerPixel': '8', 'colorMode': 'GRAY', 'format': 'png'}, {'id': 'bfa9bdcb9f6b42d4bc1c027a95447e32', 'pathFull': 'gitterschnitte_train/image/149.png', 'imageHeight': '256', 'imageWidth': '256', 'bitsPerPixel': '8', 'colorMode': 'GRAY', 'format': 'png'}, {'id': '87e27ba734a7436082658a42801d1ed0', 'pathFull': 'gitterschnitte_train/image/148.png', 'imageHeight': '256', 'imageWidth': '256', 'bitsPerPixel': '8', 'colorMode': 'GRAY', 'format': 'png'}, {'id': '5ec9125d08d2445dafea2b489b7dc7f9', 'pathFull': 'gitterschnitte_train/image/147.png', 'imageHeight': '256', 'imageWidth': '256', 'bitsPerPixel': '8', 'colorMode': 'GRAY', 'format': 'png'}, {'id': 'a3ba8972c87b48ab9d9ec93c8d19e3a7', 'pathFull': 'gitterschnitte_train/image/146.png', 'imageHeight': '256', 'imageWidth': '256', 'bitsPerPixel': '8', 'colorMode': 'GRAY', 'format': 'png'}, {'id': '0ee23af7762c4e3f8f6e218cd1d89692', 'pathFull': 'gitterschnitte_train/image/145.png', 'imageHeight': '256', 'imageWidth': '256', 'bitsPerPixel': '8', 'colorMode': 'GRAY', 'format': 'png'}, {'id': '0b2e06a32e81492893b49525535e83dd', 'pathFull': 'gitterschnitte_train/image/144.png', 'imageHeight': '256', 'imageWidth': '256', 'bitsPerPixel': '8', 'colorMode': 'GRAY', 'format': 'png'}, {'id': 'f23f97eeea524a78b95b269c31daa10e', 'pathFull': 'gitterschnitte_train/image/0.png', 'imageHeight': '256', 'imageWidth': '256', 'bitsPerPixel': '8', 'colorMode': 'GRAY', 'format': 'png'}, {'id': '0dae48b1a9e6401bb3303e99442b52fb', 'pathFull': 'gitterschnitte_train/image/1.png', 'imageHeight': '256', 'imageWidth': '256', 'bitsPerPixel': '8', 'colorMode': 'GRAY', 'format': 'png'}, {'id': 'd2d1fdc44fd344f1b12d9e5e1736925d', 'pathFull': 'gitterschnitte_train/image/10.png', 'imageHeight': '256', 'imageWidth': '256', 'bitsPerPixel': '8', 'colorMode': 'GRAY', 'format': 'png'}, {'id': 'bda7c634449c4948a7b21e2a9b7fef18', 'pathFull': 'gitterschnitte_train/image/100.png', 'imageHeight': '256', 'imageWidth': '256', 'bitsPerPixel': '8', 'colorMode': 'GRAY', 'format': 'png'}, {'id': '28bc23700be8434e8256bbfba10e25a7', 'pathFull': 'gitterschnitte_train/image/101.png', 'imageHeight': '256', 'imageWidth': '256', 'bitsPerPixel': '8', 'colorMode': 'GRAY', 'format': 'png'}, {'id': 'b5be85d753e4488fb7c2d34c8bbdbf39', 'pathFull': 'gitterschnitte_train/image/102.png', 'imageHeight': '256', 'imageWidth': '256', 'bitsPerPixel': '8', 'colorMode': 'GRAY', 'format': 'png'}, {'id': 'e6330e4ecb5a4b2a9f7a3e6d799ce4b5', 'pathFull': 'gitterschnitte_train/image/103.png', 'imageHeight': '256', 'imageWidth': '256', 'bitsPerPixel': '8', 'colorMode': 'GRAY', 'format': 'png'}, {'id': '7ed4633744874590b5a839bc09a27179', 'pathFull': 'gitterschnitte_train/image/104.png', 'imageHeight': '256', 'imageWidth': '256', 'bitsPerPixel': '8', 'colorMode': 'GRAY', 'format': 'png'}, {'id': 'ca6ab4ea1445447cb2c8cbf1cf161561', 'pathFull': 'gitterschnitte_train/image/105.png', 'imageHeight': '256', 'imageWidth': '256', 'bitsPerPixel': '8', 'colorMode': 'GRAY', 'format': 'png'}, {'id': '86fd91a36efa4298923f2d140d263fda', 'pathFull': 'gitterschnitte_train/image/106.png', 'imageHeight': '256', 'imageWidth': '256', 'bitsPerPixel': '8', 'colorMode': 'GRAY', 'format': 'png'}, {'id': 'cc2800bad7df47d699946288e4717f87', 'pathFull': 'gitterschnitte_train/image/107.png', 'imageHeight': '256', 'imageWidth': '256', 'bitsPerPixel': '8', 'colorMode': 'GRAY', 'format': 'png'}, {'id': '05ea0e9e1a254354964b4d3b12404fd3', 'pathFull': 'gitterschnitte_train/image/108.png', 'imageHeight': '256', 'imageWidth': '256', 'bitsPerPixel': '8', 'colorMode': 'GRAY', 'format': 'png'}, {'id': '4e269810d792483c90ac68acff48308a', 'pathFull': 'gitterschnitte_train/image/109.png', 'imageHeight': '256', 'imageWidth': '256', 'bitsPerPixel': '8', 'colorMode': 'GRAY', 'format': 'png'}, {'id': '8bab090d41a64242b0eab41d07b2a9d6', 'pathFull': 'gitterschnitte_train/image/11.png', 'imageHeight': '256', 'imageWidth': '256', 'bitsPerPixel': '8', 'colorMode': 'GRAY', 'format': 'png'}, {'id': 'ed1c8039e7a54783b9353d6768105317', 'pathFull': 'gitterschnitte_train/image/110.png', 'imageHeight': '256', 'imageWidth': '256', 'bitsPerPixel': '8', 'colorMode': 'GRAY', 'format': 'png'}, {'id': '481589995f784a29811906f39d12a932', 'pathFull': 'gitterschnitte_train/image/111.png', 'imageHeight': '256', 'imageWidth': '256', 'bitsPerPixel': '8', 'colorMode': 'GRAY', 'format': 'png'}, {'id': 'd45f00c60aef41589c946b3eb3e3de96', 'pathFull': 'gitterschnitte_train/image/112.png', 'imageHeight': '256', 'imageWidth': '256', 'bitsPerPixel': '8', 'colorMode': 'GRAY', 'format': 'png'}, {'id': 'cf203ba07fe84a0988813628753a6b65', 'pathFull': 'gitterschnitte_train/image/113.png', 'imageHeight': '256', 'imageWidth': '256', 'bitsPerPixel': '8', 'colorMode': 'GRAY', 'format': 'png'}, {'id': '9c38b05fec024225bbe2291fbe448f20', 'pathFull': 'gitterschnitte_train/image/114.png', 'imageHeight': '256', 'imageWidth': '256', 'bitsPerPixel': '8', 'colorMode': 'GRAY', 'format': 'png'}, {'id': '1bc6e3ed1a55409696ea3004c607d563', 'pathFull': 'gitterschnitte_train/image/115.png', 'imageHeight': '256', 'imageWidth': '256', 'bitsPerPixel': '8', 'colorMode': 'GRAY', 'format': 'png'}, {'id': '4acb5b92c1834fc4afb78af07af2b9c2', 'pathFull': 'gitterschnitte_train/image/116.png', 'imageHeight': '256', 'imageWidth': '256', 'bitsPerPixel': '8', 'colorMode': 'GRAY', 'format': 'png'}, {'id': '4cdafe11d3d843f29de73caf5155fdb9', 'pathFull': 'gitterschnitte_train/image/117.png', 'imageHeight': '256', 'imageWidth': '256', 'bitsPerPixel': '8', 'colorMode': 'GRAY', 'format': 'png'}, {'id': '176c87eff4254568ba97fc65b2214bd1', 'pathFull': 'gitterschnitte_train/image/118.png', 'imageHeight': '256', 'imageWidth': '256', 'bitsPerPixel': '8', 'colorMode': 'GRAY', 'format': 'png'}, {'id': 'c4c20dce047349ce98b29e1f4333e09e', 'pathFull': 'gitterschnitte_train/image/119.png', 'imageHeight': '256', 'imageWidth': '256', 'bitsPerPixel': '8', 'colorMode': 'GRAY', 'format': 'png'}, {'id': '635f6e9af7834feba9390c187c416995', 'pathFull': 'gitterschnitte_train/image/12.png', 'imageHeight': '256', 'imageWidth': '256', 'bitsPerPixel': '8', 'colorMode': 'GRAY', 'format': 'png'}, {'id': 'ba6e016e1c324376ad967cc0471aaa8b', 'pathFull': 'gitterschnitte_train/image/120.png', 'imageHeight': '256', 'imageWidth': '256', 'bitsPerPixel': '8', 'colorMode': 'GRAY', 'format': 'png'}, {'id': '2c86e8ca902048fc98d9ba2f4e2743a1', 'pathFull': 'gitterschnitte_train/image/121.png', 'imageHeight': '256', 'imageWidth': '256', 'bitsPerPixel': '8', 'colorMode': 'GRAY', 'format': 'png'}, {'id': '9d9e4b1024154f67ac95f3d25897d45b', 'pathFull': 'gitterschnitte_train/image/122.png', 'imageHeight': '256', 'imageWidth': '256', 'bitsPerPixel': '8', 'colorMode': 'GRAY', 'format': 'png'}, {'id': '5b899becac484260a90239c58bceb595', 'pathFull': 'gitterschnitte_train/image/123.png', 'imageHeight': '256', 'imageWidth': '256', 'bitsPerPixel': '8', 'colorMode': 'GRAY', 'format': 'png'}, {'id': 'df250c6d2b644ad3b4c0cd8e4d2328c6', 'pathFull': 'gitterschnitte_train/image/124.png', 'imageHeight': '256', 'imageWidth': '256', 'bitsPerPixel': '8', 'colorMode': 'GRAY', 'format': 'png'}, {'id': '27c03c1990474642a91eedc95355713c', 'pathFull': 'gitterschnitte_train/image/125.png', 'imageHeight': '256', 'imageWidth': '256', 'bitsPerPixel': '8', 'colorMode': 'GRAY', 'format': 'png'}, {'id': '1e44000e2e7d4fb684eb6ec81b33e232', 'pathFull': 'gitterschnitte_train/image/126.png', 'imageHeight': '256', 'imageWidth': '256', 'bitsPerPixel': '8', 'colorMode': 'GRAY', 'format': 'png'}, {'id': '20b3b20ce38746a7a2c9396c5c8f29ca', 'pathFull': 'gitterschnitte_train/image/127.png', 'imageHeight': '256', 'imageWidth': '256', 'bitsPerPixel': '8', 'colorMode': 'GRAY', 'format': 'png'}, {'id': '718691a814a945f294291035ef405cc8', 'pathFull': 'gitterschnitte_train/image/128.png', 'imageHeight': '256', 'imageWidth': '256', 'bitsPerPixel': '8', 'colorMode': 'GRAY', 'format': 'png'}, {'id': '49f2f787b51a486a9989955a1ec2b86a', 'pathFull': 'gitterschnitte_train/image/129.png', 'imageHeight': '256', 'imageWidth': '256', 'bitsPerPixel': '8', 'colorMode': 'GRAY', 'format': 'png'}, {'id': 'a8d81764e1fd4a3f974cf9187ee331a3', 'pathFull': 'gitterschnitte_train/image/13.png', 'imageHeight': '256', 'imageWidth': '256', 'bitsPerPixel': '8', 'colorMode': 'GRAY', 'format': 'png'}, {'id': '7459e3b821744a498c63aeee04a43ee8', 'pathFull': 'gitterschnitte_train/image/130.png', 'imageHeight': '256', 'imageWidth': '256', 'bitsPerPixel': '8', 'colorMode': 'GRAY', 'format': 'png'}, {'id': '13764703afce435bb9c4d0fafa4dfbcc', 'pathFull': 'gitterschnitte_train/image/131.png', 'imageHeight': '256', 'imageWidth': '256', 'bitsPerPixel': '8', 'colorMode': 'GRAY', 'format': 'png'}, {'id': '06f146ee012a428bb4a61e6ad6f28332', 'pathFull': 'gitterschnitte_train/image/132.png', 'imageHeight': '256', 'imageWidth': '256', 'bitsPerPixel': '8', 'colorMode': 'GRAY', 'format': 'png'}, {'id': '300cc27c61ad47f99d0314c191e8e51b', 'pathFull': 'gitterschnitte_train/image/133.png', 'imageHeight': '256', 'imageWidth': '256', 'bitsPerPixel': '8', 'colorMode': 'GRAY', 'format': 'png'}, {'id': 'ffca3a1b547341c2a3b1808bd7081056', 'pathFull': 'gitterschnitte_train/image/134.png', 'imageHeight': '256', 'imageWidth': '256', 'bitsPerPixel': '8', 'colorMode': 'GRAY', 'format': 'png'}, {'id': '075671ae4b054052bcfb5e3c69422898', 'pathFull': 'gitterschnitte_train/image/135.png', 'imageHeight': '256', 'imageWidth': '256', 'bitsPerPixel': '8', 'colorMode': 'GRAY', 'format': 'png'}, {'id': '1b592b53e0144f8f92fb05604404d7c9', 'pathFull': 'gitterschnitte_train/image/136.png', 'imageHeight': '256', 'imageWidth': '256', 'bitsPerPixel': '8', 'colorMode': 'GRAY', 'format': 'png'}, {'id': '1e490941bb4b499187b319d04a1f9caf', 'pathFull': 'gitterschnitte_train/image/137.png', 'imageHeight': '256', 'imageWidth': '256', 'bitsPerPixel': '8', 'colorMode': 'GRAY', 'format': 'png'}, {'id': 'd1a810731d7e4957bb965045bb9ef725', 'pathFull': 'gitterschnitte_train/image/138.png', 'imageHeight': '256', 'imageWidth': '256', 'bitsPerPixel': '8', 'colorMode': 'GRAY', 'format': 'png'}, {'id': '76b97551c3ec4df8acc0eac9702b1d8f', 'pathFull': 'gitterschnitte_train/image/139.png', 'imageHeight': '256', 'imageWidth': '256', 'bitsPerPixel': '8', 'colorMode': 'GRAY', 'format': 'png'}, {'id': '947b1af25c294f63ac18754682780683', 'pathFull': 'gitterschnitte_train/image/14.png', 'imageHeight': '256', 'imageWidth': '256', 'bitsPerPixel': '8', 'colorMode': 'GRAY', 'format': 'png'}, {'id': '39dc6c4a7ceb40d4b5f4d40157baa03c', 'pathFull': 'gitterschnitte_train/image/140.png', 'imageHeight': '256', 'imageWidth': '256', 'bitsPerPixel': '8', 'colorMode': 'GRAY', 'format': 'png'}, {'id': '38214dbb7a104033a3dd9907b4fcae0e', 'pathFull': 'gitterschnitte_train/image/141.png', 'imageHeight': '256', 'imageWidth': '256', 'bitsPerPixel': '8', 'colorMode': 'GRAY', 'format': 'png'}, {'id': '5a9b5fd402194f249d259c3c1e5844a2', 'pathFull': 'gitterschnitte_train/image/142.png', 'imageHeight': '256', 'imageWidth': '256', 'bitsPerPixel': '8', 'colorMode': 'GRAY', 'format': 'png'}], 'folderStructure': {'uid': '293ea14c0f794563ad5dcf6ca1ac3fbf', 'name': 'gitterschnitte_train', 'type': 'ROOT', 'subfolders': [{'uid': '907cd628d7a24d549ce8522668e4a580', 'name': 'mask', 'type': 'SEG_MASK', 'subfolders': []}, {'uid': 'a93018a071354011817990463c71f458', 'name': 'image', 'type': 'SEG_IMAGE', 'subfolders': []}]}}, 'author': None, 'longitude': None, 'latitude': None, 'license': None}\n"
     ]
    }
   ],
   "source": [
    "print(    dataset.content\n",
    ")"
   ]
  }
 ],
 "metadata": {
  "kernelspec": {
   "display_name": "AutoML",
   "language": "python",
   "name": "python3"
  },
  "language_info": {
   "codemirror_mode": {
    "name": "ipython",
    "version": 3
   },
   "file_extension": ".py",
   "mimetype": "text/x-python",
   "name": "python",
   "nbconvert_exporter": "python",
   "pygments_lexer": "ipython3",
   "version": "3.8.18"
  }
 },
 "nbformat": 4,
 "nbformat_minor": 2
}

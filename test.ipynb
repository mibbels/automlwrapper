{
 "cells": [
  {
   "cell_type": "markdown",
   "metadata": {},
   "source": [
    "# TODO\n",
    "#### Klassen protecten\n",
    "```\n",
    "import AutoMLWrapper.automlwrapper as aw\n",
    "aw.Configuration.Configuration\n",
    "```\n",
    "\n",
    "#### Erweiterung um Bibliotheken\n",
    "-  @__library.setter\n",
    "    - a) Global/GlobalConfig.yaml\n",
    "        - lib-names\n",
    "        - type mappings\n",
    "    - b) directory durchsuchen \n",
    "- import in AutoMLWrapper anpassen\n",
    "- SEDAR automl.py config locations anpassen\n",
    "\n",
    "### custom proprocessing\n",
    "- typen checken\n",
    "- die wrapper könnten property methods implementieren, die die Rückgabe eines festen samples prüfen\n",
    "\n",
    "### custom parameters\n",
    "\n",
    "\n",
    "### 2+ problem types"
   ]
  },
  {
   "cell_type": "code",
   "execution_count": 1,
   "metadata": {},
   "outputs": [
    {
     "name": "stderr",
     "output_type": "stream",
     "text": [
      "2024-01-07 20:34:19.083745: I tensorflow/tsl/cuda/cudart_stub.cc:28] Could not find cuda drivers on your machine, GPU will not be used.\n",
      "2024-01-07 20:34:19.144055: I tensorflow/tsl/cuda/cudart_stub.cc:28] Could not find cuda drivers on your machine, GPU will not be used.\n",
      "2024-01-07 20:34:19.145178: I tensorflow/core/platform/cpu_feature_guard.cc:182] This TensorFlow binary is optimized to use available CPU instructions in performance-critical operations.\n",
      "To enable the following instructions: AVX2 AVX512F FMA, in other operations, rebuild TensorFlow with the appropriate compiler flags.\n",
      "2024-01-07 20:34:20.242791: W tensorflow/compiler/tf2tensorrt/utils/py_utils.cc:38] TF-TRT Warning: Could not find TensorRT\n",
      "/home/mibbels/miniconda3/envs/automl_env/lib/python3.8/site-packages/tqdm/auto.py:21: TqdmWarning: IProgress not found. Please update jupyter and ipywidgets. See https://ipywidgets.readthedocs.io/en/stable/user_install.html\n",
      "  from .autonotebook import tqdm as notebook_tqdm\n"
     ]
    },
    {
     "name": "stdout",
     "output_type": "stream",
     "text": [
      "Using TensorFlow backend\n"
     ]
    }
   ],
   "source": [
    "import io\n",
    "import mlflow\n",
    "import pandas as pd\n",
    "import numpy as np\n",
    "from PIL import Image\n",
    "\n",
    "from AutoMLWrapper.tests import DataSamples\n",
    "\n",
    "#from automlwrapper import AutoMLWrapper\n",
    "from AutoMLWrapper.automlwrapper import AutoMLWrapper\n",
    "\n"
   ]
  },
  {
   "cell_type": "code",
   "execution_count": 2,
   "metadata": {},
   "outputs": [],
   "source": [
    "RUN_ALL = 0\n",
    "UPLOAD_ALL = 0\n",
    "\n",
    "RUN_KERAS = 0\n",
    "UPLOAD_KERAS = 0\n",
    "\n",
    "RUN_SKLEARN = 0\n",
    "UPLOAD_SKLEARN = 0\n",
    "\n",
    "RUN_GLUON = 0\n",
    "UPLOAD_GLUON = 0\n",
    "\n",
    "user_hp = {'epochs':20, 'time_limit': 360, 'memory_limit':7000, 'testtest': 123, 'num_trials': 4,}"
   ]
  },
  {
   "cell_type": "code",
   "execution_count": 3,
   "metadata": {},
   "outputs": [],
   "source": [
    "MLFLOW = 0\n",
    "\n",
    "if MLFLOW:\n",
    "    \n",
    "    # #experiment_id = mlflow.create_experiment('test_automl', artifact_location='/home/mibbels/sedar-masterarbeit/sedar/sedar/automl/tmp/artifacts')\n",
    "    \n",
    "    experiment_id = 5\n",
    "    remote_server_uri = \"http://127.0.0.1:6798\"\n",
    "    mlflow.set_tracking_uri(remote_server_uri) \n",
    "    mlflow.set_experiment(experiment_id=experiment_id)"
   ]
  },
  {
   "cell_type": "markdown",
   "metadata": {},
   "source": [
    "# Daten"
   ]
  },
  {
   "cell_type": "code",
   "execution_count": 4,
   "metadata": {},
   "outputs": [
    {
     "name": "stdout",
     "output_type": "stream",
     "text": [
      "loading annotations into memory...\n",
      "Done (t=0.00s)\n",
      "creating index...\n",
      "index created!\n"
     ]
    }
   ],
   "source": [
    "\"\"\" Bilddaten \"\"\"\n",
    "#mnist_byte_df = DataSamples.create_mnist_bytearray_df(label_col='label', n_samples=-1)\n",
    "shopee_path_df = DataSamples.create_shopee_df(is_bytearray = False, n_samples=-1)\n",
    "#mnist_tp = DataSamples.create_mnist_tuple(n_samples=-1)\n",
    "#leaf_df = DataSamples.create_leaf_df(n_samples=-1)\n",
    "\n",
    "coco_df = DataSamples.create_coco_motorbike_df(n_samples=-1)\n",
    "\n",
    "\"\"\" Textdaten \"\"\"\n",
    "#sentiment_df = DataSamples.create_sentiment_treebank_df(n_samples=-1)\n",
    "mloc_df = DataSamples.create_mloc_df(n_samples=-1)\n",
    "\n",
    "\"\"\" Tabellendaten \"\"\"\n",
    "glass_df = DataSamples.create_glass_df()\n",
    "\n",
    "\"\"\" Timeseries \"\"\"\n",
    "m4_df = DataSamples.create_m4_df(n_samples=-1)"
   ]
  },
  {
   "cell_type": "code",
   "execution_count": 5,
   "metadata": {},
   "outputs": [
    {
     "data": {
      "text/html": [
       "<div>\n",
       "<style scoped>\n",
       "    .dataframe tbody tr th:only-of-type {\n",
       "        vertical-align: middle;\n",
       "    }\n",
       "\n",
       "    .dataframe tbody tr th {\n",
       "        vertical-align: top;\n",
       "    }\n",
       "\n",
       "    .dataframe thead th {\n",
       "        text-align: right;\n",
       "    }\n",
       "</style>\n",
       "<table border=\"1\" class=\"dataframe\">\n",
       "  <thead>\n",
       "    <tr style=\"text-align: right;\">\n",
       "      <th></th>\n",
       "      <th>image</th>\n",
       "      <th>rois</th>\n",
       "      <th>label</th>\n",
       "    </tr>\n",
       "  </thead>\n",
       "  <tbody>\n",
       "    <tr>\n",
       "      <th>0</th>\n",
       "      <td>./data/tiny_motorbike_coco/tiny_motorbike/Anno...</td>\n",
       "      <td>[[352.0, 138.0, 499.0, 374.0, 7], [105.0, 1.0,...</td>\n",
       "      <td>[[352.0, 138.0, 499.0, 374.0, 7], [105.0, 1.0,...</td>\n",
       "    </tr>\n",
       "    <tr>\n",
       "      <th>1</th>\n",
       "      <td>./data/tiny_motorbike_coco/tiny_motorbike/Anno...</td>\n",
       "      <td>[[40.0, 71.0, 332.0, 472.0, 7], [33.0, 42.0, 3...</td>\n",
       "      <td>[[40.0, 71.0, 332.0, 472.0, 7], [33.0, 42.0, 3...</td>\n",
       "    </tr>\n",
       "    <tr>\n",
       "      <th>2</th>\n",
       "      <td>./data/tiny_motorbike_coco/tiny_motorbike/Anno...</td>\n",
       "      <td>[[52.0, 22.0, 307.0, 327.0, 8], [26.0, 108.0, ...</td>\n",
       "      <td>[[52.0, 22.0, 307.0, 327.0, 8], [26.0, 108.0, ...</td>\n",
       "    </tr>\n",
       "    <tr>\n",
       "      <th>3</th>\n",
       "      <td>./data/tiny_motorbike_coco/tiny_motorbike/Anno...</td>\n",
       "      <td>[[114.0, 154.0, 368.0, 347.0, 7], [292.0, 49.0...</td>\n",
       "      <td>[[114.0, 154.0, 368.0, 347.0, 7], [292.0, 49.0...</td>\n",
       "    </tr>\n",
       "    <tr>\n",
       "      <th>4</th>\n",
       "      <td>./data/tiny_motorbike_coco/tiny_motorbike/Anno...</td>\n",
       "      <td>[[120.0, 333.0, 309.0, 463.0, 7]]</td>\n",
       "      <td>[[120.0, 333.0, 309.0, 463.0, 7]]</td>\n",
       "    </tr>\n",
       "    <tr>\n",
       "      <th>...</th>\n",
       "      <td>...</td>\n",
       "      <td>...</td>\n",
       "      <td>...</td>\n",
       "    </tr>\n",
       "    <tr>\n",
       "      <th>164</th>\n",
       "      <td>./data/tiny_motorbike_coco/tiny_motorbike/Anno...</td>\n",
       "      <td>[[1.0, 143.0, 111.0, 235.0, 7], [164.0, 114.0,...</td>\n",
       "      <td>[[1.0, 143.0, 111.0, 235.0, 7], [164.0, 114.0,...</td>\n",
       "    </tr>\n",
       "    <tr>\n",
       "      <th>165</th>\n",
       "      <td>./data/tiny_motorbike_coco/tiny_motorbike/Anno...</td>\n",
       "      <td>[[1.0, 187.0, 496.0, 332.0, 7], [124.0, 15.0, ...</td>\n",
       "      <td>[[1.0, 187.0, 496.0, 332.0, 7], [124.0, 15.0, ...</td>\n",
       "    </tr>\n",
       "    <tr>\n",
       "      <th>166</th>\n",
       "      <td>./data/tiny_motorbike_coco/tiny_motorbike/Anno...</td>\n",
       "      <td>[[205.0, 24.0, 379.0, 286.0, 8], [118.0, 82.0,...</td>\n",
       "      <td>[[205.0, 24.0, 379.0, 286.0, 8], [118.0, 82.0,...</td>\n",
       "    </tr>\n",
       "    <tr>\n",
       "      <th>167</th>\n",
       "      <td>./data/tiny_motorbike_coco/tiny_motorbike/Anno...</td>\n",
       "      <td>[[192.0, 48.0, 320.0, 365.0, 8], [39.0, 123.0,...</td>\n",
       "      <td>[[192.0, 48.0, 320.0, 365.0, 8], [39.0, 123.0,...</td>\n",
       "    </tr>\n",
       "    <tr>\n",
       "      <th>168</th>\n",
       "      <td>./data/tiny_motorbike_coco/tiny_motorbike/Anno...</td>\n",
       "      <td>[[137.0, 55.0, 319.0, 339.0, 7], [242.0, 1.0, ...</td>\n",
       "      <td>[[137.0, 55.0, 319.0, 339.0, 7], [242.0, 1.0, ...</td>\n",
       "    </tr>\n",
       "  </tbody>\n",
       "</table>\n",
       "<p>169 rows × 3 columns</p>\n",
       "</div>"
      ],
      "text/plain": [
       "                                                 image  \\\n",
       "0    ./data/tiny_motorbike_coco/tiny_motorbike/Anno...   \n",
       "1    ./data/tiny_motorbike_coco/tiny_motorbike/Anno...   \n",
       "2    ./data/tiny_motorbike_coco/tiny_motorbike/Anno...   \n",
       "3    ./data/tiny_motorbike_coco/tiny_motorbike/Anno...   \n",
       "4    ./data/tiny_motorbike_coco/tiny_motorbike/Anno...   \n",
       "..                                                 ...   \n",
       "164  ./data/tiny_motorbike_coco/tiny_motorbike/Anno...   \n",
       "165  ./data/tiny_motorbike_coco/tiny_motorbike/Anno...   \n",
       "166  ./data/tiny_motorbike_coco/tiny_motorbike/Anno...   \n",
       "167  ./data/tiny_motorbike_coco/tiny_motorbike/Anno...   \n",
       "168  ./data/tiny_motorbike_coco/tiny_motorbike/Anno...   \n",
       "\n",
       "                                                  rois  \\\n",
       "0    [[352.0, 138.0, 499.0, 374.0, 7], [105.0, 1.0,...   \n",
       "1    [[40.0, 71.0, 332.0, 472.0, 7], [33.0, 42.0, 3...   \n",
       "2    [[52.0, 22.0, 307.0, 327.0, 8], [26.0, 108.0, ...   \n",
       "3    [[114.0, 154.0, 368.0, 347.0, 7], [292.0, 49.0...   \n",
       "4                    [[120.0, 333.0, 309.0, 463.0, 7]]   \n",
       "..                                                 ...   \n",
       "164  [[1.0, 143.0, 111.0, 235.0, 7], [164.0, 114.0,...   \n",
       "165  [[1.0, 187.0, 496.0, 332.0, 7], [124.0, 15.0, ...   \n",
       "166  [[205.0, 24.0, 379.0, 286.0, 8], [118.0, 82.0,...   \n",
       "167  [[192.0, 48.0, 320.0, 365.0, 8], [39.0, 123.0,...   \n",
       "168  [[137.0, 55.0, 319.0, 339.0, 7], [242.0, 1.0, ...   \n",
       "\n",
       "                                                 label  \n",
       "0    [[352.0, 138.0, 499.0, 374.0, 7], [105.0, 1.0,...  \n",
       "1    [[40.0, 71.0, 332.0, 472.0, 7], [33.0, 42.0, 3...  \n",
       "2    [[52.0, 22.0, 307.0, 327.0, 8], [26.0, 108.0, ...  \n",
       "3    [[114.0, 154.0, 368.0, 347.0, 7], [292.0, 49.0...  \n",
       "4                    [[120.0, 333.0, 309.0, 463.0, 7]]  \n",
       "..                                                 ...  \n",
       "164  [[1.0, 143.0, 111.0, 235.0, 7], [164.0, 114.0,...  \n",
       "165  [[1.0, 187.0, 496.0, 332.0, 7], [124.0, 15.0, ...  \n",
       "166  [[205.0, 24.0, 379.0, 286.0, 8], [118.0, 82.0,...  \n",
       "167  [[192.0, 48.0, 320.0, 365.0, 8], [39.0, 123.0,...  \n",
       "168  [[137.0, 55.0, 319.0, 339.0, 7], [242.0, 1.0, ...  \n",
       "\n",
       "[169 rows x 3 columns]"
      ]
     },
     "execution_count": 5,
     "metadata": {},
     "output_type": "execute_result"
    }
   ],
   "source": [
    "coco_df"
   ]
  },
  {
   "cell_type": "code",
   "execution_count": 6,
   "metadata": {},
   "outputs": [],
   "source": [
    "ask = AutoMLWrapper('autosklearn')\n",
    "ask.SetOutputDirectory('test/ask/2')\n",
    "\n",
    "if RUN_ALL or RUN_SKLEARN:\n",
    "    ask.Train(\n",
    "        data=mnist_byte_df,\n",
    "        target_column='Type',\n",
    "        task_type='classification',\n",
    "        data_type='tabular',\n",
    "        problem_type='multiclass',\n",
    "        hyperparameters=user_hp\n",
    "    )\n",
    "\n",
    "\n",
    "if UPLOAD_ALL or UPLOAD_SKLEARN:\n",
    "    print(ask.Output())\n",
    "    ask.MlflowUploadBest({})"
   ]
  },
  {
   "cell_type": "code",
   "execution_count": 7,
   "metadata": {},
   "outputs": [],
   "source": [
    "agl = AutoMLWrapper('autogluon')\n",
    "agl.SetOutputDirectory('test/agl/8')\n",
    "\n",
    "if RUN_ALL or RUN_GLUON: \n",
    "    agl.Train(\n",
    "        data=mnist_byte_df,\n",
    "        target_column='label',\n",
    "        data_type='image',\n",
    "        task_type='zero-shot-classification',        \n",
    "        problem_type='multiclass',\n",
    "        hyperparameters=user_hp\n",
    "   )\n",
    "    \n",
    "if UPLOAD_ALL or UPLOAD_GLUON:\n",
    "    print(agl.Output())\n",
    "    agl.MlflowUploadBest({})"
   ]
  },
  {
   "cell_type": "code",
   "execution_count": 8,
   "metadata": {},
   "outputs": [],
   "source": [
    "akr = AutoMLWrapper('autokeras')\n",
    "akr.SetOutputDirectory('test/akr/1')\n",
    "\n",
    "if RUN_ALL or RUN_KERAS:\n",
    "    akr.Train(data=df_mnist, target_column='Type',\n",
    "        task_type='classification',\n",
    "        data_type='image',\n",
    "        problem_type='multiclass',\n",
    "        hyperparameters=user_hp\n",
    "    )\n",
    "\n",
    "if UPLOAD_ALL or UPLOAD_KERAS:\n",
    "    print(akr.Output())\n",
    "    akr.MlflowUploadBest({})"
   ]
  },
  {
   "cell_type": "markdown",
   "metadata": {},
   "source": [
    "# MLFlow\n",
    "~/miniconda3/envs/automl_env/bin/pip"
   ]
  },
  {
   "cell_type": "code",
   "execution_count": 9,
   "metadata": {},
   "outputs": [],
   "source": [
    "if MLFLOW:\n",
    "    df = df_glass.drop(columns=['Type'])\n",
    "    logged_model = 'runs:/a0337b9ecfe84e99b59ff3a9639f1ef6/model'\n",
    "    loaded_model = mlflow.pyfunc.load_model(logged_model)\n",
    "\n",
    "    #loaded_model.predict(test_data_byte)"
   ]
  },
  {
   "cell_type": "markdown",
   "metadata": {},
   "source": [
    "# SEDAR API"
   ]
  },
  {
   "cell_type": "code",
   "execution_count": 1,
   "metadata": {},
   "outputs": [
    {
     "name": "stderr",
     "output_type": "stream",
     "text": [
      "2024-01-09 20:43:03.991473: I tensorflow/tsl/cuda/cudart_stub.cc:28] Could not find cuda drivers on your machine, GPU will not be used.\n",
      "2024-01-09 20:43:04.051907: I tensorflow/tsl/cuda/cudart_stub.cc:28] Could not find cuda drivers on your machine, GPU will not be used.\n",
      "2024-01-09 20:43:04.053049: I tensorflow/core/platform/cpu_feature_guard.cc:182] This TensorFlow binary is optimized to use available CPU instructions in performance-critical operations.\n",
      "To enable the following instructions: AVX2 AVX512F FMA, in other operations, rebuild TensorFlow with the appropriate compiler flags.\n",
      "2024-01-09 20:43:05.154675: W tensorflow/compiler/tf2tensorrt/utils/py_utils.cc:38] TF-TRT Warning: Could not find TensorRT\n",
      "/home/mibbels/miniconda3/envs/automl_env/lib/python3.8/site-packages/tqdm/auto.py:21: TqdmWarning: IProgress not found. Please update jupyter and ipywidgets. See https://ipywidgets.readthedocs.io/en/stable/user_install.html\n",
      "  from .autonotebook import tqdm as notebook_tqdm\n"
     ]
    },
    {
     "name": "stdout",
     "output_type": "stream",
     "text": [
      "Using TensorFlow backend\n"
     ]
    }
   ],
   "source": []
  },
  {
   "cell_type": "markdown",
   "metadata": {},
   "source": [
    "# DataLoader TODO\n",
    "- sedar api raw sourcedata\n",
    "- sedar api get_all_images (image metadata)\n",
    "\n",
    "- query_sourcedata nur structured\n",
    "    - image\n",
    "    - unstructured\n",
    "    - semistructured\n",
    "\n",
    "- keras format\n",
    "\n",
    "# Ingestion\n",
    "- metadaten?"
   ]
  },
  {
   "cell_type": "code",
   "execution_count": 3,
   "metadata": {},
   "outputs": [
    {
     "name": "stderr",
     "output_type": "stream",
     "text": [
      "2024-01-11 13:13:48.026940: I tensorflow/tsl/cuda/cudart_stub.cc:28] Could not find cuda drivers on your machine, GPU will not be used.\n",
      "2024-01-11 13:13:48.087889: I tensorflow/tsl/cuda/cudart_stub.cc:28] Could not find cuda drivers on your machine, GPU will not be used.\n",
      "2024-01-11 13:13:48.088905: I tensorflow/core/platform/cpu_feature_guard.cc:182] This TensorFlow binary is optimized to use available CPU instructions in performance-critical operations.\n",
      "To enable the following instructions: AVX2 AVX512F FMA, in other operations, rebuild TensorFlow with the appropriate compiler flags.\n",
      "2024-01-11 13:13:49.138901: W tensorflow/compiler/tf2tensorrt/utils/py_utils.cc:38] TF-TRT Warning: Could not find TensorRT\n",
      "/home/mibbels/miniconda3/envs/automl_env/lib/python3.8/site-packages/tqdm/auto.py:21: TqdmWarning: IProgress not found. Please update jupyter and ipywidgets. See https://ipywidgets.readthedocs.io/en/stable/user_install.html\n",
      "  from .autonotebook import tqdm as notebook_tqdm\n"
     ]
    },
    {
     "name": "stdout",
     "output_type": "stream",
     "text": [
      "Using TensorFlow backend\n"
     ]
    }
   ],
   "source": [
    "from sedarapi import SedarAPI\n",
    "from AutoMLWrapper.automlwrapper.SedarDataLoader import SedarDataLoader\n"
   ]
  },
  {
   "cell_type": "code",
   "execution_count": 4,
   "metadata": {},
   "outputs": [
    {
     "name": "stderr",
     "output_type": "stream",
     "text": [
      "INFO:SedarAPI-Logger:Login successful\n"
     ]
    },
    {
     "name": "stderr",
     "output_type": "stream",
     "text": [
      "WARNING:SedarAPI-Logger:Component Apache Jena Fuseki is not alive.\n",
      "WARNING:SedarAPI-Logger:Component Jupyter - SingleUser is not alive.\n",
      "WARNING:SedarAPI-Logger:Component WebVOWL is not alive.\n",
      "WARNING:SedarAPI-Logger:Component Continuation - Service is not alive.\n",
      "WARNING:SedarAPI-Logger:Component Profiling - Service is not alive.\n"
     ]
    },
    {
     "data": {
      "text/plain": [
       "<sedarapi.user.User at 0x7ff7f8241bb0>"
      ]
     },
     "execution_count": 4,
     "metadata": {},
     "output_type": "execute_result"
    }
   ],
   "source": [
    "base_url = \"http://192.168.220.107:5000\"\n",
    "email = \"admin\"\n",
    "password = \"admin\"\n",
    "\n",
    "sedar = SedarAPI(base_url)\n",
    "sedar.connection.logger.setLevel(\"INFO\")\n",
    "sedar.login(email, password)"
   ]
  },
  {
   "cell_type": "code",
   "execution_count": 5,
   "metadata": {},
   "outputs": [
    {
     "name": "stdout",
     "output_type": "stream",
     "text": [
      "INFO: the data has been written to: ./data/sedar_raw/test/coco_22_balanced.zip\n"
     ]
    }
   ],
   "source": [
    "workspace_id = '13b4787c3e454649aa05a4cd680edc37'\n",
    "dataset_id = '324ea420125d4167a76151b62368c4ad'\n",
    "\n",
    "# b5b74391e41e4634a54d5cffa059663b - coco_22_train_v1 \n",
    "# 324ea420125d4167a76151b62368c4ad - gitter_train_v1\n",
    "# 513c6b1ee46b478c8e0925a098d2f387  - test classification 1 img each class\n",
    "\n",
    "from AutoMLWrapper.automlwrapper.SedarDataLoader import SedarDataLoader\n",
    "\n",
    "DataLoader = SedarDataLoader(sedar)\n",
    "loc = DataLoader.query_data(workspace_id, dataset_id, file_save_location='./data/sedar_raw/test')"
   ]
  },
  {
   "cell_type": "code",
   "execution_count": 6,
   "metadata": {},
   "outputs": [
    {
     "data": {
      "text/html": [
       "<div>\n",
       "<style scoped>\n",
       "    .dataframe tbody tr th:only-of-type {\n",
       "        vertical-align: middle;\n",
       "    }\n",
       "\n",
       "    .dataframe tbody tr th {\n",
       "        vertical-align: top;\n",
       "    }\n",
       "\n",
       "    .dataframe thead th {\n",
       "        text-align: right;\n",
       "    }\n",
       "</style>\n",
       "<table border=\"1\" class=\"dataframe\">\n",
       "  <thead>\n",
       "    <tr style=\"text-align: right;\">\n",
       "      <th></th>\n",
       "      <th>image</th>\n",
       "      <th>label</th>\n",
       "    </tr>\n",
       "  </thead>\n",
       "  <tbody>\n",
       "    <tr>\n",
       "      <th>0</th>\n",
       "      <td>./data/sedar_raw/test/test_coco/coco_22_balanc...</td>\n",
       "      <td>[[212.99967999999998, 227.00006399999998, 218....</td>\n",
       "    </tr>\n",
       "    <tr>\n",
       "      <th>1</th>\n",
       "      <td>./data/sedar_raw/test/test_coco/coco_22_balanc...</td>\n",
       "      <td>[[385.999872, 322.00012799999996, 199.999488, ...</td>\n",
       "    </tr>\n",
       "    <tr>\n",
       "      <th>2</th>\n",
       "      <td>./data/sedar_raw/test/test_coco/coco_22_balanc...</td>\n",
       "      <td>[[408.0, 366.999936, 140.99968, 132.999936], [...</td>\n",
       "    </tr>\n",
       "    <tr>\n",
       "      <th>3</th>\n",
       "      <td>./data/sedar_raw/test/test_coco/coco_22_balanc...</td>\n",
       "      <td>[[378.999808, 360.00038399999994, 174.000128, ...</td>\n",
       "    </tr>\n",
       "    <tr>\n",
       "      <th>4</th>\n",
       "      <td>./data/sedar_raw/test/test_coco/coco_22_balanc...</td>\n",
       "      <td>[[466.00038399999994, 312.000384, 140.000256, ...</td>\n",
       "    </tr>\n",
       "    <tr>\n",
       "      <th>...</th>\n",
       "      <td>...</td>\n",
       "      <td>...</td>\n",
       "    </tr>\n",
       "    <tr>\n",
       "      <th>65</th>\n",
       "      <td>./data/sedar_raw/test/test_coco/coco_22_balanc...</td>\n",
       "      <td>[[433.000448, 314.00025600000004, 234.999808, ...</td>\n",
       "    </tr>\n",
       "    <tr>\n",
       "      <th>66</th>\n",
       "      <td>./data/sedar_raw/test/test_coco/coco_22_balanc...</td>\n",
       "      <td>[[416.999424, 246.000384, 220.000256, 216.9999...</td>\n",
       "    </tr>\n",
       "    <tr>\n",
       "      <th>67</th>\n",
       "      <td>./data/sedar_raw/test/test_coco/coco_22_balanc...</td>\n",
       "      <td>[[351.000064, 219.999744, 236.000256, 241.9998...</td>\n",
       "    </tr>\n",
       "    <tr>\n",
       "      <th>68</th>\n",
       "      <td>./data/sedar_raw/test/test_coco/coco_22_balanc...</td>\n",
       "      <td>[[426.00038399999994, 294.99993600000005, 181....</td>\n",
       "    </tr>\n",
       "    <tr>\n",
       "      <th>69</th>\n",
       "      <td>./data/sedar_raw/test/test_coco/coco_22_balanc...</td>\n",
       "      <td>[[336.999936, 333.99974399999996, 286.999552, ...</td>\n",
       "    </tr>\n",
       "  </tbody>\n",
       "</table>\n",
       "<p>70 rows × 2 columns</p>\n",
       "</div>"
      ],
      "text/plain": [
       "                                                image  \\\n",
       "0   ./data/sedar_raw/test/test_coco/coco_22_balanc...   \n",
       "1   ./data/sedar_raw/test/test_coco/coco_22_balanc...   \n",
       "2   ./data/sedar_raw/test/test_coco/coco_22_balanc...   \n",
       "3   ./data/sedar_raw/test/test_coco/coco_22_balanc...   \n",
       "4   ./data/sedar_raw/test/test_coco/coco_22_balanc...   \n",
       "..                                                ...   \n",
       "65  ./data/sedar_raw/test/test_coco/coco_22_balanc...   \n",
       "66  ./data/sedar_raw/test/test_coco/coco_22_balanc...   \n",
       "67  ./data/sedar_raw/test/test_coco/coco_22_balanc...   \n",
       "68  ./data/sedar_raw/test/test_coco/coco_22_balanc...   \n",
       "69  ./data/sedar_raw/test/test_coco/coco_22_balanc...   \n",
       "\n",
       "                                                label  \n",
       "0   [[212.99967999999998, 227.00006399999998, 218....  \n",
       "1   [[385.999872, 322.00012799999996, 199.999488, ...  \n",
       "2   [[408.0, 366.999936, 140.99968, 132.999936], [...  \n",
       "3   [[378.999808, 360.00038399999994, 174.000128, ...  \n",
       "4   [[466.00038399999994, 312.000384, 140.000256, ...  \n",
       "..                                                ...  \n",
       "65  [[433.000448, 314.00025600000004, 234.999808, ...  \n",
       "66  [[416.999424, 246.000384, 220.000256, 216.9999...  \n",
       "67  [[351.000064, 219.999744, 236.000256, 241.9998...  \n",
       "68  [[426.00038399999994, 294.99993600000005, 181....  \n",
       "69  [[336.999936, 333.99974399999996, 286.999552, ...  \n",
       "\n",
       "[70 rows x 2 columns]"
      ]
     },
     "execution_count": 6,
     "metadata": {},
     "output_type": "execute_result"
    }
   ],
   "source": [
    "DataLoader.zip_to_coco_df_gluon(loc[0], './data/sedar_raw/test/test_coco')"
   ]
  },
  {
   "cell_type": "code",
   "execution_count": 19,
   "metadata": {},
   "outputs": [
    {
     "name": "stderr",
     "output_type": "stream",
     "text": [
      "INFO:SedarAPI-Logger:The Dataset '394a58ddfd564a2badc83797e786cab6' was deleted successfully.\n"
     ]
    },
    {
     "name": "stdout",
     "output_type": "stream",
     "text": [
      "Dataset deleted successfully.\n"
     ]
    }
   ],
   "source": [
    "\n",
    "\n",
    "\n",
    "\n",
    "if 0:\n",
    "    ws = sedar.get_workspace('13b4787c3e454649aa05a4cd680edc37')\n",
    "    dataset = ws.get_dataset('')\n",
    "\n",
    "    \n",
    "    try:\n",
    "        success = dataset.delete()\n",
    "        if success:\n",
    "            print(\"Dataset deleted successfully.\")\n",
    "    except Exception as e:\n",
    "        print(e)"
   ]
  }
 ],
 "metadata": {
  "kernelspec": {
   "display_name": "AutoML",
   "language": "python",
   "name": "python3"
  },
  "language_info": {
   "codemirror_mode": {
    "name": "ipython",
    "version": 3
   },
   "file_extension": ".py",
   "mimetype": "text/x-python",
   "name": "python",
   "nbconvert_exporter": "python",
   "pygments_lexer": "ipython3",
   "version": "3.8.18"
  }
 },
 "nbformat": 4,
 "nbformat_minor": 2
}

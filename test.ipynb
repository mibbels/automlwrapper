{
 "cells": [
  {
   "cell_type": "markdown",
   "metadata": {},
   "source": [
    "# TODO\n",
    "#### Klassen protecten\n",
    "```\n",
    "import AutoMLWrapper.automlwrapper as aw\n",
    "aw.Configuration.Configuration\n",
    "```\n",
    "\n",
    "#### Erweiterung um Bibliotheken\n",
    "-  @__library.setter\n",
    "    - a) Global/GlobalConfig.yaml\n",
    "        - lib-names\n",
    "        - type mappings\n",
    "    - b) directory durchsuchen \n",
    "- import in AutoMLWrapper anpassen\n",
    "- SEDAR automl.py config locations anpassen\n",
    "\n",
    "### custom proprocessing\n",
    "- typen checken\n",
    "- die wrapper könnten property methods implementieren, die die Rückgabe eines festen samples prüfen\n",
    "\n",
    "### custom parameters\n",
    "\n",
    "\n",
    "### 2+ problem types\n",
    "\n",
    "\n",
    "## mlflow\n",
    "- eigene funktion für mlflow tracking\n",
    "- user übergibt dict mit workspace, ..."
   ]
  },
  {
   "cell_type": "code",
   "execution_count": 1,
   "metadata": {},
   "outputs": [
    {
     "name": "stderr",
     "output_type": "stream",
     "text": [
      "2023-11-29 11:45:04.250325: I tensorflow/tsl/cuda/cudart_stub.cc:28] Could not find cuda drivers on your machine, GPU will not be used.\n",
      "2023-11-29 11:45:04.326755: I tensorflow/tsl/cuda/cudart_stub.cc:28] Could not find cuda drivers on your machine, GPU will not be used.\n",
      "2023-11-29 11:45:04.328256: I tensorflow/core/platform/cpu_feature_guard.cc:182] This TensorFlow binary is optimized to use available CPU instructions in performance-critical operations.\n",
      "To enable the following instructions: AVX2 AVX512F FMA, in other operations, rebuild TensorFlow with the appropriate compiler flags.\n",
      "2023-11-29 11:45:05.433728: W tensorflow/compiler/tf2tensorrt/utils/py_utils.cc:38] TF-TRT Warning: Could not find TensorRT\n",
      "/home/mibbels/miniconda3/envs/automl_env/lib/python3.8/site-packages/tqdm/auto.py:21: TqdmWarning: IProgress not found. Please update jupyter and ipywidgets. See https://ipywidgets.readthedocs.io/en/stable/user_install.html\n",
      "  from .autonotebook import tqdm as notebook_tqdm\n"
     ]
    },
    {
     "name": "stdout",
     "output_type": "stream",
     "text": [
      "Using TensorFlow backend\n"
     ]
    }
   ],
   "source": [
    "import pandas as pd\n",
    "#from automlwrapper import AutoMLWrapper\n",
    "from AutoMLWrapper.automlwrapper import AutoMLWrapper\n"
   ]
  },
  {
   "cell_type": "code",
   "execution_count": 2,
   "metadata": {},
   "outputs": [],
   "source": [
    "df = pd.read_csv('data/glass.csv')\n",
    "user_hp = {'num_trials': 4, 'epochs':20, 'time_limit': 40, 'memory_limit':7000, 'testtest': 123}\n"
   ]
  },
  {
   "cell_type": "markdown",
   "metadata": {},
   "source": [
    "leaderboard(detailed=True) -> dataframe\n",
    "- type: random_forest\n",
    "- cost: validation loss\n",
    "- duration: ?\n",
    "- data_preprocessoers : name sklearn class?\n",
    ". feature_preprocessors : name sklearn class\n",
    "\n",
    "\n",
    "show_models()\n",
    "- model_id, rank, cost\n",
    "- feature_preprocessor: autosklearn object\n",
    "- data_preprocessor: autosklearn object\n",
    " \n",
    "Alle Parameter res[3]['sklearn_classifier'].get_params()\n",
    "\n",
    "Modell res[3]['sklearn_classifier']\n"
   ]
  },
  {
   "cell_type": "code",
   "execution_count": 3,
   "metadata": {},
   "outputs": [],
   "source": [
    "ask = AutoMLWrapper('autosklearn')\n",
    "ask.SetOutputDirectory('test/ask/6')\n",
    "\n",
    "if 0:\n",
    "    ask.Train(data=df, target_column='Type',\n",
    "        task_type='classification',\n",
    "        data_type='tabular',\n",
    "        problem_type='multiclass',\n",
    "        hyperparameters=user_hp\n",
    "    )"
   ]
  },
  {
   "cell_type": "markdown",
   "metadata": {},
   "source": [
    "## multimodal\n",
    "content in \"fit(save_path)\"\n",
    "    - asset.json - //autogluon info\n",
    "    - config.yaml model+hp\n",
    "    - hparams.yaml\n",
    "    zip + pkl files\n",
    "\n",
    "fit_summary()\n",
    "    {'val_accuracy': 0.956250011920929, 'training_time': 314.0019574165344}\n",
    "\n",
    "hpo\n",
    "    ... !!!\n",
    "\n",
    "## tabular\n",
    "content in TabularPredictor(save_path)\n",
    "    - pkl files\n",
    "    \n",
    "fit_summary()\n",
    "    - performance (kein direktes ranking)\n",
    "    - hp\n",
    "    \n",
    "## timeseries\n",
    "content in TimeSeriesPredictor(save_path)\n",
    "    - pkl files\n",
    "\n",
    "leaderboard()\n",
    "    - model, score\n",
    "\n",
    "fit_summary()\n",
    "    - performance, path, time\n",
    "\n",
    "info()\n",
    "    \n",
    "\n",
    "\n",
    "\n",
    "\n"
   ]
  },
  {
   "cell_type": "code",
   "execution_count": 4,
   "metadata": {},
   "outputs": [],
   "source": [
    "agl = AutoMLWrapper('autogluon')\n",
    "agl.SetOutputDirectory('test/agl')\n",
    "if 0:\n",
    "    agl.Train(data=df, target_column='Type',\n",
    "       task_type='classification',\n",
    "       data_type='tabular',\n",
    "       problem_type='multiclass',\n",
    "       hyperparameters=user_hp\n",
    "   )\n"
   ]
  },
  {
   "cell_type": "code",
   "execution_count": 5,
   "metadata": {},
   "outputs": [
    {
     "name": "stdout",
     "output_type": "stream",
     "text": [
      "Reloading Tuner from test/akr/1/structured_data_classifier/tuner0.json\n",
      "Epoch 1/20\n",
      "7/7 [==============================] - 1s 3ms/step - loss: 2.0891 - accuracy: 0.1682\n",
      "Epoch 2/20\n",
      "7/7 [==============================] - 0s 3ms/step - loss: 1.9335 - accuracy: 0.1963\n",
      "Epoch 3/20\n",
      "7/7 [==============================] - 0s 3ms/step - loss: 1.8441 - accuracy: 0.2570\n",
      "Epoch 4/20\n",
      "7/7 [==============================] - 0s 3ms/step - loss: 1.7985 - accuracy: 0.2290\n",
      "Epoch 5/20\n",
      "7/7 [==============================] - 0s 3ms/step - loss: 1.6782 - accuracy: 0.3271\n",
      "Epoch 6/20\n",
      "7/7 [==============================] - 0s 3ms/step - loss: 1.6587 - accuracy: 0.3131\n",
      "Epoch 7/20\n",
      "7/7 [==============================] - 0s 2ms/step - loss: 1.6961 - accuracy: 0.2804\n",
      "Epoch 8/20\n",
      "7/7 [==============================] - 0s 3ms/step - loss: 1.5909 - accuracy: 0.3458\n",
      "Epoch 9/20\n",
      "7/7 [==============================] - 0s 3ms/step - loss: 1.5777 - accuracy: 0.3458\n",
      "Epoch 10/20\n",
      "7/7 [==============================] - 0s 3ms/step - loss: 1.5714 - accuracy: 0.3364\n",
      "Epoch 11/20\n",
      "7/7 [==============================] - 0s 3ms/step - loss: 1.5167 - accuracy: 0.3458\n",
      "Epoch 12/20\n",
      "7/7 [==============================] - 0s 2ms/step - loss: 1.4569 - accuracy: 0.3832\n",
      "Epoch 13/20\n",
      "7/7 [==============================] - 0s 2ms/step - loss: 1.4643 - accuracy: 0.3738\n",
      "Epoch 14/20\n",
      "7/7 [==============================] - 0s 2ms/step - loss: 1.4649 - accuracy: 0.3645\n",
      "Epoch 15/20\n",
      "7/7 [==============================] - 0s 2ms/step - loss: 1.4590 - accuracy: 0.3972\n",
      "Epoch 16/20\n",
      "7/7 [==============================] - 0s 2ms/step - loss: 1.3413 - accuracy: 0.4346\n",
      "Epoch 17/20\n",
      "7/7 [==============================] - 0s 2ms/step - loss: 1.4348 - accuracy: 0.4206\n",
      "Epoch 18/20\n",
      "7/7 [==============================] - 0s 2ms/step - loss: 1.3927 - accuracy: 0.4159\n",
      "Epoch 19/20\n",
      "7/7 [==============================] - 0s 2ms/step - loss: 1.3633 - accuracy: 0.4533\n",
      "Epoch 20/20\n",
      "7/7 [==============================] - 0s 3ms/step - loss: 1.3385 - accuracy: 0.4533\n",
      "INFO:tensorflow:Assets written to: test/akr/1/structured_data_classifier/best_model/assets\n"
     ]
    },
    {
     "name": "stderr",
     "output_type": "stream",
     "text": [
      "INFO:tensorflow:Assets written to: test/akr/1/structured_data_classifier/best_model/assets\n"
     ]
    }
   ],
   "source": [
    "akr = AutoMLWrapper('autokeras')\n",
    "akr.SetOutputDirectory('test/akr/1')\n",
    "if 1:\n",
    "    akr.Train(data=df, target_column='Type',\n",
    "        task_type='classification',\n",
    "        data_type='tabular',\n",
    "        problem_type='multiclass',\n",
    "        hyperparameters=user_hp\n",
    "    )"
   ]
  },
  {
   "cell_type": "markdown",
   "metadata": {},
   "source": [
    "# MLFlow\n",
    "~/miniconda3/envs/automl_env/bin/pip"
   ]
  },
  {
   "cell_type": "code",
   "execution_count": 6,
   "metadata": {},
   "outputs": [
    {
     "data": {
      "text/plain": [
       "<Experiment: artifact_location='/home/mibbels/sedar-masterarbeit/sedar/sedar/automl/tmp/artifacts', creation_time=1701189486674, experiment_id='5', last_update_time=1701189486674, lifecycle_stage='active', name='test_automl', tags={}>"
      ]
     },
     "execution_count": 6,
     "metadata": {},
     "output_type": "execute_result"
    }
   ],
   "source": [
    "import mlflow\n",
    "#experiment_id = mlflow.create_experiment('test_automl', artifact_location='/home/mibbels/sedar-masterarbeit/sedar/sedar/automl/tmp/artifacts')\n",
    "\n",
    "\n",
    "experiment_id = 5\n",
    "remote_server_uri = \"http://localhost:6798\"\n",
    "mlflow.set_tracking_uri(remote_server_uri) \n",
    "mlflow.set_experiment(experiment_id=experiment_id)"
   ]
  },
  {
   "cell_type": "code",
   "execution_count": null,
   "metadata": {},
   "outputs": [],
   "source": []
  },
  {
   "cell_type": "code",
   "execution_count": 11,
   "metadata": {},
   "outputs": [],
   "source": [
    "out = akr.Output()"
   ]
  },
  {
   "cell_type": "code",
   "execution_count": null,
   "metadata": {},
   "outputs": [],
   "source": []
  },
  {
   "cell_type": "code",
   "execution_count": 12,
   "metadata": {},
   "outputs": [
    {
     "data": {
      "text/plain": [
       "[{'tags': {},\n",
       "  'params': {'epochs': 20,\n",
       "   'optimizer_name': 'Adam',\n",
       "   'optimizer_weight_decay': None,\n",
       "   'optimizer_clipnorm': None,\n",
       "   'optimizer_global_clipnorm': None,\n",
       "   'optimizer_clipvalue': None,\n",
       "   'optimizer_use_ema': False,\n",
       "   'optimizer_ema_momentum': 0.99,\n",
       "   'optimizer_ema_overwrite_frequency': None,\n",
       "   'optimizer_jit_compile': False,\n",
       "   'optimizer_is_legacy_optimizer': False,\n",
       "   'optimizer_learning_rate': 0.001,\n",
       "   'optimizer_beta_1': 0.9,\n",
       "   'optimizer_beta_2': 0.999,\n",
       "   'optimizer_epsilon': 1e-07,\n",
       "   'optimizer_amsgrad': False},\n",
       "  'metrics': {'loss': 1.3385281562805176, 'accuracy': 0.4532710313796997},\n",
       "  'artifacts': {},\n",
       "  'model': <keras.src.engine.functional.Functional at 0x7fdff4203100>}]"
      ]
     },
     "execution_count": 12,
     "metadata": {},
     "output_type": "execute_result"
    }
   ],
   "source": [
    "out"
   ]
  },
  {
   "cell_type": "code",
   "execution_count": 13,
   "metadata": {},
   "outputs": [
    {
     "name": "stdout",
     "output_type": "stream",
     "text": [
      "{'tags': {}, 'params': {'epochs': 20, 'optimizer_name': 'Adam', 'optimizer_weight_decay': None, 'optimizer_clipnorm': None, 'optimizer_global_clipnorm': None, 'optimizer_clipvalue': None, 'optimizer_use_ema': False, 'optimizer_ema_momentum': 0.99, 'optimizer_ema_overwrite_frequency': None, 'optimizer_jit_compile': False, 'optimizer_is_legacy_optimizer': False, 'optimizer_learning_rate': 0.001, 'optimizer_beta_1': 0.9, 'optimizer_beta_2': 0.999, 'optimizer_epsilon': 1e-07, 'optimizer_amsgrad': False}, 'metrics': {'loss': 1.3385281562805176, 'accuracy': 0.4532710313796997}, 'artifacts': {}, 'model': <keras.src.engine.functional.Functional object at 0x7fe1253c0580>}\n"
     ]
    },
    {
     "name": "stderr",
     "output_type": "stream",
     "text": [
      "2023/11/29 11:47:10 WARNING mlflow.tensorflow: You are saving a TensorFlow Core model or Keras model without a signature. Inference with mlflow.pyfunc.spark_udf() will not work unless the model's pyfunc representation accepts pandas DataFrames as inference inputs.\n"
     ]
    },
    {
     "name": "stdout",
     "output_type": "stream",
     "text": [
      "INFO:tensorflow:Assets written to: /tmp/tmptosrge6s/model/data/model/assets\n"
     ]
    },
    {
     "name": "stderr",
     "output_type": "stream",
     "text": [
      "INFO:tensorflow:Assets written to: /tmp/tmptosrge6s/model/data/model/assets\n",
      "2023/11/29 11:47:16 WARNING mlflow.utils.environment: Encountered an unexpected error while inferring pip requirements (model URI: /tmp/tmptosrge6s/model, flavor: tensorflow), fall back to return ['tensorflow==2.13.1']. Set logging level to DEBUG to see the full traceback.\n"
     ]
    }
   ],
   "source": [
    "akr.MlflowUploadBest({})\n",
    "#ask.MlflowUploadTopN(3, {})"
   ]
  },
  {
   "cell_type": "code",
   "execution_count": 10,
   "metadata": {},
   "outputs": [],
   "source": [
    "\n",
    "with mlflow.start_run() as run:\n",
    "       mlflow.set_tag(\"testing\",\"automlwrapper\")\n",
    "       mlflow.log_param(\"dataset\",\"glass\")  \n",
    "\n",
    "       for item in out:\n",
    "        for key, value in item['tags'].items():\n",
    "            mlflow.set_tag(key, str(value))\n",
    "        for key, value in item['params'].items():\n",
    "            mlflow.log_param(key, value)\n",
    "        for key, value in item['metrics'].items():\n",
    "            mlflow.log_metric(key, value)          \n",
    "\n",
    "\n",
    "   "
   ]
  }
 ],
 "metadata": {
  "kernelspec": {
   "display_name": "AutoML",
   "language": "python",
   "name": "python3"
  },
  "language_info": {
   "codemirror_mode": {
    "name": "ipython",
    "version": 3
   },
   "file_extension": ".py",
   "mimetype": "text/x-python",
   "name": "python",
   "nbconvert_exporter": "python",
   "pygments_lexer": "ipython3",
   "version": "3.8.18"
  }
 },
 "nbformat": 4,
 "nbformat_minor": 2
}

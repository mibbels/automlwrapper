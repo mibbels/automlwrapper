{
 "cells": [
  {
   "cell_type": "markdown",
   "metadata": {},
   "source": [
    "# TODO\n",
    "#### Klassen protecten\n",
    "```\n",
    "import AutoMLWrapper.automlwrapper as aw\n",
    "aw.Configuration.Configuration\n",
    "```\n",
    "\n",
    "#### Erweiterung um Bibliotheken\n",
    "-  @__library.setter\n",
    "    - a) Global/GlobalConfig.yaml\n",
    "        - lib-names\n",
    "        - type mappings\n",
    "    - b) directory durchsuchen \n",
    "- import in AutoMLWrapper anpassen\n",
    "- SEDAR automl.py config locations anpassen\n",
    "\n",
    "### custom proprocessing\n",
    "- typen checken\n",
    "- die wrapper könnten property methods implementieren, die die Rückgabe eines festen samples prüfen\n",
    "\n",
    "### custom parameters\n",
    "\n",
    "\n",
    "### 2+ problem types\n",
    "\n",
    "\n",
    "## mlflow\n",
    "- keras: Netzwerkschichten, Artifact Bild?\n",
    "- Inferenz"
   ]
  },
  {
   "cell_type": "code",
   "execution_count": 1,
   "metadata": {},
   "outputs": [
    {
     "name": "stderr",
     "output_type": "stream",
     "text": [
      "2023-11-29 18:16:07.541790: I tensorflow/tsl/cuda/cudart_stub.cc:28] Could not find cuda drivers on your machine, GPU will not be used.\n",
      "2023-11-29 18:16:07.599998: I tensorflow/tsl/cuda/cudart_stub.cc:28] Could not find cuda drivers on your machine, GPU will not be used.\n",
      "2023-11-29 18:16:07.601448: I tensorflow/core/platform/cpu_feature_guard.cc:182] This TensorFlow binary is optimized to use available CPU instructions in performance-critical operations.\n",
      "To enable the following instructions: AVX2 AVX512F FMA, in other operations, rebuild TensorFlow with the appropriate compiler flags.\n",
      "2023-11-29 18:16:08.633118: W tensorflow/compiler/tf2tensorrt/utils/py_utils.cc:38] TF-TRT Warning: Could not find TensorRT\n",
      "/home/mibbels/miniconda3/envs/automl_env/lib/python3.8/site-packages/tqdm/auto.py:21: TqdmWarning: IProgress not found. Please update jupyter and ipywidgets. See https://ipywidgets.readthedocs.io/en/stable/user_install.html\n",
      "  from .autonotebook import tqdm as notebook_tqdm\n"
     ]
    },
    {
     "name": "stdout",
     "output_type": "stream",
     "text": [
      "Using TensorFlow backend\n"
     ]
    },
    {
     "data": {
      "text/plain": [
       "<Experiment: artifact_location='/home/mibbels/sedar-masterarbeit/sedar/sedar/automl/tmp/artifacts', creation_time=1701189486674, experiment_id='5', last_update_time=1701189486674, lifecycle_stage='active', name='test_automl', tags={}>"
      ]
     },
     "execution_count": 1,
     "metadata": {},
     "output_type": "execute_result"
    }
   ],
   "source": [
    "import pandas as pd\n",
    "#from automlwrapper import AutoMLWrapper\n",
    "from AutoMLWrapper.automlwrapper import AutoMLWrapper\n",
    "import mlflow\n",
    "# #experiment_id = mlflow.create_experiment('test_automl', artifact_location='/home/mibbels/sedar-masterarbeit/sedar/sedar/automl/tmp/artifacts')\n",
    "\n",
    "experiment_id = 5\n",
    "remote_server_uri = \"http://localhost:6798\"\n",
    "mlflow.set_tracking_uri(remote_server_uri) \n",
    "mlflow.set_experiment(experiment_id=experiment_id)\n",
    "\n",
    "\n"
   ]
  },
  {
   "cell_type": "code",
   "execution_count": 2,
   "metadata": {},
   "outputs": [],
   "source": [
    "df = pd.read_csv('data/glass.csv')\n",
    "user_hp = {'num_trials': 4, 'epochs':20, 'time_limit': 120, 'memory_limit':7000, 'testtest': 123}\n"
   ]
  },
  {
   "cell_type": "markdown",
   "metadata": {},
   "source": [
    "leaderboard(detailed=True) -> dataframe\n",
    "- type: random_forest\n",
    "- cost: validation loss\n",
    "- duration: ?\n",
    "- data_preprocessoers : name sklearn class?\n",
    ". feature_preprocessors : name sklearn class\n",
    "\n",
    "\n",
    "show_models()\n",
    "- model_id, rank, cost\n",
    "- feature_preprocessor: autosklearn object\n",
    "- data_preprocessor: autosklearn object\n",
    " \n",
    "Alle Parameter res[3]['sklearn_classifier'].get_params()\n",
    "\n",
    "Modell res[3]['sklearn_classifier']\n"
   ]
  },
  {
   "cell_type": "code",
   "execution_count": 3,
   "metadata": {},
   "outputs": [
    {
     "name": "stdout",
     "output_type": "stream",
     "text": [
      "[<AutoMLWrapper.automlwrapper.ModelInfo.ModelInfo object at 0x7feed2524c10>]\n"
     ]
    },
    {
     "name": "stderr",
     "output_type": "stream",
     "text": [
      "/home/mibbels/miniconda3/envs/automl_env/lib/python3.8/site-packages/_distutils_hack/__init__.py:36: UserWarning: Setuptools is replacing distutils.\n",
      "  warnings.warn(\"Setuptools is replacing distutils.\")\n"
     ]
    }
   ],
   "source": [
    "ask = AutoMLWrapper('autosklearn')\n",
    "ask.SetOutputDirectory('test/ask/9')\n",
    "\n",
    "if 1:\n",
    "    ask.Train(data=df, target_column='Type',\n",
    "        task_type='classification',\n",
    "        data_type='tabular',\n",
    "        problem_type='multiclass',\n",
    "        hyperparameters=user_hp\n",
    "    )\n",
    "\n",
    "\n",
    "if 1:\n",
    "    print(ask.Output())\n",
    "    ask.MlflowUploadBest({})"
   ]
  },
  {
   "cell_type": "markdown",
   "metadata": {},
   "source": [
    "## multimodal\n",
    "content in \"fit(save_path)\"\n",
    "    - asset.json - //autogluon info\n",
    "    - config.yaml model+hp\n",
    "    - hparams.yaml\n",
    "    zip + pkl files\n",
    "\n",
    "fit_summary()\n",
    "    {'val_accuracy': 0.956250011920929, 'training_time': 314.0019574165344}\n",
    "\n",
    "hpo\n",
    "    ... !!!\n",
    "\n",
    "## tabular\n",
    "content in TabularPredictor(save_path)\n",
    "    - pkl files\n",
    "    \n",
    "fit_summary()\n",
    "    - performance (kein direktes ranking)\n",
    "    - hp\n",
    "    \n",
    "## timeseries\n",
    "content in TimeSeriesPredictor(save_path)\n",
    "    - pkl files\n",
    "\n",
    "leaderboard()\n",
    "    - model, score\n",
    "\n",
    "fit_summary()\n",
    "    - performance, path, time\n",
    "\n",
    "info()\n",
    "    \n",
    "\n",
    "\n",
    "\n",
    "\n"
   ]
  },
  {
   "cell_type": "code",
   "execution_count": 4,
   "metadata": {},
   "outputs": [
    {
     "data": {
      "text/html": [],
      "text/plain": [
       "<IPython.core.display.HTML object>"
      ]
     },
     "metadata": {},
     "output_type": "display_data"
    },
    {
     "name": "stderr",
     "output_type": "stream",
     "text": [
      "Fitted model: NeuralNetTorch/37c68077 ...\n",
      "\t0.6744\t = Validation score   (accuracy)\n",
      "\t2.25s\t = Training   runtime\n",
      "\t0.01s\t = Validation runtime\n",
      "Fitted model: NeuralNetTorch/8e8aaf42 ...\n",
      "\t0.6977\t = Validation score   (accuracy)\n",
      "\t2.5s\t = Training   runtime\n",
      "\t0.01s\t = Validation runtime\n",
      "Fitted model: NeuralNetTorch/e51688ff ...\n",
      "\t0.7442\t = Validation score   (accuracy)\n",
      "\t3.07s\t = Training   runtime\n",
      "\t0.01s\t = Validation runtime\n",
      "Fitted model: NeuralNetTorch/41d56024 ...\n",
      "\t0.6977\t = Validation score   (accuracy)\n",
      "\t2.28s\t = Training   runtime\n",
      "\t0.01s\t = Validation runtime\n",
      "Fitting model: LightGBMLarge ... Training model for up to 8.3s of the 100.69s of remaining time.\n",
      "\tWarning: Exception caused LightGBMLarge to fail during training... Skipping this model.\n",
      "\t\t\n",
      "Detailed Traceback:\n",
      "Traceback (most recent call last):\n",
      "  File \"/home/mibbels/miniconda3/envs/automl_env/lib/python3.8/site-packages/autogluon/core/trainer/abstract_trainer.py\", line 1544, in _train_and_save\n",
      "    model = self._train_single(X, y, model, X_val, y_val, total_resources=total_resources, **model_fit_kwargs)\n",
      "  File \"/home/mibbels/miniconda3/envs/automl_env/lib/python3.8/site-packages/autogluon/core/trainer/abstract_trainer.py\", line 1485, in _train_single\n",
      "    model = model.fit(X=X, y=y, X_val=X_val, y_val=y_val, total_resources=total_resources, **model_fit_kwargs)\n",
      "  File \"/home/mibbels/miniconda3/envs/automl_env/lib/python3.8/site-packages/autogluon/core/models/abstract/abstract_model.py\", line 803, in fit\n",
      "    kwargs = self._preprocess_fit_args(**kwargs)\n",
      "  File \"/home/mibbels/miniconda3/envs/automl_env/lib/python3.8/site-packages/autogluon/core/models/abstract/abstract_model.py\", line 488, in _preprocess_fit_args\n",
      "    kwargs = self._preprocess_fit_resources(**kwargs)\n",
      "  File \"/home/mibbels/miniconda3/envs/automl_env/lib/python3.8/site-packages/autogluon/core/models/abstract/abstract_model.py\", line 714, in _preprocess_fit_resources\n",
      "    return self._calculate_total_resources(silent=silent, total_resources=total_resources, parallel_hpo=parallel_hpo, **kwargs)\n",
      "  File \"/home/mibbels/miniconda3/envs/automl_env/lib/python3.8/site-packages/autogluon/core/models/abstract/abstract_model.py\", line 654, in _calculate_total_resources\n",
      "    assert system_num_cpus >= num_cpus\n",
      "AssertionError\n",
      "Fitting model: WeightedEnsemble_L2 ... Training model for up to 119.94s of the 100.19s of remaining time.\n",
      "\t0.8605\t = Validation score   (accuracy)\n",
      "\t0.37s\t = Training   runtime\n",
      "\t0.0s\t = Validation runtime\n",
      "AutoGluon training complete, total runtime = 20.2s ... Best model: \"WeightedEnsemble_L2\"\n",
      "TabularPredictor saved. To load, use: predictor = TabularPredictor.load(\"test/agl/1/\")\n"
     ]
    },
    {
     "name": "stdout",
     "output_type": "stream",
     "text": [
      "[<AutoMLWrapper.automlwrapper.ModelInfo.ModelInfo object at 0x7feed40fafa0>]\n"
     ]
    }
   ],
   "source": [
    "agl = AutoMLWrapper('autogluon')\n",
    "agl.SetOutputDirectory('test/agl/1')\n",
    "if 1:\n",
    "    agl.Train(data=df, target_column='Type',\n",
    "       task_type='classification',\n",
    "       data_type='tabular',\n",
    "       problem_type='multiclass',\n",
    "       hyperparameters=user_hp\n",
    "   )\n",
    "\n",
    "\n",
    "if 1:\n",
    "    print(agl.Output())\n",
    "    agl.MlflowUploadBest({})"
   ]
  },
  {
   "cell_type": "code",
   "execution_count": 5,
   "metadata": {},
   "outputs": [
    {
     "name": "stdout",
     "output_type": "stream",
     "text": [
      "Reloading Tuner from test/akr/1/structured_data_classifier/tuner0.json\n",
      "Epoch 1/20\n",
      "7/7 [==============================] - 1s 3ms/step - loss: 2.2221 - accuracy: 0.1776\n",
      "Epoch 2/20\n",
      "7/7 [==============================] - 0s 2ms/step - loss: 2.1238 - accuracy: 0.1729\n",
      "Epoch 3/20\n",
      "7/7 [==============================] - 0s 2ms/step - loss: 2.0415 - accuracy: 0.2009\n",
      "Epoch 4/20\n",
      "7/7 [==============================] - 0s 2ms/step - loss: 1.8563 - accuracy: 0.2850\n",
      "Epoch 5/20\n",
      "7/7 [==============================] - 0s 3ms/step - loss: 1.9296 - accuracy: 0.2243\n",
      "Epoch 6/20\n",
      "7/7 [==============================] - 0s 2ms/step - loss: 1.8053 - accuracy: 0.2850\n",
      "Epoch 7/20\n",
      "7/7 [==============================] - 0s 2ms/step - loss: 1.8098 - accuracy: 0.2430\n",
      "Epoch 8/20\n",
      "7/7 [==============================] - 0s 2ms/step - loss: 1.7948 - accuracy: 0.2991\n",
      "Epoch 9/20\n",
      "7/7 [==============================] - 0s 3ms/step - loss: 1.7302 - accuracy: 0.3224\n",
      "Epoch 10/20\n",
      "7/7 [==============================] - 0s 3ms/step - loss: 1.7362 - accuracy: 0.3037\n",
      "Epoch 11/20\n",
      "7/7 [==============================] - 0s 3ms/step - loss: 1.6427 - accuracy: 0.3271\n",
      "Epoch 12/20\n",
      "7/7 [==============================] - 0s 3ms/step - loss: 1.6249 - accuracy: 0.4112\n",
      "Epoch 13/20\n",
      "7/7 [==============================] - 0s 3ms/step - loss: 1.6262 - accuracy: 0.3505\n",
      "Epoch 14/20\n",
      "7/7 [==============================] - 0s 2ms/step - loss: 1.5610 - accuracy: 0.3925\n",
      "Epoch 15/20\n",
      "7/7 [==============================] - 0s 2ms/step - loss: 1.5779 - accuracy: 0.3972\n",
      "Epoch 16/20\n",
      "7/7 [==============================] - 0s 2ms/step - loss: 1.4457 - accuracy: 0.4159\n",
      "Epoch 17/20\n",
      "7/7 [==============================] - 0s 2ms/step - loss: 1.5033 - accuracy: 0.4112\n",
      "Epoch 18/20\n",
      "7/7 [==============================] - 0s 2ms/step - loss: 1.4951 - accuracy: 0.4159\n",
      "Epoch 19/20\n",
      "7/7 [==============================] - 0s 2ms/step - loss: 1.5150 - accuracy: 0.4252\n",
      "Epoch 20/20\n",
      "7/7 [==============================] - 0s 3ms/step - loss: 1.4209 - accuracy: 0.4252\n",
      "INFO:tensorflow:Assets written to: test/akr/1/structured_data_classifier/best_model/assets\n",
      "[<AutoMLWrapper.automlwrapper.ModelInfo.ModelInfo object at 0x7feff80abfa0>]\n"
     ]
    },
    {
     "name": "stderr",
     "output_type": "stream",
     "text": [
      "2023/11/29 18:19:58 WARNING mlflow.tensorflow: You are saving a TensorFlow Core model or Keras model without a signature. Inference with mlflow.pyfunc.spark_udf() will not work unless the model's pyfunc representation accepts pandas DataFrames as inference inputs.\n"
     ]
    },
    {
     "name": "stdout",
     "output_type": "stream",
     "text": [
      "INFO:tensorflow:Assets written to: /tmp/tmp804gi4et/model/data/model/assets\n"
     ]
    },
    {
     "name": "stderr",
     "output_type": "stream",
     "text": [
      "2023/11/29 18:20:04 WARNING mlflow.utils.environment: Encountered an unexpected error while inferring pip requirements (model URI: /tmp/tmp804gi4et/model, flavor: tensorflow), fall back to return ['tensorflow==2.13.1']. Set logging level to DEBUG to see the full traceback.\n"
     ]
    }
   ],
   "source": [
    "akr = AutoMLWrapper('autokeras')\n",
    "akr.SetOutputDirectory('test/akr/1')\n",
    "if 1:\n",
    "    akr.Train(data=df, target_column='Type',\n",
    "        task_type='classification',\n",
    "        data_type='tabular',\n",
    "        problem_type='multiclass',\n",
    "        hyperparameters=user_hp\n",
    "    )\n",
    "\n",
    "if 1:\n",
    "    print(akr.Output())\n",
    "    akr.MlflowUploadBest({})"
   ]
  },
  {
   "cell_type": "markdown",
   "metadata": {},
   "source": [
    "# MLFlow\n",
    "~/miniconda3/envs/automl_env/bin/pip"
   ]
  },
  {
   "cell_type": "code",
   "execution_count": 6,
   "metadata": {},
   "outputs": [],
   "source": [
    "# import mlflow\n",
    "# #experiment_id = mlflow.create_experiment('test_automl', artifact_location='/home/mibbels/sedar-masterarbeit/sedar/sedar/automl/tmp/artifacts')\n",
    "\n",
    "\n",
    "# experiment_id = 5\n",
    "# remote_server_uri = \"http://localhost:6798\"\n",
    "# mlflow.set_tracking_uri(remote_server_uri) \n",
    "# mlflow.set_experiment(experiment_id=experiment_id)"
   ]
  },
  {
   "cell_type": "code",
   "execution_count": 7,
   "metadata": {},
   "outputs": [],
   "source": [
    "# out = agl.Output()\n",
    "# out"
   ]
  },
  {
   "cell_type": "code",
   "execution_count": 8,
   "metadata": {},
   "outputs": [],
   "source": [
    "# agl.Output()\n",
    "# agl.MlflowUploadBest({})\n",
    "# #ask.MlflowUploadTopN(3, {})"
   ]
  }
 ],
 "metadata": {
  "kernelspec": {
   "display_name": "AutoML",
   "language": "python",
   "name": "python3"
  },
  "language_info": {
   "codemirror_mode": {
    "name": "ipython",
    "version": 3
   },
   "file_extension": ".py",
   "mimetype": "text/x-python",
   "name": "python",
   "nbconvert_exporter": "python",
   "pygments_lexer": "ipython3",
   "version": "3.8.18"
  }
 },
 "nbformat": 4,
 "nbformat_minor": 2
}

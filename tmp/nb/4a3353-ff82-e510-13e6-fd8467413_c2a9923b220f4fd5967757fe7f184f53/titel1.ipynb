{
 "cells": [
  {
   "cell_type": "code",
   "execution_count": null,
   "id": "faf6e3c6",
   "metadata": {},
   "outputs": [],
   "source": [
    "\n",
    "import os\n",
    "import warnings\n",
    "import pandas as pd       \n",
    "import requests\n",
    "\n",
    "from automlwrapper import AutoMLWrapper\n",
    "from sedarapi import SedarAPI\n"
   ]
  },
  {
   "cell_type": "code",
   "execution_count": null,
   "id": "d203053d",
   "metadata": {},
   "outputs": [],
   "source": [
    "\n",
    "experiment_id = \"{experiment_id}\"\n",
    "remote_server_uri = \"{os.environ['MLFLOW_TRACKING_URI']}\"\n",
    "mlflow.set_tracking_uri(remote_server_uri) \n",
    "mlflow.set_experiment(experiment_id=experiment_id)\n"
   ]
  },
  {
   "cell_type": "code",
   "execution_count": null,
   "id": "5a8dc678",
   "metadata": {},
   "outputs": [],
   "source": [
    "\n",
    "base_url = \"http://192.168.220.107:5000\"\n",
    "email = \"admin\"\n",
    "password = \"admin\"\n",
    "\n",
    "sedar = SedarAPI(base_url)\n",
    "sedar.connection.logger.setLevel(\"INFO\") \n",
    "\n",
    "sedar.login(email, password)\n",
    "\n",
    "ws = sedar.get_workspace(\"13b4787c3e454649aa05a4cd680edc37\") \n",
    "dataset = ws.get_dataset(\"986f2e837ca44f3e8c0ee7d2dc0c4287\")\n",
    "\n",
    "query_string = f\"SELECT * FROM {dataset.id}\"\n",
    "try:\n",
    "    query_result = dataset.query_sourcedata(query_string)\n",
    "    glass_schema = pd.DataFrame.from_dict(query_result['body'])\n",
    "except Exception as e:\n",
    "    print(e)\n"
   ]
  },
  {
   "cell_type": "code",
   "execution_count": null,
   "id": "007d8df4",
   "metadata": {},
   "outputs": [],
   "source": [
    "\n",
    "wrapper = AutoMLWrapper('autokeras')\n",
    "wrapper.Train(\n",
    "    data=glass_schema,\n",
    "    target_column='Type',\n",
    "    task_type='classification',\n",
    "    data_type='tabular',\n",
    "    problem_type='multiclass',\n",
    "    hyperparameters={}\n",
    ")\n",
    "wrapper.MlflowUploadBest({})\n"
   ]
  },
  {
   "cell_type": "code",
   "execution_count": null,
   "id": "b8975f15",
   "metadata": {},
   "outputs": [],
   "source": [
    "\n",
    "    data = {\n",
    "    \"notebook_id\":\"36f4628c-ef0c-41e1-9e85-5fed85e346fa\",\n",
    "    \"run_id\":run_id,\n",
    "    \"experiment_id\":experiment_id\n",
    "   }\n",
    "res = requests.post(url = \"http://192.168.220.107:5000/api/v1/workspaces/13b4787c3e454649aa05a4cd680edc37/add-mlrun/986f2e837ca44f3e8c0ee7d2dc0c4287\", data=data)    \n"
   ]
  }
 ],
 "metadata": {},
 "nbformat": 4,
 "nbformat_minor": 5
}
